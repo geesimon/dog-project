{
 "cells": [
  {
   "cell_type": "markdown",
   "metadata": {},
   "source": [
    "# Artificial Intelligence Nanodegree\n",
    "\n",
    "## Convolutional Neural Networks\n",
    "\n",
    "## Project: Write an Algorithm for a Dog Identification App \n",
    "\n",
    "---\n",
    "\n",
    "In this notebook, some template code has already been provided for you, and you will need to implement additional functionality to successfully complete this project. You will not need to modify the included code beyond what is requested. Sections that begin with **'(IMPLEMENTATION)'** in the header indicate that the following block of code will require additional functionality which you must provide. Instructions will be provided for each section, and the specifics of the implementation are marked in the code block with a 'TODO' statement. Please be sure to read the instructions carefully! \n",
    "\n",
    "> **Note**: Once you have completed all of the code implementations, you need to finalize your work by exporting the iPython Notebook as an HTML document. Before exporting the notebook to html, all of the code cells need to have been run so that reviewers can see the final implementation and output. You can then export the notebook by using the menu above and navigating to  \\n\",\n",
    "    \"**File -> Download as -> HTML (.html)**. Include the finished document along with this notebook as your submission.\n",
    "\n",
    "In addition to implementing code, there will be questions that you must answer which relate to the project and your implementation. Each section where you will answer a question is preceded by a **'Question X'** header. Carefully read each question and provide thorough answers in the following text boxes that begin with **'Answer:'**. Your project submission will be evaluated based on your answers to each of the questions and the implementation you provide.\n",
    "\n",
    ">**Note:** Code and Markdown cells can be executed using the **Shift + Enter** keyboard shortcut.  Markdown cells can be edited by double-clicking the cell to enter edit mode.\n",
    "\n",
    "The rubric contains _optional_ \"Stand Out Suggestions\" for enhancing the project beyond the minimum requirements. If you decide to pursue the \"Stand Out Suggestions\", you should include the code in this IPython notebook.\n",
    "\n",
    "\n",
    "\n",
    "---\n",
    "### Why We're Here \n",
    "\n",
    "In this notebook, you will make the first steps towards developing an algorithm that could be used as part of a mobile or web app.  At the end of this project, your code will accept any user-supplied image as input.  If a dog is detected in the image, it will provide an estimate of the dog's breed.  If a human is detected, it will provide an estimate of the dog breed that is most resembling.  The image below displays potential sample output of your finished project (... but we expect that each student's algorithm will behave differently!). \n",
    "\n",
    "![Sample Dog Output](images/sample_dog_output.png)\n",
    "\n",
    "In this real-world setting, you will need to piece together a series of models to perform different tasks; for instance, the algorithm that detects humans in an image will be different from the CNN that infers dog breed.  There are many points of possible failure, and no perfect algorithm exists.  Your imperfect solution will nonetheless create a fun user experience!\n",
    "\n",
    "### The Road Ahead\n",
    "\n",
    "We break the notebook into separate steps.  Feel free to use the links below to navigate the notebook.\n",
    "\n",
    "* [Step 0](#step0): Import Datasets\n",
    "* [Step 1](#step1): Detect Humans\n",
    "* [Step 2](#step2): Detect Dogs\n",
    "* [Step 3](#step3): Create a CNN to Classify Dog Breeds (from Scratch)\n",
    "* [Step 4](#step4): Use a CNN to Classify Dog Breeds (using Transfer Learning)\n",
    "* [Step 5](#step5): Create a CNN to Classify Dog Breeds (using Transfer Learning)\n",
    "* [Step 6](#step6): Write your Algorithm\n",
    "* [Step 7](#step7): Test Your Algorithm\n",
    "\n",
    "---\n",
    "<a id='step0'></a>\n",
    "## Step 0: Import Datasets\n",
    "\n",
    "### Import Dog Dataset\n",
    "\n",
    "In the code cell below, we import a dataset of dog images.  We populate a few variables through the use of the `load_files` function from the scikit-learn library:\n",
    "- `train_files`, `valid_files`, `test_files` - numpy arrays containing file paths to images\n",
    "- `train_targets`, `valid_targets`, `test_targets` - numpy arrays containing onehot-encoded classification labels \n",
    "- `dog_names` - list of string-valued dog breed names for translating labels"
   ]
  },
  {
   "cell_type": "code",
   "execution_count": 43,
   "metadata": {},
   "outputs": [
    {
     "name": "stdout",
     "output_type": "stream",
     "text": [
      "There are 133 total dog categories.\n",
      "There are 7829 total dog images.\n",
      "\n",
      "There are 6680 training dog images.\n",
      "There are 313 validation dog images.\n",
      "There are 836 test dog images.\n"
     ]
    }
   ],
   "source": [
    "from sklearn.datasets import load_files       \n",
    "from keras.utils import np_utils\n",
    "import numpy as np\n",
    "from glob import glob\n",
    "\n",
    "# define function to load train, test, and validation datasets\n",
    "def load_dataset(path):\n",
    "    data = load_files(path)\n",
    "    dog_files = np.array(data['filenames'])\n",
    "    dog_targets = np_utils.to_categorical(np.array(data['target']), 133)\n",
    "    return dog_files, dog_targets\n",
    "\n",
    "# load train, test, and validation datasets\n",
    "train_files, train_targets = load_dataset('dogImages/train')\n",
    "valid_files, valid_targets = load_dataset('dogImages/valid')\n",
    "test_files, test_targets = load_dataset('dogImages/test')\n",
    "\n",
    "# load list of dog names\n",
    "dog_names = [item[20:-1] for item in sorted(glob(\"dogImages/train/*/\"))]\n",
    "\n",
    "# print statistics about the dataset\n",
    "print('There are %d total dog categories.' % len(dog_names))\n",
    "print('There are %s total dog images.\\n' % len(np.hstack([train_files, valid_files, test_files])))\n",
    "print('There are %d training dog images.' % len(train_files))\n",
    "print('There are %d validation dog images.' % len(valid_files))\n",
    "print('There are %d test dog images.'% len(test_files))"
   ]
  },
  {
   "cell_type": "markdown",
   "metadata": {},
   "source": [
    "### Import Human Dataset\n",
    "\n",
    "In the code cell below, we import a dataset of human images, where the file paths are stored in the numpy array `human_files`."
   ]
  },
  {
   "cell_type": "code",
   "execution_count": 44,
   "metadata": {},
   "outputs": [
    {
     "name": "stdout",
     "output_type": "stream",
     "text": [
      "There are 13233 total human images.\n"
     ]
    }
   ],
   "source": [
    "import random\n",
    "random.seed(8675309)\n",
    "\n",
    "# load filenames in shuffled human dataset\n",
    "human_files = np.array(glob(\"lfw/*/*\"))\n",
    "random.shuffle(human_files)\n",
    "\n",
    "# print statistics about the dataset\n",
    "print('There are %d total human images.' % len(human_files))"
   ]
  },
  {
   "cell_type": "markdown",
   "metadata": {},
   "source": [
    "---\n",
    "<a id='step1'></a>\n",
    "## Step 1: Detect Humans\n",
    "\n",
    "We use OpenCV's implementation of [Haar feature-based cascade classifiers](http://docs.opencv.org/trunk/d7/d8b/tutorial_py_face_detection.html) to detect human faces in images.  OpenCV provides many pre-trained face detectors, stored as XML files on [github](https://github.com/opencv/opencv/tree/master/data/haarcascades).  We have downloaded one of these detectors and stored it in the `haarcascades` directory.\n",
    "\n",
    "In the next code cell, we demonstrate how to use this detector to find human faces in a sample image."
   ]
  },
  {
   "cell_type": "code",
   "execution_count": 45,
   "metadata": {
    "scrolled": true
   },
   "outputs": [
    {
     "name": "stdout",
     "output_type": "stream",
     "text": [
      "Number of faces detected: 1\n"
     ]
    },
    {
     "data": {
      "image/png": "[encoded data removed]",
      "text/plain": [
       "<matplotlib.figure.Figure at 0x1e8345f1048>"
      ]
     },
     "metadata": {},
     "output_type": "display_data"
    }
   ],
   "source": [
    "import cv2                \n",
    "import matplotlib.pyplot as plt                        \n",
    "%matplotlib inline                               \n",
    "\n",
    "# extract pre-trained face detector\n",
    "face_cascade = cv2.CascadeClassifier('haarcascades/haarcascade_frontalface_alt.xml')\n",
    "\n",
    "# load color (BGR) image\n",
    "img = cv2.imread(human_files[3])\n",
    "\n",
    "# convert BGR image to grayscale\n",
    "gray = cv2.cvtColor(img, cv2.COLOR_BGR2GRAY)\n",
    "\n",
    "# find faces in image\n",
    "faces = face_cascade.detectMultiScale(gray)\n",
    "\n",
    "# print number of faces detected in the image\n",
    "print('Number of faces detected:', len(faces))\n",
    "\n",
    "# get bounding box for each detected face\n",
    "for (x,y,w,h) in faces:\n",
    "    # add bounding box to color image\n",
    "    cv2.rectangle(img,(x,y),(x+w,y+h),(255,0,0),2)\n",
    "    \n",
    "# convert BGR image to RGB for plotting\n",
    "cv_rgb = cv2.cvtColor(img, cv2.COLOR_BGR2RGB)\n",
    "\n",
    "# display the image, along with bounding box\n",
    "plt.imshow(cv_rgb)\n",
    "plt.show()"
   ]
  },
  {
   "cell_type": "markdown",
   "metadata": {},
   "source": [
    "Before using any of the face detectors, it is standard procedure to convert the images to grayscale.  The `detectMultiScale` function executes the classifier stored in `face_cascade` and takes the grayscale image as a parameter.  \n",
    "\n",
    "In the above code, `faces` is a numpy array of detected faces, where each row corresponds to a detected face.  Each detected face is a 1D array with four entries that specifies the bounding box of the detected face.  The first two entries in the array (extracted in the above code as `x` and `y`) specify the horizontal and vertical positions of the top left corner of the bounding box.  The last two entries in the array (extracted here as `w` and `h`) specify the width and height of the box.\n",
    "\n",
    "### Write a Human Face Detector\n",
    "\n",
    "We can use this procedure to write a function that returns `True` if a human face is detected in an image and `False` otherwise.  This function, aptly named `face_detector`, takes a string-valued file path to an image as input and appears in the code block below."
   ]
  },
  {
   "cell_type": "code",
   "execution_count": 46,
   "metadata": {
    "collapsed": true
   },
   "outputs": [],
   "source": [
    "# returns \"True\" if face is detected in image stored at img_path\n",
    "def face_detector(img_path):\n",
    "    img = cv2.imread(img_path)\n",
    "    gray = cv2.cvtColor(img, cv2.COLOR_BGR2GRAY)\n",
    "    faces = face_cascade.detectMultiScale(gray)\n",
    "    return len(faces) > 0"
   ]
  },
  {
   "cell_type": "markdown",
   "metadata": {},
   "source": [
    "### (IMPLEMENTATION) Assess the Human Face Detector\n",
    "\n",
    "__Question 1:__ Use the code cell below to test the performance of the `face_detector` function.  \n",
    "- What percentage of the first 100 images in `human_files` have a detected human face?  \n",
    "- What percentage of the first 100 images in `dog_files` have a detected human face? \n",
    "\n",
    "Ideally, we would like 100% of human images with a detected face and 0% of dog images with a detected face.  You will see that our algorithm falls short of this goal, but still gives acceptable performance.  We extract the file paths for the first 100 images from each of the datasets and store them in the numpy arrays `human_files_short` and `dog_files_short`.\n",
    "\n",
    "__Answer:__ "
   ]
  },
  {
   "cell_type": "code",
   "execution_count": 47,
   "metadata": {},
   "outputs": [
    {
     "name": "stdout",
     "output_type": "stream",
     "text": [
      "99 percent of the first 100 images in human_files have a detected human face \n",
      "11 percent of the first 100 images in dog_files have a detected human face \n"
     ]
    }
   ],
   "source": [
    "human_files_short = human_files[:100]\n",
    "dog_files_short = train_files[:100]\n",
    "# Do NOT modify the code above this line.\n",
    "\n",
    "## TODO: Test the performance of the face_detector algorithm \n",
    "## on the images in human_files_short and dog_files_short.\n",
    "\n",
    "human_face_detected = 0\n",
    "for human in human_files_short:\n",
    "    if face_detector(human):\n",
    "        human_face_detected += 1\n",
    "        \n",
    "print('%d percent of the first 100 images in human_files have a detected human face '% human_face_detected)\n",
    "\n",
    "human_face_detected = 0\n",
    "for dog in dog_files_short:\n",
    "    if face_detector(dog):\n",
    "        human_face_detected += 1\n",
    "        \n",
    "print('%d percent of the first 100 images in dog_files have a detected human face '% human_face_detected)"
   ]
  },
  {
   "cell_type": "markdown",
   "metadata": {},
   "source": [
    "__Question 2:__ This algorithmic choice necessitates that we communicate to the user that we accept human images only when they provide a clear view of a face (otherwise, we risk having unneccessarily frustrated users!). In your opinion, is this a reasonable expectation to pose on the user? If not, can you think of a way to detect humans in images that does not necessitate an image with a clearly presented face?\n",
    "\n",
    "__Answer:__\n",
    "\n",
    "We suggest the face detector from OpenCV as a potential way to detect human images in your algorithm, but you are free to explore other approaches, especially approaches that make use of deep learning :).  Please use the code cell below to design and test your own face detection algorithm.  If you decide to pursue this _optional_ task, report performance on each of the datasets."
   ]
  },
  {
   "cell_type": "markdown",
   "metadata": {},
   "source": [
    "__To answer the question:__ If our goal is to only detect human in the image, using face detector could be limited. In picture that people show their back or only have side face, such approach will not work. Alternatively, we can make a classifier only to classify human vs. non-human. This probably will give us better results.\n",
    "\n",
    "We will try to make a human detector using HOG."
   ]
  },
  {
   "cell_type": "code",
   "execution_count": 80,
   "metadata": {},
   "outputs": [
    {
     "name": "stdout",
     "output_type": "stream",
     "text": [
      "18 percent of the first 100 images in human_files have a detected human\n",
      "20 percent of the first 100 images in dog_files have a detected human\n"
     ]
    }
   ],
   "source": [
    "## (Optional) TODO: Report the performance of another  \n",
    "## face detection algorithm on the LFW dataset\n",
    "### Feel free to use as many code cells as needed.\n",
    "\n",
    "\n",
    "hog = cv2.HOGDescriptor()\n",
    "hog.setSVMDetector(cv2.HOGDescriptor_getDefaultPeopleDetector())\n",
    "\n",
    "def human_detector(img_path):\n",
    "    img = cv2.imread(img_path)\n",
    "    gray = cv2.cvtColor(img, cv2.COLOR_BGR2GRAY)\n",
    "    humans = hog.detectMultiScale(gray, winStride=(8,8), padding=(32, 32), scale=1.05)\n",
    "    return len(humans[0]) > 0\n",
    "\n",
    "human_detected = 0\n",
    "for human in human_files_short:\n",
    "    if human_detector(human):\n",
    "        human_detected += 1\n",
    "        \n",
    "print('%d percent of the first 100 images in human_files have a detected human'% human_detected)\n",
    "\n",
    "human_detected = 0\n",
    "for dog in dog_files_short:\n",
    "    if human_detector(dog):\n",
    "        human_detected += 1\n",
    "        \n",
    "print('%d percent of the first 100 images in dog_files have a detected human'% human_detected)"
   ]
  },
  {
   "cell_type": "markdown",
   "metadata": {},
   "source": [
    "__Sadly, the results is not as good as face detection approach. One possible reason is most images in the test set are face images.__"
   ]
  },
  {
   "cell_type": "markdown",
   "metadata": {},
   "source": [
    "---\n",
    "<a id='step2'></a>\n",
    "## Step 2: Detect Dogs\n",
    "\n",
    "In this section, we use a pre-trained [ResNet-50](http://ethereon.github.io/netscope/#/gist/db945b393d40bfa26006) model to detect dogs in images.  Our first line of code downloads the ResNet-50 model, along with weights that have been trained on [ImageNet](http://www.image-net.org/), a very large, very popular dataset used for image classification and other vision tasks.  ImageNet contains over 10 million URLs, each linking to an image containing an object from one of [1000 categories](https://gist.github.com/yrevar/942d3a0ac09ec9e5eb3a).  Given an image, this pre-trained ResNet-50 model returns a prediction (derived from the available categories in ImageNet) for the object that is contained in the image."
   ]
  },
  {
   "cell_type": "code",
   "execution_count": 49,
   "metadata": {},
   "outputs": [],
   "source": [
    "from keras.applications.resnet50 import ResNet50\n",
    "\n",
    "# define ResNet50 model\n",
    "ResNet50_model = ResNet50(weights='imagenet')"
   ]
  },
  {
   "cell_type": "markdown",
   "metadata": {},
   "source": [
    "### Pre-process the Data\n",
    "\n",
    "When using TensorFlow as backend, Keras CNNs require a 4D array (which we'll also refer to as a 4D tensor) as input, with shape\n",
    "\n",
    "$$\n",
    "(\\text{nb_samples}, \\text{rows}, \\text{columns}, \\text{channels}),\n",
    "$$\n",
    "\n",
    "where `nb_samples` corresponds to the total number of images (or samples), and `rows`, `columns`, and `channels` correspond to the number of rows, columns, and channels for each image, respectively.  \n",
    "\n",
    "The `path_to_tensor` function below takes a string-valued file path to a color image as input and returns a 4D tensor suitable for supplying to a Keras CNN.  The function first loads the image and resizes it to a square image that is $224 \\times 224$ pixels.  Next, the image is converted to an array, which is then resized to a 4D tensor.  In this case, since we are working with color images, each image has three channels.  Likewise, since we are processing a single image (or sample), the returned tensor will always have shape\n",
    "\n",
    "$$\n",
    "(1, 224, 224, 3).\n",
    "$$\n",
    "\n",
    "The `paths_to_tensor` function takes a numpy array of string-valued image paths as input and returns a 4D tensor with shape \n",
    "\n",
    "$$\n",
    "(\\text{nb_samples}, 224, 224, 3).\n",
    "$$\n",
    "\n",
    "Here, `nb_samples` is the number of samples, or number of images, in the supplied array of image paths.  It is best to think of `nb_samples` as the number of 3D tensors (where each 3D tensor corresponds to a different image) in your dataset!"
   ]
  },
  {
   "cell_type": "code",
   "execution_count": 50,
   "metadata": {
    "collapsed": true
   },
   "outputs": [],
   "source": [
    "from keras.preprocessing import image                  \n",
    "from tqdm import tqdm\n",
    "\n",
    "def path_to_tensor(img_path):\n",
    "    # loads RGB image as PIL.Image.Image type\n",
    "    img = image.load_img(img_path, target_size=(224, 224))\n",
    "    # convert PIL.Image.Image type to 3D tensor with shape (224, 224, 3)\n",
    "    x = image.img_to_array(img)\n",
    "    # convert 3D tensor to 4D tensor with shape (1, 224, 224, 3) and return 4D tensor\n",
    "    return np.expand_dims(x, axis=0)\n",
    "\n",
    "def paths_to_tensor(img_paths):\n",
    "    list_of_tensors = [path_to_tensor(img_path) for img_path in tqdm(img_paths)]\n",
    "    return np.vstack(list_of_tensors)"
   ]
  },
  {
   "cell_type": "markdown",
   "metadata": {},
   "source": [
    "### Making Predictions with ResNet-50\n",
    "\n",
    "Getting the 4D tensor ready for ResNet-50, and for any other pre-trained model in Keras, requires some additional processing.  First, the RGB image is converted to BGR by reordering the channels.  All pre-trained models have the additional normalization step that the mean pixel (expressed in RGB as $[103.939, 116.779, 123.68]$ and calculated from all pixels in all images in ImageNet) must be subtracted from every pixel in each image.  This is implemented in the imported function `preprocess_input`.  If you're curious, you can check the code for `preprocess_input` [here](https://github.com/fchollet/keras/blob/master/keras/applications/imagenet_utils.py).\n",
    "\n",
    "Now that we have a way to format our image for supplying to ResNet-50, we are now ready to use the model to extract the predictions.  This is accomplished with the `predict` method, which returns an array whose $i$-th entry is the model's predicted probability that the image belongs to the $i$-th ImageNet category.  This is implemented in the `ResNet50_predict_labels` function below.\n",
    "\n",
    "By taking the argmax of the predicted probability vector, we obtain an integer corresponding to the model's predicted object class, which we can identify with an object category through the use of this [dictionary](https://gist.github.com/yrevar/942d3a0ac09ec9e5eb3a). "
   ]
  },
  {
   "cell_type": "code",
   "execution_count": 51,
   "metadata": {
    "collapsed": true
   },
   "outputs": [],
   "source": [
    "from keras.applications.resnet50 import preprocess_input, decode_predictions\n",
    "\n",
    "def ResNet50_predict_labels(img_path):\n",
    "    # returns prediction vector for image located at img_path\n",
    "    img = preprocess_input(path_to_tensor(img_path))\n",
    "    return np.argmax(ResNet50_model.predict(img))"
   ]
  },
  {
   "cell_type": "markdown",
   "metadata": {},
   "source": [
    "### Write a Dog Detector\n",
    "\n",
    "While looking at the [dictionary](https://gist.github.com/yrevar/942d3a0ac09ec9e5eb3a), you will notice that the categories corresponding to dogs appear in an uninterrupted sequence and correspond to dictionary keys 151-268, inclusive, to include all categories from `'Chihuahua'` to `'Mexican hairless'`.  Thus, in order to check to see if an image is predicted to contain a dog by the pre-trained ResNet-50 model, we need only check if the `ResNet50_predict_labels` function above returns a value between 151 and 268 (inclusive).\n",
    "\n",
    "We use these ideas to complete the `dog_detector` function below, which returns `True` if a dog is detected in an image (and `False` if not)."
   ]
  },
  {
   "cell_type": "code",
   "execution_count": 52,
   "metadata": {
    "collapsed": true
   },
   "outputs": [],
   "source": [
    "### returns \"True\" if a dog is detected in the image stored at img_path\n",
    "def dog_detector(img_path):\n",
    "    prediction = ResNet50_predict_labels(img_path)\n",
    "    return ((prediction <= 268) & (prediction >= 151)) "
   ]
  },
  {
   "cell_type": "markdown",
   "metadata": {},
   "source": [
    "### (IMPLEMENTATION) Assess the Dog Detector\n",
    "\n",
    "__Question 3:__ Use the code cell below to test the performance of your `dog_detector` function.  \n",
    "- What percentage of the images in `human_files_short` have a detected dog?  \n",
    "- What percentage of the images in `dog_files_short` have a detected dog?\n",
    "\n",
    "__Answer:__ "
   ]
  },
  {
   "cell_type": "code",
   "execution_count": 53,
   "metadata": {},
   "outputs": [
    {
     "name": "stdout",
     "output_type": "stream",
     "text": [
      "1 percent of the images in human_files_short have a detected dog\n",
      "100 percent of the images in dog_files_short have a detected dog\n"
     ]
    }
   ],
   "source": [
    "### TODO: Test the performance of the dog_detector function\n",
    "### on the images in human_files_short and dog_files_short.\n",
    "\n",
    "dog_detected = 0\n",
    "for human in human_files_short:\n",
    "    if dog_detector(human):\n",
    "        dog_detected += 1\n",
    "        \n",
    "print('%d percent of the images in human_files_short have a detected dog'% dog_detected)\n",
    "\n",
    "dog_detected = 0\n",
    "for dog in dog_files_short:\n",
    "    if dog_detector(dog):\n",
    "        dog_detected += 1\n",
    "        \n",
    "print('%d percent of the images in dog_files_short have a detected dog'% dog_detected)"
   ]
  },
  {
   "cell_type": "markdown",
   "metadata": {},
   "source": [
    "---\n",
    "<a id='step3'></a>\n",
    "## Step 3: Create a CNN to Classify Dog Breeds (from Scratch)\n",
    "\n",
    "Now that we have functions for detecting humans and dogs in images, we need a way to predict breed from images.  In this step, you will create a CNN that classifies dog breeds.  You must create your CNN _from scratch_ (so, you can't use transfer learning _yet_!), and you must attain a test accuracy of at least 1%.  In Step 5 of this notebook, you will have the opportunity to use transfer learning to create a CNN that attains greatly improved accuracy.\n",
    "\n",
    "Be careful with adding too many trainable layers!  More parameters means longer training, which means you are more likely to need a GPU to accelerate the training process.  Thankfully, Keras provides a handy estimate of the time that each epoch is likely to take; you can extrapolate this estimate to figure out how long it will take for your algorithm to train. \n",
    "\n",
    "We mention that the task of assigning breed to dogs from images is considered exceptionally challenging.  To see why, consider that *even a human* would have great difficulty in distinguishing between a Brittany and a Welsh Springer Spaniel.  \n",
    "\n",
    "Brittany | Welsh Springer Spaniel\n",
    "- | - \n",
    "<img src=\"images/Brittany_02625.jpg\" width=\"100\"> | <img src=\"images/Welsh_springer_spaniel_08203.jpg\" width=\"200\">\n",
    "\n",
    "It is not difficult to find other dog breed pairs with minimal inter-class variation (for instance, Curly-Coated Retrievers and American Water Spaniels).  \n",
    "\n",
    "Curly-Coated Retriever | American Water Spaniel\n",
    "- | -\n",
    "<img src=\"images/Curly-coated_retriever_03896.jpg\" width=\"200\"> | <img src=\"images/American_water_spaniel_00648.jpg\" width=\"200\">\n",
    "\n",
    "\n",
    "Likewise, recall that labradors come in yellow, chocolate, and black.  Your vision-based algorithm will have to conquer this high intra-class variation to determine how to classify all of these different shades as the same breed.  \n",
    "\n",
    "Yellow Labrador | Chocolate Labrador | Black Labrador\n",
    "- | -\n",
    "<img src=\"images/Labrador_retriever_06457.jpg\" width=\"150\"> | <img src=\"images/Labrador_retriever_06455.jpg\" width=\"240\"> | <img src=\"images/Labrador_retriever_06449.jpg\" width=\"220\">\n",
    "\n",
    "We also mention that random chance presents an exceptionally low bar: setting aside the fact that the classes are slightly imabalanced, a random guess will provide a correct answer roughly 1 in 133 times, which corresponds to an accuracy of less than 1%.  \n",
    "\n",
    "Remember that the practice is far ahead of the theory in deep learning.  Experiment with many different architectures, and trust your intuition.  And, of course, have fun! \n",
    "\n",
    "### Pre-process the Data\n",
    "\n",
    "We rescale the images by dividing every pixel in every image by 255."
   ]
  },
  {
   "cell_type": "code",
   "execution_count": 54,
   "metadata": {},
   "outputs": [
    {
     "name": "stderr",
     "output_type": "stream",
     "text": [
      "100%|█████████████████████████████████████████████████████████████████████████████| 6680/6680 [00:57<00:00, 116.07it/s]\n",
      "100%|███████████████████████████████████████████████████████████████████████████████| 313/313 [00:02<00:00, 108.10it/s]\n",
      "100%|███████████████████████████████████████████████████████████████████████████████| 836/836 [00:06<00:00, 127.69it/s]\n"
     ]
    }
   ],
   "source": [
    "from PIL import ImageFile                            \n",
    "ImageFile.LOAD_TRUNCATED_IMAGES = True                 \n",
    "\n",
    "# pre-process the data for Keras\n",
    "train_tensors = paths_to_tensor(train_files).astype('float32')/255\n",
    "valid_tensors = paths_to_tensor(valid_files).astype('float32')/255\n",
    "test_tensors = paths_to_tensor(test_files).astype('float32')/255"
   ]
  },
  {
   "cell_type": "markdown",
   "metadata": {},
   "source": [
    "### (IMPLEMENTATION) Model Architecture\n",
    "\n",
    "Create a CNN to classify dog breed.  At the end of your code cell block, summarize the layers of your model by executing the line:\n",
    "    \n",
    "        model.summary()\n",
    "\n",
    "We have imported some Python modules to get you started, but feel free to import as many modules as you need.  If you end up getting stuck, here's a hint that specifies a model that trains relatively fast on CPU and attains >1% test accuracy in 5 epochs:\n",
    "\n",
    "![Sample CNN](images/sample_cnn.png)\n",
    "           \n",
    "__Question 4:__ Outline the steps you took to get to your final CNN architecture and your reasoning at each step.  If you chose to use the hinted architecture above, describe why you think that CNN architecture should work well for the image classification task.\n",
    "\n",
    "__Answer:__ "
   ]
  },
  {
   "cell_type": "code",
   "execution_count": 55,
   "metadata": {},
   "outputs": [
    {
     "name": "stdout",
     "output_type": "stream",
     "text": [
      "_________________________________________________________________\n",
      "Layer (type)                 Output Shape              Param #   \n",
      "=================================================================\n",
      "conv2d_4 (Conv2D)            (None, 224, 224, 16)      208       \n",
      "_________________________________________________________________\n",
      "max_pooling2d_9 (MaxPooling2 (None, 112, 112, 16)      0         \n",
      "_________________________________________________________________\n",
      "conv2d_5 (Conv2D)            (None, 112, 112, 32)      2080      \n",
      "_________________________________________________________________\n",
      "max_pooling2d_10 (MaxPooling (None, 56, 56, 32)        0         \n",
      "_________________________________________________________________\n",
      "conv2d_6 (Conv2D)            (None, 56, 56, 64)        8256      \n",
      "_________________________________________________________________\n",
      "max_pooling2d_11 (MaxPooling (None, 28, 28, 64)        0         \n",
      "_________________________________________________________________\n",
      "global_average_pooling2d_6 ( (None, 64)                0         \n",
      "_________________________________________________________________\n",
      "dense_6 (Dense)              (None, 133)               8645      \n",
      "=================================================================\n",
      "Total params: 19,189\n",
      "Trainable params: 19,189\n",
      "Non-trainable params: 0\n",
      "_________________________________________________________________\n"
     ]
    }
   ],
   "source": [
    "from keras.layers import Conv2D, MaxPooling2D, GlobalAveragePooling2D\n",
    "from keras.layers import Dropout, Flatten, Dense\n",
    "from keras.models import Sequential\n",
    "\n",
    "model = Sequential()\n",
    "\n",
    "### TODO: Define your architecture.\n",
    "\n",
    "model.add(Conv2D(filters=16, kernel_size=2, padding='same', activation='relu', input_shape=train_tensors.shape[1:]))\n",
    "model.add(MaxPooling2D(pool_size=2))\n",
    "model.add(Conv2D(filters=32, kernel_size=2, padding='same', activation='relu'))\n",
    "model.add(MaxPooling2D(pool_size=2))\n",
    "model.add(Conv2D(filters=64, kernel_size=2, padding='same', activation='relu'))\n",
    "model.add(MaxPooling2D(pool_size=2))\n",
    "model.add(GlobalAveragePooling2D(input_shape=(28, 28, 64)))\n",
    "#model.add(Flatten())\n",
    "#model.add(Dense(500, activation='relu'))\n",
    "model.add(Dense(133, activation='softmax'))\n",
    "\n",
    "model.summary()"
   ]
  },
  {
   "cell_type": "markdown",
   "metadata": {},
   "source": [
    "### Compile the Model"
   ]
  },
  {
   "cell_type": "code",
   "execution_count": 56,
   "metadata": {
    "collapsed": true
   },
   "outputs": [],
   "source": [
    "model.compile(optimizer='rmsprop', loss='categorical_crossentropy', metrics=['accuracy'])"
   ]
  },
  {
   "cell_type": "markdown",
   "metadata": {},
   "source": [
    "### (IMPLEMENTATION) Train the Model\n",
    "\n",
    "Train your model in the code cell below.  Use model checkpointing to save the model that attains the best validation loss.\n",
    "\n",
    "You are welcome to [augment the training data](https://blog.keras.io/building-powerful-image-classification-models-using-very-little-data.html), but this is not a requirement. "
   ]
  },
  {
   "cell_type": "code",
   "execution_count": 57,
   "metadata": {},
   "outputs": [
    {
     "name": "stdout",
     "output_type": "stream",
     "text": [
      "Train on 6680 samples, validate on 313 samples\n",
      "Epoch 1/20\n",
      "6680/6680 [==============================] - ETA: 15:17 - loss: 4.8852 - acc: 0.0000e+ - ETA: 5:12 - loss: 4.8958 - acc: 0.0000e+00 - ETA: 3:10 - loss: 4.8950 - acc: 0.0100    - ETA: 2:19 - loss: 4.8969 - acc: 0.007 - ETA: 1:50 - loss: 4.8950 - acc: 0.005 - ETA: 1:31 - loss: 4.8943 - acc: 0.009 - ETA: 1:18 - loss: 4.8925 - acc: 0.007 - ETA: 1:09 - loss: 4.8930 - acc: 0.006 - ETA: 1:02 - loss: 4.8925 - acc: 0.008 - ETA: 56s - loss: 4.8918 - acc: 0.007 - ETA: 51s - loss: 4.8913 - acc: 0.00 - ETA: 48s - loss: 4.8911 - acc: 0.01 - ETA: 44s - loss: 4.8899 - acc: 0.01 - ETA: 42s - loss: 4.8905 - acc: 0.01 - ETA: 39s - loss: 4.8906 - acc: 0.01 - ETA: 37s - loss: 4.8910 - acc: 0.01 - ETA: 35s - loss: 4.8908 - acc: 0.01 - ETA: 34s - loss: 4.8905 - acc: 0.01 - ETA: 32s - loss: 4.8900 - acc: 0.01 - ETA: 31s - loss: 4.8900 - acc: 0.01 - ETA: 30s - loss: 4.8899 - acc: 0.01 - ETA: 29s - loss: 4.8895 - acc: 0.01 - ETA: 27s - loss: 4.8890 - acc: 0.01 - ETA: 27s - loss: 4.8891 - acc: 0.01 - ETA: 26s - loss: 4.8890 - acc: 0.01 - ETA: 25s - loss: 4.8882 - acc: 0.01 - ETA: 24s - loss: 4.8889 - acc: 0.01 - ETA: 23s - loss: 4.8891 - acc: 0.01 - ETA: 23s - loss: 4.8892 - acc: 0.01 - ETA: 22s - loss: 4.8899 - acc: 0.01 - ETA: 22s - loss: 4.8896 - acc: 0.01 - ETA: 21s - loss: 4.8900 - acc: 0.00 - ETA: 21s - loss: 4.8901 - acc: 0.00 - ETA: 20s - loss: 4.8897 - acc: 0.01 - ETA: 20s - loss: 4.8899 - acc: 0.01 - ETA: 19s - loss: 4.8901 - acc: 0.01 - ETA: 19s - loss: 4.8902 - acc: 0.01 - ETA: 19s - loss: 4.8904 - acc: 0.01 - ETA: 18s - loss: 4.8905 - acc: 0.00 - ETA: 18s - loss: 4.8910 - acc: 0.00 - ETA: 17s - loss: 4.8909 - acc: 0.01 - ETA: 17s - loss: 4.8908 - acc: 0.01 - ETA: 17s - loss: 4.8906 - acc: 0.01 - ETA: 16s - loss: 4.8905 - acc: 0.01 - ETA: 16s - loss: 4.8902 - acc: 0.01 - ETA: 16s - loss: 4.8900 - acc: 0.01 - ETA: 15s - loss: 4.8896 - acc: 0.00 - ETA: 15s - loss: 4.8894 - acc: 0.01 - ETA: 15s - loss: 4.8898 - acc: 0.00 - ETA: 15s - loss: 4.8899 - acc: 0.00 - ETA: 14s - loss: 4.8898 - acc: 0.00 - ETA: 14s - loss: 4.8895 - acc: 0.00 - ETA: 14s - loss: 4.8890 - acc: 0.00 - ETA: 14s - loss: 4.8887 - acc: 0.00 - ETA: 13s - loss: 4.8887 - acc: 0.00 - ETA: 13s - loss: 4.8888 - acc: 0.00 - ETA: 13s - loss: 4.8885 - acc: 0.00 - ETA: 13s - loss: 4.8891 - acc: 0.00 - ETA: 13s - loss: 4.8892 - acc: 0.00 - ETA: 12s - loss: 4.8893 - acc: 0.00 - ETA: 12s - loss: 4.8892 - acc: 0.00 - ETA: 12s - loss: 4.8892 - acc: 0.00 - ETA: 12s - loss: 4.8893 - acc: 0.00 - ETA: 12s - loss: 4.8892 - acc: 0.00 - ETA: 11s - loss: 4.8889 - acc: 0.00 - ETA: 11s - loss: 4.8891 - acc: 0.00 - ETA: 11s - loss: 4.8892 - acc: 0.00 - ETA: 11s - loss: 4.8888 - acc: 0.00 - ETA: 11s - loss: 4.8888 - acc: 0.00 - ETA: 11s - loss: 4.8887 - acc: 0.00 - ETA: 10s - loss: 4.8885 - acc: 0.00 - ETA: 10s - loss: 4.8887 - acc: 0.00 - ETA: 10s - loss: 4.8883 - acc: 0.00 - ETA: 10s - loss: 4.8881 - acc: 0.00 - ETA: 10s - loss: 4.8882 - acc: 0.00 - ETA: 10s - loss: 4.8886 - acc: 0.00 - ETA: 9s - loss: 4.8885 - acc: 0.0093 - ETA: 9s - loss: 4.8885 - acc: 0.009 - ETA: 9s - loss: 4.8884 - acc: 0.009 - ETA: 9s - loss: 4.8882 - acc: 0.009 - ETA: 9s - loss: 4.8880 - acc: 0.009 - ETA: 9s - loss: 4.8880 - acc: 0.009 - ETA: 9s - loss: 4.8883 - acc: 0.009 - ETA: 8s - loss: 4.8881 - acc: 0.009 - ETA: 8s - loss: 4.8881 - acc: 0.009 - ETA: 8s - loss: 4.8881 - acc: 0.009 - ETA: 8s - loss: 4.8880 - acc: 0.009 - ETA: 8s - loss: 4.8880 - acc: 0.009 - ETA: 8s - loss: 4.8883 - acc: 0.009 - ETA: 8s - loss: 4.8880 - acc: 0.009 - ETA: 8s - loss: 4.8878 - acc: 0.009 - ETA: 7s - loss: 4.8878 - acc: 0.009 - ETA: 7s - loss: 4.8877 - acc: 0.009 - ETA: 7s - loss: 4.8878 - acc: 0.009 - ETA: 7s - loss: 4.8876 - acc: 0.009 - ETA: 7s - loss: 4.8877 - acc: 0.009 - ETA: 7s - loss: 4.8877 - acc: 0.009 - ETA: 7s - loss: 4.8877 - acc: 0.009 - ETA: 6s - loss: 4.8877 - acc: 0.009 - ETA: 6s - loss: 4.8878 - acc: 0.009 - ETA: 6s - loss: 4.8876 - acc: 0.009 - ETA: 6s - loss: 4.8876 - acc: 0.009 - ETA: 6s - loss: 4.8877 - acc: 0.009 - ETA: 6s - loss: 4.8877 - acc: 0.009 - ETA: 6s - loss: 4.8876 - acc: 0.009 - ETA: 6s - loss: 4.8876 - acc: 0.010 - ETA: 6s - loss: 4.8876 - acc: 0.010 - ETA: 6s - loss: 4.8876 - acc: 0.009 - ETA: 5s - loss: 4.8873 - acc: 0.010 - ETA: 5s - loss: 4.8872 - acc: 0.010 - ETA: 5s - loss: 4.8871 - acc: 0.010 - ETA: 5s - loss: 4.8871 - acc: 0.010 - ETA: 5s - loss: 4.8869 - acc: 0.010 - ETA: 5s - loss: 4.8865 - acc: 0.010 - ETA: 5s - loss: 4.8863 - acc: 0.010 - ETA: 5s - loss: 4.8862 - acc: 0.010 - ETA: 5s - loss: 4.8859 - acc: 0.010 - ETA: 4s - loss: 4.8856 - acc: 0.010 - ETA: 4s - loss: 4.8856 - acc: 0.010 - ETA: 4s - loss: 4.8859 - acc: 0.010 - ETA: 4s - loss: 4.8857 - acc: 0.010 - ETA: 4s - loss: 4.8855 - acc: 0.010 - ETA: 4s - loss: 4.8851 - acc: 0.010 - ETA: 4s - loss: 4.8857 - acc: 0.010 - ETA: 4s - loss: 4.8857 - acc: 0.010 - ETA: 4s - loss: 4.8857 - acc: 0.010 - ETA: 3s - loss: 4.8857 - acc: 0.010 - ETA: 3s - loss: 4.8854 - acc: 0.010 - ETA: 3s - loss: 4.8857 - acc: 0.010 - ETA: 3s - loss: 4.8857 - acc: 0.010 - ETA: 3s - loss: 4.8853 - acc: 0.010 - ETA: 3s - loss: 4.8850 - acc: 0.010 - ETA: 3s - loss: 4.8850 - acc: 0.010 - ETA: 3s - loss: 4.8851 - acc: 0.010 - ETA: 3s - loss: 4.8850 - acc: 0.010 - ETA: 3s - loss: 4.8849 - acc: 0.010 - ETA: 2s - loss: 4.8847 - acc: 0.010 - ETA: 2s - loss: 4.8846 - acc: 0.010 - ETA: 2s - loss: 4.8846 - acc: 0.010 - ETA: 2s - loss: 4.8847 - acc: 0.010 - ETA: 2s - loss: 4.8845 - acc: 0.010 - ETA: 2s - loss: 4.8844 - acc: 0.010 - ETA: 2s - loss: 4.8842 - acc: 0.010 - ETA: 2s - loss: 4.8843 - acc: 0.010 - ETA: 2s - loss: 4.8844 - acc: 0.010 - ETA: 2s - loss: 4.8842 - acc: 0.010 - ETA: 2s - loss: 4.8841 - acc: 0.010 - ETA: 1s - loss: 4.8843 - acc: 0.010 - ETA: 1s - loss: 4.8844 - acc: 0.010 - ETA: 1s - loss: 4.8843 - acc: 0.010 - ETA: 1s - loss: 4.8842 - acc: 0.010 - ETA: 1s - loss: 4.8844 - acc: 0.010 - ETA: 1s - loss: 4.8842 - acc: 0.010 - ETA: 1s - loss: 4.8844 - acc: 0.010 - ETA: 1s - loss: 4.8845 - acc: 0.010 - ETA: 1s - loss: 4.8845 - acc: 0.010 - ETA: 1s - loss: 4.8844 - acc: 0.010 - ETA: 0s - loss: 4.8844 - acc: 0.010 - ETA: 0s - loss: 4.8843 - acc: 0.010 - ETA: 0s - loss: 4.8841 - acc: 0.010 - ETA: 0s - loss: 4.8839 - acc: 0.010 - ETA: 0s - loss: 4.8837 - acc: 0.010 - ETA: 0s - loss: 4.8840 - acc: 0.010 - ETA: 0s - loss: 4.8839 - acc: 0.010 - ETA: 0s - loss: 4.8839 - acc: 0.010 - ETA: 0s - loss: 4.8838 - acc: 0.010 - ETA: 0s - loss: 4.8838 - acc: 0.010 - ETA: 0s - loss: 4.8836 - acc: 0.011 - 15s 2ms/step - loss: 4.8836 - acc: 0.0109 - val_loss: 4.7828 - val_acc: 0.0000e+00\n",
      "\n",
      "Epoch 00001: val_loss improved from inf to 4.78282, saving model to saved_models/weights.best.from_scratch.hdf5\n",
      "Epoch 2/20\n"
     ]
    },
    {
     "name": "stdout",
     "output_type": "stream",
     "text": [
      "6680/6680 [==============================] - ETA: 15s - loss: 4.7961 - acc: 0.05 - ETA: 13s - loss: 4.8298 - acc: 0.01 - ETA: 12s - loss: 4.8520 - acc: 0.01 - ETA: 12s - loss: 4.8619 - acc: 0.00 - ETA: 12s - loss: 4.8637 - acc: 0.00 - ETA: 11s - loss: 4.8757 - acc: 0.00 - ETA: 11s - loss: 4.8771 - acc: 0.00 - ETA: 11s - loss: 4.8802 - acc: 0.00 - ETA: 11s - loss: 4.8755 - acc: 0.00 - ETA: 11s - loss: 4.8748 - acc: 0.00 - ETA: 11s - loss: 4.8708 - acc: 0.00 - ETA: 11s - loss: 4.8696 - acc: 0.00 - ETA: 11s - loss: 4.8740 - acc: 0.00 - ETA: 11s - loss: 4.8728 - acc: 0.00 - ETA: 11s - loss: 4.8736 - acc: 0.00 - ETA: 11s - loss: 4.8711 - acc: 0.00 - ETA: 11s - loss: 4.8691 - acc: 0.00 - ETA: 10s - loss: 4.8679 - acc: 0.00 - ETA: 10s - loss: 4.8703 - acc: 0.00 - ETA: 10s - loss: 4.8676 - acc: 0.00 - ETA: 10s - loss: 4.8687 - acc: 0.00 - ETA: 10s - loss: 4.8686 - acc: 0.00 - ETA: 10s - loss: 4.8715 - acc: 0.00 - ETA: 10s - loss: 4.8704 - acc: 0.00 - ETA: 10s - loss: 4.8704 - acc: 0.00 - ETA: 10s - loss: 4.8687 - acc: 0.00 - ETA: 10s - loss: 4.8691 - acc: 0.00 - ETA: 10s - loss: 4.8676 - acc: 0.00 - ETA: 10s - loss: 4.8664 - acc: 0.00 - ETA: 10s - loss: 4.8677 - acc: 0.00 - ETA: 9s - loss: 4.8675 - acc: 0.0090 - ETA: 9s - loss: 4.8673 - acc: 0.009 - ETA: 9s - loss: 4.8670 - acc: 0.010 - ETA: 9s - loss: 4.8683 - acc: 0.010 - ETA: 9s - loss: 4.8684 - acc: 0.011 - ETA: 9s - loss: 4.8679 - acc: 0.012 - ETA: 9s - loss: 4.8671 - acc: 0.011 - ETA: 9s - loss: 4.8655 - acc: 0.011 - ETA: 9s - loss: 4.8641 - acc: 0.011 - ETA: 9s - loss: 4.8647 - acc: 0.012 - ETA: 9s - loss: 4.8632 - acc: 0.011 - ETA: 9s - loss: 4.8661 - acc: 0.011 - ETA: 9s - loss: 4.8646 - acc: 0.011 - ETA: 9s - loss: 4.8642 - acc: 0.012 - ETA: 8s - loss: 4.8653 - acc: 0.011 - ETA: 8s - loss: 4.8661 - acc: 0.011 - ETA: 8s - loss: 4.8670 - acc: 0.011 - ETA: 8s - loss: 4.8675 - acc: 0.011 - ETA: 8s - loss: 4.8675 - acc: 0.011 - ETA: 8s - loss: 4.8670 - acc: 0.011 - ETA: 8s - loss: 4.8664 - acc: 0.011 - ETA: 8s - loss: 4.8664 - acc: 0.011 - ETA: 8s - loss: 4.8659 - acc: 0.011 - ETA: 8s - loss: 4.8658 - acc: 0.012 - ETA: 8s - loss: 4.8647 - acc: 0.011 - ETA: 8s - loss: 4.8648 - acc: 0.011 - ETA: 8s - loss: 4.8642 - acc: 0.011 - ETA: 7s - loss: 4.8650 - acc: 0.011 - ETA: 7s - loss: 4.8645 - acc: 0.011 - ETA: 7s - loss: 4.8644 - acc: 0.011 - ETA: 7s - loss: 4.8627 - acc: 0.011 - ETA: 7s - loss: 4.8614 - acc: 0.011 - ETA: 7s - loss: 4.8628 - acc: 0.011 - ETA: 7s - loss: 4.8631 - acc: 0.011 - ETA: 7s - loss: 4.8628 - acc: 0.011 - ETA: 7s - loss: 4.8619 - acc: 0.012 - ETA: 7s - loss: 4.8624 - acc: 0.012 - ETA: 7s - loss: 4.8626 - acc: 0.012 - ETA: 7s - loss: 4.8619 - acc: 0.012 - ETA: 7s - loss: 4.8614 - acc: 0.012 - ETA: 6s - loss: 4.8603 - acc: 0.012 - ETA: 6s - loss: 4.8605 - acc: 0.011 - ETA: 6s - loss: 4.8600 - acc: 0.012 - ETA: 6s - loss: 4.8596 - acc: 0.012 - ETA: 6s - loss: 4.8597 - acc: 0.012 - ETA: 6s - loss: 4.8602 - acc: 0.012 - ETA: 6s - loss: 4.8596 - acc: 0.012 - ETA: 6s - loss: 4.8600 - acc: 0.012 - ETA: 6s - loss: 4.8602 - acc: 0.012 - ETA: 6s - loss: 4.8602 - acc: 0.012 - ETA: 6s - loss: 4.8601 - acc: 0.012 - ETA: 6s - loss: 4.8602 - acc: 0.012 - ETA: 6s - loss: 4.8601 - acc: 0.012 - ETA: 6s - loss: 4.8595 - acc: 0.012 - ETA: 5s - loss: 4.8599 - acc: 0.012 - ETA: 5s - loss: 4.8601 - acc: 0.012 - ETA: 5s - loss: 4.8598 - acc: 0.012 - ETA: 5s - loss: 4.8596 - acc: 0.012 - ETA: 5s - loss: 4.8599 - acc: 0.012 - ETA: 5s - loss: 4.8600 - acc: 0.012 - ETA: 5s - loss: 4.8612 - acc: 0.012 - ETA: 5s - loss: 4.8613 - acc: 0.012 - ETA: 5s - loss: 4.8616 - acc: 0.012 - ETA: 5s - loss: 4.8618 - acc: 0.012 - ETA: 5s - loss: 4.8615 - acc: 0.012 - ETA: 5s - loss: 4.8619 - acc: 0.011 - ETA: 5s - loss: 4.8620 - acc: 0.011 - ETA: 5s - loss: 4.8618 - acc: 0.011 - ETA: 5s - loss: 4.8614 - acc: 0.012 - ETA: 4s - loss: 4.8612 - acc: 0.011 - ETA: 4s - loss: 4.8616 - acc: 0.011 - ETA: 4s - loss: 4.8614 - acc: 0.011 - ETA: 4s - loss: 4.8611 - acc: 0.011 - ETA: 4s - loss: 4.8614 - acc: 0.011 - ETA: 4s - loss: 4.8617 - acc: 0.011 - ETA: 4s - loss: 4.8618 - acc: 0.011 - ETA: 4s - loss: 4.8618 - acc: 0.011 - ETA: 4s - loss: 4.8614 - acc: 0.011 - ETA: 4s - loss: 4.8610 - acc: 0.011 - ETA: 4s - loss: 4.8617 - acc: 0.011 - ETA: 4s - loss: 4.8607 - acc: 0.012 - ETA: 4s - loss: 4.8605 - acc: 0.011 - ETA: 3s - loss: 4.8602 - acc: 0.011 - ETA: 3s - loss: 4.8597 - acc: 0.011 - ETA: 3s - loss: 4.8591 - acc: 0.011 - ETA: 3s - loss: 4.8586 - acc: 0.012 - ETA: 3s - loss: 4.8589 - acc: 0.011 - ETA: 3s - loss: 4.8592 - acc: 0.011 - ETA: 3s - loss: 4.8588 - acc: 0.011 - ETA: 3s - loss: 4.8589 - acc: 0.011 - ETA: 3s - loss: 4.8587 - acc: 0.011 - ETA: 3s - loss: 4.8591 - acc: 0.012 - ETA: 3s - loss: 4.8588 - acc: 0.011 - ETA: 3s - loss: 4.8593 - acc: 0.011 - ETA: 3s - loss: 4.8596 - acc: 0.011 - ETA: 3s - loss: 4.8594 - acc: 0.011 - ETA: 2s - loss: 4.8596 - acc: 0.011 - ETA: 2s - loss: 4.8595 - acc: 0.011 - ETA: 2s - loss: 4.8596 - acc: 0.011 - ETA: 2s - loss: 4.8590 - acc: 0.011 - ETA: 2s - loss: 4.8595 - acc: 0.011 - ETA: 2s - loss: 4.8594 - acc: 0.011 - ETA: 2s - loss: 4.8594 - acc: 0.011 - ETA: 2s - loss: 4.8591 - acc: 0.011 - ETA: 2s - loss: 4.8592 - acc: 0.011 - ETA: 2s - loss: 4.8592 - acc: 0.011 - ETA: 2s - loss: 4.8593 - acc: 0.011 - ETA: 2s - loss: 4.8594 - acc: 0.011 - ETA: 2s - loss: 4.8596 - acc: 0.011 - ETA: 2s - loss: 4.8597 - acc: 0.011 - ETA: 1s - loss: 4.8595 - acc: 0.011 - ETA: 1s - loss: 4.8593 - acc: 0.011 - ETA: 1s - loss: 4.8593 - acc: 0.011 - ETA: 1s - loss: 4.8591 - acc: 0.011 - ETA: 1s - loss: 4.8590 - acc: 0.011 - ETA: 1s - loss: 4.8593 - acc: 0.012 - ETA: 1s - loss: 4.8592 - acc: 0.012 - ETA: 1s - loss: 4.8593 - acc: 0.011 - ETA: 1s - loss: 4.8592 - acc: 0.012 - ETA: 1s - loss: 4.8588 - acc: 0.011 - ETA: 1s - loss: 4.8589 - acc: 0.011 - ETA: 1s - loss: 4.8587 - acc: 0.011 - ETA: 1s - loss: 4.8588 - acc: 0.011 - ETA: 1s - loss: 4.8588 - acc: 0.011 - ETA: 0s - loss: 4.8588 - acc: 0.011 - ETA: 0s - loss: 4.8587 - acc: 0.011 - ETA: 0s - loss: 4.8587 - acc: 0.011 - ETA: 0s - loss: 4.8585 - acc: 0.011 - ETA: 0s - loss: 4.8582 - acc: 0.011 - ETA: 0s - loss: 4.8581 - acc: 0.011 - ETA: 0s - loss: 4.8577 - acc: 0.011 - ETA: 0s - loss: 4.8570 - acc: 0.012 - ETA: 0s - loss: 4.8569 - acc: 0.012 - ETA: 0s - loss: 4.8571 - acc: 0.012 - ETA: 0s - loss: 4.8568 - acc: 0.012 - ETA: 0s - loss: 4.8568 - acc: 0.012 - ETA: 0s - loss: 4.8566 - acc: 0.012 - ETA: 0s - loss: 4.8566 - acc: 0.012 - 12s 2ms/step - loss: 4.8564 - acc: 0.0123 - val_loss: 4.6744 - val_acc: 0.0288\n",
      "\n",
      "Epoch 00002: val_loss improved from 4.78282 to 4.67439, saving model to saved_models/weights.best.from_scratch.hdf5\n",
      "Epoch 3/20\n"
     ]
    },
    {
     "name": "stdout",
     "output_type": "stream",
     "text": [
      "6680/6680 [==============================] - ETA: 17s - loss: 4.7505 - acc: 0.0000e+ - ETA: 13s - loss: 4.8004 - acc: 0.0167   - ETA: 12s - loss: 4.8042 - acc: 0.02 - ETA: 12s - loss: 4.8193 - acc: 0.01 - ETA: 12s - loss: 4.8228 - acc: 0.01 - ETA: 12s - loss: 4.8183 - acc: 0.01 - ETA: 11s - loss: 4.8284 - acc: 0.01 - ETA: 11s - loss: 4.8303 - acc: 0.01 - ETA: 11s - loss: 4.8303 - acc: 0.00 - ETA: 11s - loss: 4.8323 - acc: 0.00 - ETA: 11s - loss: 4.8321 - acc: 0.00 - ETA: 11s - loss: 4.8375 - acc: 0.00 - ETA: 11s - loss: 4.8386 - acc: 0.00 - ETA: 11s - loss: 4.8366 - acc: 0.00 - ETA: 11s - loss: 4.8392 - acc: 0.00 - ETA: 11s - loss: 4.8390 - acc: 0.00 - ETA: 11s - loss: 4.8349 - acc: 0.00 - ETA: 11s - loss: 4.8333 - acc: 0.00 - ETA: 11s - loss: 4.8381 - acc: 0.00 - ETA: 10s - loss: 4.8390 - acc: 0.00 - ETA: 10s - loss: 4.8387 - acc: 0.00 - ETA: 10s - loss: 4.8392 - acc: 0.00 - ETA: 10s - loss: 4.8360 - acc: 0.00 - ETA: 10s - loss: 4.8389 - acc: 0.00 - ETA: 10s - loss: 4.8389 - acc: 0.00 - ETA: 10s - loss: 4.8372 - acc: 0.00 - ETA: 10s - loss: 4.8363 - acc: 0.00 - ETA: 10s - loss: 4.8367 - acc: 0.00 - ETA: 10s - loss: 4.8369 - acc: 0.00 - ETA: 10s - loss: 4.8383 - acc: 0.00 - ETA: 10s - loss: 4.8390 - acc: 0.00 - ETA: 10s - loss: 4.8378 - acc: 0.00 - ETA: 9s - loss: 4.8370 - acc: 0.0071 - ETA: 9s - loss: 4.8351 - acc: 0.006 - ETA: 9s - loss: 4.8330 - acc: 0.006 - ETA: 9s - loss: 4.8308 - acc: 0.007 - ETA: 9s - loss: 4.8288 - acc: 0.007 - ETA: 9s - loss: 4.8288 - acc: 0.007 - ETA: 9s - loss: 4.8294 - acc: 0.007 - ETA: 9s - loss: 4.8270 - acc: 0.007 - ETA: 9s - loss: 4.8270 - acc: 0.007 - ETA: 9s - loss: 4.8261 - acc: 0.007 - ETA: 9s - loss: 4.8251 - acc: 0.007 - ETA: 9s - loss: 4.8250 - acc: 0.008 - ETA: 9s - loss: 4.8239 - acc: 0.008 - ETA: 8s - loss: 4.8248 - acc: 0.008 - ETA: 8s - loss: 4.8245 - acc: 0.008 - ETA: 8s - loss: 4.8259 - acc: 0.008 - ETA: 8s - loss: 4.8266 - acc: 0.007 - ETA: 8s - loss: 4.8266 - acc: 0.008 - ETA: 8s - loss: 4.8278 - acc: 0.008 - ETA: 8s - loss: 4.8263 - acc: 0.008 - ETA: 8s - loss: 4.8271 - acc: 0.008 - ETA: 8s - loss: 4.8267 - acc: 0.008 - ETA: 8s - loss: 4.8255 - acc: 0.008 - ETA: 8s - loss: 4.8243 - acc: 0.008 - ETA: 8s - loss: 4.8250 - acc: 0.009 - ETA: 8s - loss: 4.8233 - acc: 0.009 - ETA: 7s - loss: 4.8234 - acc: 0.009 - ETA: 7s - loss: 4.8226 - acc: 0.009 - ETA: 7s - loss: 4.8220 - acc: 0.009 - ETA: 7s - loss: 4.8209 - acc: 0.009 - ETA: 7s - loss: 4.8217 - acc: 0.009 - ETA: 7s - loss: 4.8215 - acc: 0.009 - ETA: 7s - loss: 4.8228 - acc: 0.009 - ETA: 7s - loss: 4.8230 - acc: 0.009 - ETA: 7s - loss: 4.8221 - acc: 0.009 - ETA: 7s - loss: 4.8194 - acc: 0.010 - ETA: 7s - loss: 4.8194 - acc: 0.010 - ETA: 7s - loss: 4.8211 - acc: 0.009 - ETA: 7s - loss: 4.8220 - acc: 0.009 - ETA: 7s - loss: 4.8222 - acc: 0.009 - ETA: 6s - loss: 4.8215 - acc: 0.010 - ETA: 6s - loss: 4.8225 - acc: 0.010 - ETA: 6s - loss: 4.8220 - acc: 0.010 - ETA: 6s - loss: 4.8217 - acc: 0.010 - ETA: 6s - loss: 4.8209 - acc: 0.009 - ETA: 6s - loss: 4.8202 - acc: 0.009 - ETA: 6s - loss: 4.8217 - acc: 0.009 - ETA: 6s - loss: 4.8195 - acc: 0.009 - ETA: 6s - loss: 4.8188 - acc: 0.009 - ETA: 6s - loss: 4.8187 - acc: 0.009 - ETA: 6s - loss: 4.8182 - acc: 0.009 - ETA: 6s - loss: 4.8184 - acc: 0.009 - ETA: 6s - loss: 4.8190 - acc: 0.009 - ETA: 5s - loss: 4.8178 - acc: 0.010 - ETA: 5s - loss: 4.8141 - acc: 0.009 - ETA: 5s - loss: 4.8142 - acc: 0.010 - ETA: 5s - loss: 4.8147 - acc: 0.010 - ETA: 5s - loss: 4.8143 - acc: 0.010 - ETA: 5s - loss: 4.8161 - acc: 0.010 - ETA: 5s - loss: 4.8155 - acc: 0.010 - ETA: 5s - loss: 4.8153 - acc: 0.010 - ETA: 5s - loss: 4.8150 - acc: 0.010 - ETA: 5s - loss: 4.8149 - acc: 0.010 - ETA: 5s - loss: 4.8150 - acc: 0.010 - ETA: 5s - loss: 4.8147 - acc: 0.011 - ETA: 5s - loss: 4.8145 - acc: 0.011 - ETA: 5s - loss: 4.8144 - acc: 0.011 - ETA: 4s - loss: 4.8151 - acc: 0.011 - ETA: 4s - loss: 4.8131 - acc: 0.011 - ETA: 4s - loss: 4.8129 - acc: 0.011 - ETA: 4s - loss: 4.8129 - acc: 0.011 - ETA: 4s - loss: 4.8131 - acc: 0.012 - ETA: 4s - loss: 4.8140 - acc: 0.011 - ETA: 4s - loss: 4.8137 - acc: 0.011 - ETA: 4s - loss: 4.8137 - acc: 0.012 - ETA: 4s - loss: 4.8137 - acc: 0.012 - ETA: 4s - loss: 4.8146 - acc: 0.012 - ETA: 4s - loss: 4.8150 - acc: 0.012 - ETA: 4s - loss: 4.8154 - acc: 0.011 - ETA: 4s - loss: 4.8161 - acc: 0.011 - ETA: 4s - loss: 4.8155 - acc: 0.012 - ETA: 3s - loss: 4.8158 - acc: 0.012 - ETA: 3s - loss: 4.8160 - acc: 0.012 - ETA: 3s - loss: 4.8157 - acc: 0.012 - ETA: 3s - loss: 4.8156 - acc: 0.012 - ETA: 3s - loss: 4.8152 - acc: 0.012 - ETA: 3s - loss: 4.8148 - acc: 0.012 - ETA: 3s - loss: 4.8150 - acc: 0.012 - ETA: 3s - loss: 4.8151 - acc: 0.012 - ETA: 3s - loss: 4.8151 - acc: 0.013 - ETA: 3s - loss: 4.8147 - acc: 0.013 - ETA: 3s - loss: 4.8155 - acc: 0.012 - ETA: 3s - loss: 4.8162 - acc: 0.012 - ETA: 3s - loss: 4.8169 - acc: 0.012 - ETA: 3s - loss: 4.8171 - acc: 0.012 - ETA: 2s - loss: 4.8172 - acc: 0.012 - ETA: 2s - loss: 4.8166 - acc: 0.013 - ETA: 2s - loss: 4.8161 - acc: 0.012 - ETA: 2s - loss: 4.8159 - acc: 0.013 - ETA: 2s - loss: 4.8157 - acc: 0.012 - ETA: 2s - loss: 4.8154 - acc: 0.013 - ETA: 2s - loss: 4.8158 - acc: 0.012 - ETA: 2s - loss: 4.8153 - acc: 0.012 - ETA: 2s - loss: 4.8153 - acc: 0.012 - ETA: 2s - loss: 4.8151 - acc: 0.012 - ETA: 2s - loss: 4.8157 - acc: 0.012 - ETA: 2s - loss: 4.8153 - acc: 0.012 - ETA: 2s - loss: 4.8162 - acc: 0.012 - ETA: 2s - loss: 4.8162 - acc: 0.012 - ETA: 2s - loss: 4.8167 - acc: 0.012 - ETA: 1s - loss: 4.8170 - acc: 0.012 - ETA: 1s - loss: 4.8176 - acc: 0.012 - ETA: 1s - loss: 4.8174 - acc: 0.012 - ETA: 1s - loss: 4.8174 - acc: 0.013 - ETA: 1s - loss: 4.8177 - acc: 0.013 - ETA: 1s - loss: 4.8177 - acc: 0.013 - ETA: 1s - loss: 4.8175 - acc: 0.013 - ETA: 1s - loss: 4.8171 - acc: 0.013 - ETA: 1s - loss: 4.8169 - acc: 0.013 - ETA: 1s - loss: 4.8170 - acc: 0.013 - ETA: 1s - loss: 4.8174 - acc: 0.012 - ETA: 1s - loss: 4.8172 - acc: 0.013 - ETA: 1s - loss: 4.8172 - acc: 0.012 - ETA: 1s - loss: 4.8175 - acc: 0.013 - ETA: 0s - loss: 4.8171 - acc: 0.013 - ETA: 0s - loss: 4.8170 - acc: 0.012 - ETA: 0s - loss: 4.8173 - acc: 0.013 - ETA: 0s - loss: 4.8176 - acc: 0.013 - ETA: 0s - loss: 4.8169 - acc: 0.013 - ETA: 0s - loss: 4.8178 - acc: 0.013 - ETA: 0s - loss: 4.8172 - acc: 0.013 - ETA: 0s - loss: 4.8169 - acc: 0.013 - ETA: 0s - loss: 4.8168 - acc: 0.013 - ETA: 0s - loss: 4.8164 - acc: 0.013 - ETA: 0s - loss: 4.8162 - acc: 0.013 - ETA: 0s - loss: 4.8158 - acc: 0.013 - ETA: 0s - loss: 4.8151 - acc: 0.013 - ETA: 0s - loss: 4.8147 - acc: 0.013 - ETA: 0s - loss: 4.8146 - acc: 0.013 - 12s 2ms/step - loss: 4.8149 - acc: 0.0136 - val_loss: 4.6521 - val_acc: 0.0319\n",
      "\n",
      "Epoch 00003: val_loss improved from 4.67439 to 4.65214, saving model to saved_models/weights.best.from_scratch.hdf5\n",
      "Epoch 4/20\n"
     ]
    },
    {
     "name": "stdout",
     "output_type": "stream",
     "text": [
      "6680/6680 [==============================] - ETA: 17s - loss: 4.8232 - acc: 0.0000e+ - ETA: 13s - loss: 4.7830 - acc: 0.0000e+ - ETA: 12s - loss: 4.7588 - acc: 0.0200   - ETA: 12s - loss: 4.7689 - acc: 0.02 - ETA: 12s - loss: 4.7917 - acc: 0.01 - ETA: 12s - loss: 4.7949 - acc: 0.02 - ETA: 12s - loss: 4.7780 - acc: 0.02 - ETA: 11s - loss: 4.7806 - acc: 0.02 - ETA: 11s - loss: 4.7869 - acc: 0.02 - ETA: 11s - loss: 4.7975 - acc: 0.01 - ETA: 11s - loss: 4.8017 - acc: 0.01 - ETA: 11s - loss: 4.7986 - acc: 0.01 - ETA: 11s - loss: 4.7988 - acc: 0.01 - ETA: 11s - loss: 4.7996 - acc: 0.01 - ETA: 11s - loss: 4.8013 - acc: 0.01 - ETA: 11s - loss: 4.8003 - acc: 0.01 - ETA: 11s - loss: 4.8019 - acc: 0.01 - ETA: 11s - loss: 4.7987 - acc: 0.01 - ETA: 11s - loss: 4.7984 - acc: 0.01 - ETA: 10s - loss: 4.8077 - acc: 0.01 - ETA: 10s - loss: 4.8059 - acc: 0.01 - ETA: 10s - loss: 4.8033 - acc: 0.01 - ETA: 10s - loss: 4.8059 - acc: 0.01 - ETA: 10s - loss: 4.8055 - acc: 0.01 - ETA: 10s - loss: 4.8043 - acc: 0.01 - ETA: 10s - loss: 4.7998 - acc: 0.01 - ETA: 10s - loss: 4.7991 - acc: 0.01 - ETA: 10s - loss: 4.8014 - acc: 0.01 - ETA: 10s - loss: 4.7963 - acc: 0.01 - ETA: 10s - loss: 4.7961 - acc: 0.01 - ETA: 10s - loss: 4.8003 - acc: 0.01 - ETA: 10s - loss: 4.8011 - acc: 0.01 - ETA: 9s - loss: 4.7992 - acc: 0.0180 - ETA: 9s - loss: 4.7993 - acc: 0.018 - ETA: 9s - loss: 4.7935 - acc: 0.017 - ETA: 9s - loss: 4.7902 - acc: 0.017 - ETA: 9s - loss: 4.7922 - acc: 0.017 - ETA: 9s - loss: 4.7911 - acc: 0.017 - ETA: 9s - loss: 4.7912 - acc: 0.017 - ETA: 9s - loss: 4.7957 - acc: 0.016 - ETA: 9s - loss: 4.7954 - acc: 0.017 - ETA: 9s - loss: 4.7957 - acc: 0.017 - ETA: 9s - loss: 4.7943 - acc: 0.016 - ETA: 9s - loss: 4.7953 - acc: 0.016 - ETA: 9s - loss: 4.7953 - acc: 0.016 - ETA: 8s - loss: 4.7951 - acc: 0.016 - ETA: 8s - loss: 4.7956 - acc: 0.015 - ETA: 8s - loss: 4.7967 - acc: 0.015 - ETA: 8s - loss: 4.7991 - acc: 0.015 - ETA: 8s - loss: 4.7992 - acc: 0.015 - ETA: 8s - loss: 4.7973 - acc: 0.015 - ETA: 8s - loss: 4.7956 - acc: 0.016 - ETA: 8s - loss: 4.7945 - acc: 0.016 - ETA: 8s - loss: 4.7946 - acc: 0.016 - ETA: 8s - loss: 4.7947 - acc: 0.016 - ETA: 8s - loss: 4.7947 - acc: 0.015 - ETA: 8s - loss: 4.7961 - acc: 0.015 - ETA: 8s - loss: 4.7955 - acc: 0.015 - ETA: 8s - loss: 4.7955 - acc: 0.014 - ETA: 7s - loss: 4.7954 - acc: 0.015 - ETA: 7s - loss: 4.7960 - acc: 0.015 - ETA: 7s - loss: 4.7956 - acc: 0.015 - ETA: 7s - loss: 4.7972 - acc: 0.015 - ETA: 7s - loss: 4.7938 - acc: 0.015 - ETA: 7s - loss: 4.7945 - acc: 0.015 - ETA: 7s - loss: 4.7960 - acc: 0.016 - ETA: 7s - loss: 4.7956 - acc: 0.015 - ETA: 7s - loss: 4.7972 - acc: 0.015 - ETA: 7s - loss: 4.7979 - acc: 0.016 - ETA: 7s - loss: 4.7976 - acc: 0.015 - ETA: 7s - loss: 4.7977 - acc: 0.015 - ETA: 7s - loss: 4.7955 - acc: 0.016 - ETA: 6s - loss: 4.7960 - acc: 0.016 - ETA: 6s - loss: 4.7965 - acc: 0.016 - ETA: 6s - loss: 4.7949 - acc: 0.016 - ETA: 6s - loss: 4.7942 - acc: 0.016 - ETA: 6s - loss: 4.7929 - acc: 0.016 - ETA: 6s - loss: 4.7923 - acc: 0.016 - ETA: 6s - loss: 4.7924 - acc: 0.016 - ETA: 6s - loss: 4.7913 - acc: 0.016 - ETA: 6s - loss: 4.7912 - acc: 0.016 - ETA: 6s - loss: 4.7901 - acc: 0.016 - ETA: 6s - loss: 4.7898 - acc: 0.017 - ETA: 6s - loss: 4.7891 - acc: 0.017 - ETA: 6s - loss: 4.7906 - acc: 0.017 - ETA: 6s - loss: 4.7903 - acc: 0.017 - ETA: 5s - loss: 4.7908 - acc: 0.017 - ETA: 5s - loss: 4.7893 - acc: 0.017 - ETA: 5s - loss: 4.7896 - acc: 0.017 - ETA: 5s - loss: 4.7899 - acc: 0.017 - ETA: 5s - loss: 4.7905 - acc: 0.017 - ETA: 5s - loss: 4.7913 - acc: 0.017 - ETA: 5s - loss: 4.7916 - acc: 0.017 - ETA: 5s - loss: 4.7913 - acc: 0.017 - ETA: 5s - loss: 4.7919 - acc: 0.017 - ETA: 5s - loss: 4.7904 - acc: 0.017 - ETA: 5s - loss: 4.7893 - acc: 0.017 - ETA: 5s - loss: 4.7891 - acc: 0.017 - ETA: 5s - loss: 4.7888 - acc: 0.017 - ETA: 5s - loss: 4.7901 - acc: 0.016 - ETA: 4s - loss: 4.7898 - acc: 0.016 - ETA: 4s - loss: 4.7891 - acc: 0.017 - ETA: 4s - loss: 4.7892 - acc: 0.016 - ETA: 4s - loss: 4.7904 - acc: 0.016 - ETA: 4s - loss: 4.7901 - acc: 0.016 - ETA: 4s - loss: 4.7896 - acc: 0.016 - ETA: 4s - loss: 4.7894 - acc: 0.016 - ETA: 4s - loss: 4.7907 - acc: 0.016 - ETA: 4s - loss: 4.7910 - acc: 0.016 - ETA: 4s - loss: 4.7915 - acc: 0.016 - ETA: 4s - loss: 4.7919 - acc: 0.016 - ETA: 4s - loss: 4.7917 - acc: 0.015 - ETA: 4s - loss: 4.7920 - acc: 0.016 - ETA: 3s - loss: 4.7907 - acc: 0.016 - ETA: 3s - loss: 4.7903 - acc: 0.016 - ETA: 3s - loss: 4.7906 - acc: 0.016 - ETA: 3s - loss: 4.7902 - acc: 0.016 - ETA: 3s - loss: 4.7907 - acc: 0.016 - ETA: 3s - loss: 4.7910 - acc: 0.016 - ETA: 3s - loss: 4.7907 - acc: 0.016 - ETA: 3s - loss: 4.7911 - acc: 0.016 - ETA: 3s - loss: 4.7922 - acc: 0.016 - ETA: 3s - loss: 4.7917 - acc: 0.016 - ETA: 3s - loss: 4.7919 - acc: 0.016 - ETA: 3s - loss: 4.7916 - acc: 0.016 - ETA: 3s - loss: 4.7917 - acc: 0.016 - ETA: 3s - loss: 4.7913 - acc: 0.016 - ETA: 2s - loss: 4.7909 - acc: 0.016 - ETA: 2s - loss: 4.7910 - acc: 0.016 - ETA: 2s - loss: 4.7905 - acc: 0.017 - ETA: 2s - loss: 4.7903 - acc: 0.017 - ETA: 2s - loss: 4.7902 - acc: 0.017 - ETA: 2s - loss: 4.7910 - acc: 0.017 - ETA: 2s - loss: 4.7909 - acc: 0.017 - ETA: 2s - loss: 4.7909 - acc: 0.017 - ETA: 2s - loss: 4.7911 - acc: 0.017 - ETA: 2s - loss: 4.7900 - acc: 0.017 - ETA: 2s - loss: 4.7901 - acc: 0.017 - ETA: 2s - loss: 4.7891 - acc: 0.017 - ETA: 2s - loss: 4.7895 - acc: 0.017 - ETA: 2s - loss: 4.7886 - acc: 0.017 - ETA: 1s - loss: 4.7888 - acc: 0.017 - ETA: 1s - loss: 4.7882 - acc: 0.017 - ETA: 1s - loss: 4.7882 - acc: 0.017 - ETA: 1s - loss: 4.7869 - acc: 0.017 - ETA: 1s - loss: 4.7872 - acc: 0.017 - ETA: 1s - loss: 4.7882 - acc: 0.017 - ETA: 1s - loss: 4.7874 - acc: 0.017 - ETA: 1s - loss: 4.7873 - acc: 0.017 - ETA: 1s - loss: 4.7866 - acc: 0.017 - ETA: 1s - loss: 4.7862 - acc: 0.017 - ETA: 1s - loss: 4.7855 - acc: 0.018 - ETA: 1s - loss: 4.7868 - acc: 0.018 - ETA: 1s - loss: 4.7862 - acc: 0.018 - ETA: 1s - loss: 4.7864 - acc: 0.018 - ETA: 1s - loss: 4.7862 - acc: 0.018 - ETA: 0s - loss: 4.7862 - acc: 0.018 - ETA: 0s - loss: 4.7863 - acc: 0.018 - ETA: 0s - loss: 4.7861 - acc: 0.018 - ETA: 0s - loss: 4.7857 - acc: 0.018 - ETA: 0s - loss: 4.7859 - acc: 0.018 - ETA: 0s - loss: 4.7857 - acc: 0.018 - ETA: 0s - loss: 4.7854 - acc: 0.018 - ETA: 0s - loss: 4.7859 - acc: 0.018 - ETA: 0s - loss: 4.7862 - acc: 0.017 - ETA: 0s - loss: 4.7860 - acc: 0.017 - ETA: 0s - loss: 4.7849 - acc: 0.018 - ETA: 0s - loss: 4.7839 - acc: 0.018 - ETA: 0s - loss: 4.7832 - acc: 0.018 - 12s 2ms/step - loss: 4.7829 - acc: 0.0183 - val_loss: 4.5961 - val_acc: 0.0351\n",
      "\n",
      "Epoch 00004: val_loss improved from 4.65214 to 4.59605, saving model to saved_models/weights.best.from_scratch.hdf5\n",
      "Epoch 5/20\n"
     ]
    },
    {
     "name": "stdout",
     "output_type": "stream",
     "text": [
      "6680/6680 [==============================] - ETA: 20s - loss: 4.8322 - acc: 0.0000e+ - ETA: 14s - loss: 4.8093 - acc: 0.0167   - ETA: 13s - loss: 4.7854 - acc: 0.02 - ETA: 13s - loss: 4.7556 - acc: 0.02 - ETA: 12s - loss: 4.7526 - acc: 0.01 - ETA: 12s - loss: 4.7525 - acc: 0.02 - ETA: 11s - loss: 4.7673 - acc: 0.01 - ETA: 12s - loss: 4.7734 - acc: 0.01 - ETA: 11s - loss: 4.7707 - acc: 0.01 - ETA: 12s - loss: 4.7692 - acc: 0.01 - ETA: 11s - loss: 4.7796 - acc: 0.01 - ETA: 11s - loss: 4.7750 - acc: 0.01 - ETA: 11s - loss: 4.7677 - acc: 0.02 - ETA: 11s - loss: 4.7671 - acc: 0.02 - ETA: 11s - loss: 4.7607 - acc: 0.01 - ETA: 11s - loss: 4.7670 - acc: 0.01 - ETA: 11s - loss: 4.7705 - acc: 0.01 - ETA: 11s - loss: 4.7691 - acc: 0.01 - ETA: 11s - loss: 4.7635 - acc: 0.01 - ETA: 11s - loss: 4.7671 - acc: 0.01 - ETA: 11s - loss: 4.7637 - acc: 0.01 - ETA: 10s - loss: 4.7582 - acc: 0.02 - ETA: 10s - loss: 4.7623 - acc: 0.02 - ETA: 10s - loss: 4.7651 - acc: 0.02 - ETA: 10s - loss: 4.7680 - acc: 0.02 - ETA: 10s - loss: 4.7682 - acc: 0.02 - ETA: 10s - loss: 4.7631 - acc: 0.02 - ETA: 10s - loss: 4.7678 - acc: 0.02 - ETA: 10s - loss: 4.7715 - acc: 0.02 - ETA: 10s - loss: 4.7710 - acc: 0.02 - ETA: 10s - loss: 4.7707 - acc: 0.02 - ETA: 10s - loss: 4.7708 - acc: 0.02 - ETA: 10s - loss: 4.7719 - acc: 0.02 - ETA: 10s - loss: 4.7719 - acc: 0.02 - ETA: 9s - loss: 4.7697 - acc: 0.0208 - ETA: 9s - loss: 4.7698 - acc: 0.022 - ETA: 9s - loss: 4.7687 - acc: 0.022 - ETA: 9s - loss: 4.7676 - acc: 0.023 - ETA: 9s - loss: 4.7668 - acc: 0.022 - ETA: 9s - loss: 4.7641 - acc: 0.022 - ETA: 9s - loss: 4.7619 - acc: 0.022 - ETA: 9s - loss: 4.7597 - acc: 0.022 - ETA: 9s - loss: 4.7613 - acc: 0.022 - ETA: 9s - loss: 4.7578 - acc: 0.022 - ETA: 9s - loss: 4.7580 - acc: 0.022 - ETA: 9s - loss: 4.7589 - acc: 0.021 - ETA: 8s - loss: 4.7580 - acc: 0.022 - ETA: 8s - loss: 4.7578 - acc: 0.022 - ETA: 8s - loss: 4.7570 - acc: 0.022 - ETA: 8s - loss: 4.7555 - acc: 0.021 - ETA: 8s - loss: 4.7559 - acc: 0.021 - ETA: 8s - loss: 4.7569 - acc: 0.021 - ETA: 8s - loss: 4.7549 - acc: 0.020 - ETA: 8s - loss: 4.7566 - acc: 0.022 - ETA: 8s - loss: 4.7558 - acc: 0.022 - ETA: 8s - loss: 4.7560 - acc: 0.022 - ETA: 8s - loss: 4.7556 - acc: 0.022 - ETA: 8s - loss: 4.7533 - acc: 0.022 - ETA: 8s - loss: 4.7526 - acc: 0.022 - ETA: 7s - loss: 4.7554 - acc: 0.022 - ETA: 7s - loss: 4.7561 - acc: 0.022 - ETA: 7s - loss: 4.7572 - acc: 0.022 - ETA: 7s - loss: 4.7589 - acc: 0.021 - ETA: 7s - loss: 4.7549 - acc: 0.021 - ETA: 7s - loss: 4.7558 - acc: 0.022 - ETA: 7s - loss: 4.7530 - acc: 0.022 - ETA: 7s - loss: 4.7541 - acc: 0.022 - ETA: 7s - loss: 4.7541 - acc: 0.022 - ETA: 7s - loss: 4.7540 - acc: 0.022 - ETA: 7s - loss: 4.7531 - acc: 0.022 - ETA: 7s - loss: 4.7533 - acc: 0.023 - ETA: 7s - loss: 4.7534 - acc: 0.023 - ETA: 7s - loss: 4.7539 - acc: 0.023 - ETA: 6s - loss: 4.7549 - acc: 0.023 - ETA: 6s - loss: 4.7545 - acc: 0.022 - ETA: 6s - loss: 4.7546 - acc: 0.022 - ETA: 6s - loss: 4.7532 - acc: 0.022 - ETA: 6s - loss: 4.7525 - acc: 0.022 - ETA: 6s - loss: 4.7527 - acc: 0.022 - ETA: 6s - loss: 4.7525 - acc: 0.023 - ETA: 6s - loss: 4.7536 - acc: 0.023 - ETA: 6s - loss: 4.7532 - acc: 0.023 - ETA: 6s - loss: 4.7534 - acc: 0.023 - ETA: 6s - loss: 4.7536 - acc: 0.023 - ETA: 6s - loss: 4.7541 - acc: 0.023 - ETA: 6s - loss: 4.7532 - acc: 0.023 - ETA: 6s - loss: 4.7532 - acc: 0.023 - ETA: 5s - loss: 4.7518 - acc: 0.023 - ETA: 5s - loss: 4.7533 - acc: 0.023 - ETA: 5s - loss: 4.7520 - acc: 0.023 - ETA: 5s - loss: 4.7523 - acc: 0.023 - ETA: 5s - loss: 4.7514 - acc: 0.023 - ETA: 5s - loss: 4.7522 - acc: 0.023 - ETA: 5s - loss: 4.7526 - acc: 0.023 - ETA: 5s - loss: 4.7504 - acc: 0.023 - ETA: 5s - loss: 4.7487 - acc: 0.023 - ETA: 5s - loss: 4.7504 - acc: 0.023 - ETA: 5s - loss: 4.7506 - acc: 0.023 - ETA: 5s - loss: 4.7491 - acc: 0.023 - ETA: 5s - loss: 4.7480 - acc: 0.023 - ETA: 5s - loss: 4.7485 - acc: 0.023 - ETA: 4s - loss: 4.7483 - acc: 0.024 - ETA: 4s - loss: 4.7488 - acc: 0.024 - ETA: 4s - loss: 4.7489 - acc: 0.023 - ETA: 4s - loss: 4.7488 - acc: 0.023 - ETA: 4s - loss: 4.7507 - acc: 0.023 - ETA: 4s - loss: 4.7502 - acc: 0.023 - ETA: 4s - loss: 4.7502 - acc: 0.023 - ETA: 4s - loss: 4.7511 - acc: 0.022 - ETA: 4s - loss: 4.7514 - acc: 0.023 - ETA: 4s - loss: 4.7506 - acc: 0.022 - ETA: 4s - loss: 4.7493 - acc: 0.023 - ETA: 4s - loss: 4.7517 - acc: 0.022 - ETA: 4s - loss: 4.7524 - acc: 0.023 - ETA: 4s - loss: 4.7534 - acc: 0.023 - ETA: 3s - loss: 4.7539 - acc: 0.023 - ETA: 3s - loss: 4.7535 - acc: 0.023 - ETA: 3s - loss: 4.7521 - acc: 0.023 - ETA: 3s - loss: 4.7512 - acc: 0.023 - ETA: 3s - loss: 4.7505 - acc: 0.023 - ETA: 3s - loss: 4.7500 - acc: 0.023 - ETA: 3s - loss: 4.7511 - acc: 0.023 - ETA: 3s - loss: 4.7519 - acc: 0.023 - ETA: 3s - loss: 4.7525 - acc: 0.022 - ETA: 3s - loss: 4.7536 - acc: 0.022 - ETA: 3s - loss: 4.7547 - acc: 0.023 - ETA: 3s - loss: 4.7550 - acc: 0.023 - ETA: 3s - loss: 4.7549 - acc: 0.022 - ETA: 3s - loss: 4.7546 - acc: 0.022 - ETA: 2s - loss: 4.7554 - acc: 0.022 - ETA: 2s - loss: 4.7547 - acc: 0.022 - ETA: 2s - loss: 4.7544 - acc: 0.022 - ETA: 2s - loss: 4.7543 - acc: 0.022 - ETA: 2s - loss: 4.7543 - acc: 0.022 - ETA: 2s - loss: 4.7536 - acc: 0.022 - ETA: 2s - loss: 4.7533 - acc: 0.022 - ETA: 2s - loss: 4.7541 - acc: 0.022 - ETA: 2s - loss: 4.7545 - acc: 0.022 - ETA: 2s - loss: 4.7543 - acc: 0.022 - ETA: 2s - loss: 4.7540 - acc: 0.022 - ETA: 2s - loss: 4.7542 - acc: 0.022 - ETA: 2s - loss: 4.7544 - acc: 0.022 - ETA: 2s - loss: 4.7558 - acc: 0.022 - ETA: 1s - loss: 4.7557 - acc: 0.022 - ETA: 1s - loss: 4.7564 - acc: 0.022 - ETA: 1s - loss: 4.7570 - acc: 0.022 - ETA: 1s - loss: 4.7565 - acc: 0.022 - ETA: 1s - loss: 4.7571 - acc: 0.021 - ETA: 1s - loss: 4.7569 - acc: 0.021 - ETA: 1s - loss: 4.7563 - acc: 0.021 - ETA: 1s - loss: 4.7557 - acc: 0.021 - ETA: 1s - loss: 4.7549 - acc: 0.022 - ETA: 1s - loss: 4.7550 - acc: 0.022 - ETA: 1s - loss: 4.7547 - acc: 0.022 - ETA: 1s - loss: 4.7551 - acc: 0.022 - ETA: 1s - loss: 4.7550 - acc: 0.022 - ETA: 1s - loss: 4.7553 - acc: 0.022 - ETA: 1s - loss: 4.7552 - acc: 0.022 - ETA: 0s - loss: 4.7552 - acc: 0.022 - ETA: 0s - loss: 4.7557 - acc: 0.022 - ETA: 0s - loss: 4.7558 - acc: 0.022 - ETA: 0s - loss: 4.7563 - acc: 0.021 - ETA: 0s - loss: 4.7560 - acc: 0.022 - ETA: 0s - loss: 4.7562 - acc: 0.021 - ETA: 0s - loss: 4.7563 - acc: 0.021 - ETA: 0s - loss: 4.7562 - acc: 0.021 - ETA: 0s - loss: 4.7577 - acc: 0.021 - ETA: 0s - loss: 4.7576 - acc: 0.021 - ETA: 0s - loss: 4.7571 - acc: 0.021 - ETA: 0s - loss: 4.7571 - acc: 0.021 - ETA: 0s - loss: 4.7570 - acc: 0.021 - ETA: 0s - loss: 4.7573 - acc: 0.021 - 12s 2ms/step - loss: 4.7573 - acc: 0.0217 - val_loss: 4.6198 - val_acc: 0.0319\n",
      "\n",
      "Epoch 00005: val_loss did not improve\n",
      "Epoch 6/20\n"
     ]
    },
    {
     "name": "stdout",
     "output_type": "stream",
     "text": [
      "6680/6680 [==============================] - ETA: 11s - loss: 4.7128 - acc: 0.0000e+ - ETA: 11s - loss: 4.6899 - acc: 0.0333   - ETA: 11s - loss: 4.6933 - acc: 0.03 - ETA: 11s - loss: 4.7421 - acc: 0.02 - ETA: 11s - loss: 4.7384 - acc: 0.02 - ETA: 11s - loss: 4.7233 - acc: 0.02 - ETA: 11s - loss: 4.7211 - acc: 0.02 - ETA: 11s - loss: 4.7221 - acc: 0.02 - ETA: 11s - loss: 4.7431 - acc: 0.02 - ETA: 11s - loss: 4.7489 - acc: 0.01 - ETA: 11s - loss: 4.7435 - acc: 0.01 - ETA: 11s - loss: 4.7371 - acc: 0.01 - ETA: 10s - loss: 4.7296 - acc: 0.02 - ETA: 10s - loss: 4.7270 - acc: 0.01 - ETA: 10s - loss: 4.7246 - acc: 0.01 - ETA: 10s - loss: 4.7290 - acc: 0.02 - ETA: 10s - loss: 4.7333 - acc: 0.01 - ETA: 10s - loss: 4.7396 - acc: 0.01 - ETA: 10s - loss: 4.7381 - acc: 0.01 - ETA: 10s - loss: 4.7396 - acc: 0.02 - ETA: 10s - loss: 4.7370 - acc: 0.02 - ETA: 10s - loss: 4.7365 - acc: 0.02 - ETA: 10s - loss: 4.7367 - acc: 0.02 - ETA: 10s - loss: 4.7370 - acc: 0.02 - ETA: 10s - loss: 4.7404 - acc: 0.02 - ETA: 10s - loss: 4.7351 - acc: 0.02 - ETA: 10s - loss: 4.7351 - acc: 0.02 - ETA: 10s - loss: 4.7290 - acc: 0.02 - ETA: 10s - loss: 4.7300 - acc: 0.02 - ETA: 10s - loss: 4.7316 - acc: 0.02 - ETA: 9s - loss: 4.7345 - acc: 0.0250 - ETA: 9s - loss: 4.7312 - acc: 0.024 - ETA: 9s - loss: 4.7317 - acc: 0.023 - ETA: 9s - loss: 4.7332 - acc: 0.022 - ETA: 9s - loss: 4.7330 - acc: 0.022 - ETA: 9s - loss: 4.7331 - acc: 0.021 - ETA: 9s - loss: 4.7315 - acc: 0.022 - ETA: 9s - loss: 4.7315 - acc: 0.022 - ETA: 9s - loss: 4.7265 - acc: 0.023 - ETA: 9s - loss: 4.7255 - acc: 0.023 - ETA: 9s - loss: 4.7237 - acc: 0.023 - ETA: 9s - loss: 4.7245 - acc: 0.023 - ETA: 9s - loss: 4.7236 - acc: 0.023 - ETA: 9s - loss: 4.7227 - acc: 0.023 - ETA: 8s - loss: 4.7236 - acc: 0.023 - ETA: 8s - loss: 4.7249 - acc: 0.023 - ETA: 8s - loss: 4.7239 - acc: 0.023 - ETA: 8s - loss: 4.7245 - acc: 0.023 - ETA: 8s - loss: 4.7269 - acc: 0.023 - ETA: 8s - loss: 4.7284 - acc: 0.022 - ETA: 8s - loss: 4.7324 - acc: 0.022 - ETA: 8s - loss: 4.7343 - acc: 0.021 - ETA: 8s - loss: 4.7370 - acc: 0.022 - ETA: 8s - loss: 4.7384 - acc: 0.022 - ETA: 8s - loss: 4.7376 - acc: 0.021 - ETA: 8s - loss: 4.7382 - acc: 0.021 - ETA: 8s - loss: 4.7370 - acc: 0.021 - ETA: 8s - loss: 4.7387 - acc: 0.021 - ETA: 7s - loss: 4.7392 - acc: 0.020 - ETA: 7s - loss: 4.7389 - acc: 0.020 - ETA: 7s - loss: 4.7389 - acc: 0.020 - ETA: 7s - loss: 4.7388 - acc: 0.021 - ETA: 7s - loss: 4.7402 - acc: 0.020 - ETA: 7s - loss: 4.7406 - acc: 0.020 - ETA: 7s - loss: 4.7401 - acc: 0.020 - ETA: 7s - loss: 4.7415 - acc: 0.020 - ETA: 7s - loss: 4.7419 - acc: 0.019 - ETA: 7s - loss: 4.7416 - acc: 0.020 - ETA: 7s - loss: 4.7427 - acc: 0.020 - ETA: 7s - loss: 4.7427 - acc: 0.020 - ETA: 7s - loss: 4.7407 - acc: 0.020 - ETA: 7s - loss: 4.7415 - acc: 0.020 - ETA: 7s - loss: 4.7418 - acc: 0.020 - ETA: 6s - loss: 4.7436 - acc: 0.020 - ETA: 6s - loss: 4.7435 - acc: 0.021 - ETA: 6s - loss: 4.7432 - acc: 0.021 - ETA: 6s - loss: 4.7442 - acc: 0.020 - ETA: 6s - loss: 4.7434 - acc: 0.020 - ETA: 6s - loss: 4.7430 - acc: 0.021 - ETA: 6s - loss: 4.7433 - acc: 0.021 - ETA: 6s - loss: 4.7437 - acc: 0.021 - ETA: 6s - loss: 4.7434 - acc: 0.021 - ETA: 6s - loss: 4.7428 - acc: 0.021 - ETA: 6s - loss: 4.7418 - acc: 0.021 - ETA: 6s - loss: 4.7406 - acc: 0.021 - ETA: 6s - loss: 4.7401 - acc: 0.021 - ETA: 6s - loss: 4.7391 - acc: 0.021 - ETA: 5s - loss: 4.7391 - acc: 0.022 - ETA: 5s - loss: 4.7375 - acc: 0.022 - ETA: 5s - loss: 4.7368 - acc: 0.022 - ETA: 5s - loss: 4.7371 - acc: 0.023 - ETA: 5s - loss: 4.7374 - acc: 0.023 - ETA: 5s - loss: 4.7379 - acc: 0.023 - ETA: 5s - loss: 4.7387 - acc: 0.022 - ETA: 5s - loss: 4.7398 - acc: 0.022 - ETA: 5s - loss: 4.7396 - acc: 0.022 - ETA: 5s - loss: 4.7394 - acc: 0.022 - ETA: 5s - loss: 4.7398 - acc: 0.022 - ETA: 5s - loss: 4.7401 - acc: 0.022 - ETA: 5s - loss: 4.7396 - acc: 0.022 - ETA: 5s - loss: 4.7404 - acc: 0.022 - ETA: 4s - loss: 4.7400 - acc: 0.022 - ETA: 4s - loss: 4.7398 - acc: 0.022 - ETA: 4s - loss: 4.7398 - acc: 0.022 - ETA: 4s - loss: 4.7389 - acc: 0.022 - ETA: 4s - loss: 4.7391 - acc: 0.022 - ETA: 4s - loss: 4.7391 - acc: 0.022 - ETA: 4s - loss: 4.7379 - acc: 0.022 - ETA: 4s - loss: 4.7373 - acc: 0.022 - ETA: 4s - loss: 4.7375 - acc: 0.022 - ETA: 4s - loss: 4.7365 - acc: 0.022 - ETA: 4s - loss: 4.7366 - acc: 0.021 - ETA: 4s - loss: 4.7377 - acc: 0.022 - ETA: 4s - loss: 4.7382 - acc: 0.022 - ETA: 4s - loss: 4.7394 - acc: 0.021 - ETA: 3s - loss: 4.7396 - acc: 0.021 - ETA: 3s - loss: 4.7405 - acc: 0.021 - ETA: 3s - loss: 4.7406 - acc: 0.021 - ETA: 3s - loss: 4.7396 - acc: 0.022 - ETA: 3s - loss: 4.7387 - acc: 0.022 - ETA: 3s - loss: 4.7391 - acc: 0.022 - ETA: 3s - loss: 4.7384 - acc: 0.022 - ETA: 3s - loss: 4.7375 - acc: 0.022 - ETA: 3s - loss: 4.7360 - acc: 0.023 - ETA: 3s - loss: 4.7363 - acc: 0.023 - ETA: 3s - loss: 4.7373 - acc: 0.023 - ETA: 3s - loss: 4.7372 - acc: 0.023 - ETA: 3s - loss: 4.7374 - acc: 0.023 - ETA: 3s - loss: 4.7370 - acc: 0.023 - ETA: 2s - loss: 4.7377 - acc: 0.022 - ETA: 2s - loss: 4.7363 - acc: 0.022 - ETA: 2s - loss: 4.7372 - acc: 0.022 - ETA: 2s - loss: 4.7371 - acc: 0.022 - ETA: 2s - loss: 4.7370 - acc: 0.022 - ETA: 2s - loss: 4.7367 - acc: 0.022 - ETA: 2s - loss: 4.7369 - acc: 0.022 - ETA: 2s - loss: 4.7372 - acc: 0.022 - ETA: 2s - loss: 4.7364 - acc: 0.022 - ETA: 2s - loss: 4.7372 - acc: 0.022 - ETA: 2s - loss: 4.7367 - acc: 0.022 - ETA: 2s - loss: 4.7369 - acc: 0.022 - ETA: 2s - loss: 4.7370 - acc: 0.022 - ETA: 2s - loss: 4.7377 - acc: 0.022 - ETA: 1s - loss: 4.7375 - acc: 0.022 - ETA: 1s - loss: 4.7366 - acc: 0.022 - ETA: 1s - loss: 4.7361 - acc: 0.022 - ETA: 1s - loss: 4.7351 - acc: 0.022 - ETA: 1s - loss: 4.7357 - acc: 0.022 - ETA: 1s - loss: 4.7363 - acc: 0.022 - ETA: 1s - loss: 4.7363 - acc: 0.022 - ETA: 1s - loss: 4.7361 - acc: 0.022 - ETA: 1s - loss: 4.7362 - acc: 0.022 - ETA: 1s - loss: 4.7363 - acc: 0.022 - ETA: 1s - loss: 4.7360 - acc: 0.022 - ETA: 1s - loss: 4.7369 - acc: 0.022 - ETA: 1s - loss: 4.7376 - acc: 0.022 - ETA: 1s - loss: 4.7379 - acc: 0.022 - ETA: 1s - loss: 4.7374 - acc: 0.022 - ETA: 0s - loss: 4.7383 - acc: 0.022 - ETA: 0s - loss: 4.7386 - acc: 0.022 - ETA: 0s - loss: 4.7376 - acc: 0.022 - ETA: 0s - loss: 4.7370 - acc: 0.022 - ETA: 0s - loss: 4.7370 - acc: 0.022 - ETA: 0s - loss: 4.7377 - acc: 0.022 - ETA: 0s - loss: 4.7386 - acc: 0.022 - ETA: 0s - loss: 4.7386 - acc: 0.022 - ETA: 0s - loss: 4.7385 - acc: 0.022 - ETA: 0s - loss: 4.7376 - acc: 0.022 - ETA: 0s - loss: 4.7375 - acc: 0.022 - ETA: 0s - loss: 4.7378 - acc: 0.022 - ETA: 0s - loss: 4.7379 - acc: 0.022 - 12s 2ms/step - loss: 4.7371 - acc: 0.0231 - val_loss: 4.5464 - val_acc: 0.0447\n",
      "\n",
      "Epoch 00006: val_loss improved from 4.59605 to 4.54636, saving model to saved_models/weights.best.from_scratch.hdf5\n",
      "Epoch 7/20\n"
     ]
    },
    {
     "name": "stdout",
     "output_type": "stream",
     "text": [
      "6680/6680 [==============================] - ETA: 16s - loss: 4.7731 - acc: 0.05 - ETA: 12s - loss: 4.7508 - acc: 0.01 - ETA: 12s - loss: 4.7082 - acc: 0.05 - ETA: 12s - loss: 4.7111 - acc: 0.04 - ETA: 12s - loss: 4.7073 - acc: 0.03 - ETA: 12s - loss: 4.7067 - acc: 0.03 - ETA: 11s - loss: 4.7240 - acc: 0.03 - ETA: 11s - loss: 4.7274 - acc: 0.02 - ETA: 11s - loss: 4.7385 - acc: 0.02 - ETA: 11s - loss: 4.7350 - acc: 0.02 - ETA: 11s - loss: 4.7321 - acc: 0.02 - ETA: 11s - loss: 4.7387 - acc: 0.02 - ETA: 11s - loss: 4.7475 - acc: 0.02 - ETA: 11s - loss: 4.7467 - acc: 0.01 - ETA: 11s - loss: 4.7483 - acc: 0.01 - ETA: 11s - loss: 4.7447 - acc: 0.02 - ETA: 11s - loss: 4.7405 - acc: 0.02 - ETA: 10s - loss: 4.7461 - acc: 0.02 - ETA: 10s - loss: 4.7439 - acc: 0.02 - ETA: 10s - loss: 4.7420 - acc: 0.02 - ETA: 10s - loss: 4.7473 - acc: 0.02 - ETA: 10s - loss: 4.7502 - acc: 0.02 - ETA: 10s - loss: 4.7480 - acc: 0.02 - ETA: 10s - loss: 4.7562 - acc: 0.01 - ETA: 10s - loss: 4.7493 - acc: 0.01 - ETA: 10s - loss: 4.7546 - acc: 0.02 - ETA: 10s - loss: 4.7552 - acc: 0.02 - ETA: 10s - loss: 4.7563 - acc: 0.02 - ETA: 10s - loss: 4.7544 - acc: 0.02 - ETA: 9s - loss: 4.7533 - acc: 0.0198 - ETA: 9s - loss: 4.7469 - acc: 0.020 - ETA: 9s - loss: 4.7459 - acc: 0.021 - ETA: 9s - loss: 4.7393 - acc: 0.022 - ETA: 9s - loss: 4.7416 - acc: 0.022 - ETA: 9s - loss: 4.7417 - acc: 0.023 - ETA: 9s - loss: 4.7360 - acc: 0.024 - ETA: 9s - loss: 4.7361 - acc: 0.024 - ETA: 9s - loss: 4.7401 - acc: 0.024 - ETA: 9s - loss: 4.7385 - acc: 0.025 - ETA: 9s - loss: 4.7377 - acc: 0.025 - ETA: 9s - loss: 4.7387 - acc: 0.025 - ETA: 9s - loss: 4.7358 - acc: 0.025 - ETA: 9s - loss: 4.7374 - acc: 0.025 - ETA: 9s - loss: 4.7377 - acc: 0.025 - ETA: 8s - loss: 4.7364 - acc: 0.025 - ETA: 8s - loss: 4.7371 - acc: 0.025 - ETA: 8s - loss: 4.7392 - acc: 0.025 - ETA: 8s - loss: 4.7373 - acc: 0.025 - ETA: 8s - loss: 4.7378 - acc: 0.025 - ETA: 8s - loss: 4.7343 - acc: 0.026 - ETA: 8s - loss: 4.7355 - acc: 0.026 - ETA: 8s - loss: 4.7364 - acc: 0.025 - ETA: 8s - loss: 4.7380 - acc: 0.026 - ETA: 8s - loss: 4.7380 - acc: 0.026 - ETA: 8s - loss: 4.7352 - acc: 0.026 - ETA: 8s - loss: 4.7351 - acc: 0.027 - ETA: 8s - loss: 4.7333 - acc: 0.027 - ETA: 7s - loss: 4.7369 - acc: 0.026 - ETA: 7s - loss: 4.7338 - acc: 0.026 - ETA: 7s - loss: 4.7352 - acc: 0.026 - ETA: 7s - loss: 4.7337 - acc: 0.026 - ETA: 7s - loss: 4.7346 - acc: 0.026 - ETA: 7s - loss: 4.7351 - acc: 0.026 - ETA: 7s - loss: 4.7343 - acc: 0.026 - ETA: 7s - loss: 4.7330 - acc: 0.028 - ETA: 7s - loss: 4.7308 - acc: 0.027 - ETA: 7s - loss: 4.7343 - acc: 0.027 - ETA: 7s - loss: 4.7336 - acc: 0.027 - ETA: 7s - loss: 4.7315 - acc: 0.027 - ETA: 7s - loss: 4.7295 - acc: 0.028 - ETA: 7s - loss: 4.7293 - acc: 0.028 - ETA: 6s - loss: 4.7299 - acc: 0.028 - ETA: 6s - loss: 4.7309 - acc: 0.028 - ETA: 6s - loss: 4.7310 - acc: 0.027 - ETA: 6s - loss: 4.7308 - acc: 0.028 - ETA: 6s - loss: 4.7311 - acc: 0.028 - ETA: 6s - loss: 4.7319 - acc: 0.028 - ETA: 6s - loss: 4.7304 - acc: 0.028 - ETA: 6s - loss: 4.7333 - acc: 0.028 - ETA: 6s - loss: 4.7344 - acc: 0.029 - ETA: 6s - loss: 4.7349 - acc: 0.028 - ETA: 6s - loss: 4.7343 - acc: 0.028 - ETA: 6s - loss: 4.7349 - acc: 0.028 - ETA: 6s - loss: 4.7347 - acc: 0.028 - ETA: 6s - loss: 4.7330 - acc: 0.028 - ETA: 5s - loss: 4.7314 - acc: 0.028 - ETA: 5s - loss: 4.7304 - acc: 0.027 - ETA: 5s - loss: 4.7291 - acc: 0.027 - ETA: 5s - loss: 4.7287 - acc: 0.027 - ETA: 5s - loss: 4.7287 - acc: 0.027 - ETA: 5s - loss: 4.7306 - acc: 0.027 - ETA: 5s - loss: 4.7279 - acc: 0.027 - ETA: 5s - loss: 4.7269 - acc: 0.027 - ETA: 5s - loss: 4.7281 - acc: 0.027 - ETA: 5s - loss: 4.7278 - acc: 0.027 - ETA: 5s - loss: 4.7285 - acc: 0.027 - ETA: 5s - loss: 4.7271 - acc: 0.027 - ETA: 5s - loss: 4.7265 - acc: 0.027 - ETA: 4s - loss: 4.7268 - acc: 0.027 - ETA: 4s - loss: 4.7270 - acc: 0.026 - ETA: 4s - loss: 4.7274 - acc: 0.026 - ETA: 4s - loss: 4.7270 - acc: 0.026 - ETA: 4s - loss: 4.7270 - acc: 0.027 - ETA: 4s - loss: 4.7263 - acc: 0.027 - ETA: 4s - loss: 4.7260 - acc: 0.027 - ETA: 4s - loss: 4.7293 - acc: 0.027 - ETA: 4s - loss: 4.7281 - acc: 0.027 - ETA: 4s - loss: 4.7283 - acc: 0.026 - ETA: 4s - loss: 4.7273 - acc: 0.027 - ETA: 4s - loss: 4.7270 - acc: 0.027 - ETA: 4s - loss: 4.7259 - acc: 0.027 - ETA: 4s - loss: 4.7250 - acc: 0.027 - ETA: 4s - loss: 4.7257 - acc: 0.026 - ETA: 3s - loss: 4.7260 - acc: 0.026 - ETA: 3s - loss: 4.7266 - acc: 0.026 - ETA: 3s - loss: 4.7258 - acc: 0.026 - ETA: 3s - loss: 4.7264 - acc: 0.026 - ETA: 3s - loss: 4.7262 - acc: 0.026 - ETA: 3s - loss: 4.7263 - acc: 0.026 - ETA: 3s - loss: 4.7257 - acc: 0.026 - ETA: 3s - loss: 4.7252 - acc: 0.025 - ETA: 3s - loss: 4.7254 - acc: 0.025 - ETA: 3s - loss: 4.7251 - acc: 0.025 - ETA: 3s - loss: 4.7260 - acc: 0.025 - ETA: 3s - loss: 4.7250 - acc: 0.025 - ETA: 3s - loss: 4.7247 - acc: 0.025 - ETA: 3s - loss: 4.7236 - acc: 0.025 - ETA: 2s - loss: 4.7242 - acc: 0.025 - ETA: 2s - loss: 4.7250 - acc: 0.025 - ETA: 2s - loss: 4.7250 - acc: 0.025 - ETA: 2s - loss: 4.7242 - acc: 0.025 - ETA: 2s - loss: 4.7254 - acc: 0.025 - ETA: 2s - loss: 4.7249 - acc: 0.025 - ETA: 2s - loss: 4.7246 - acc: 0.025 - ETA: 2s - loss: 4.7243 - acc: 0.025 - ETA: 2s - loss: 4.7243 - acc: 0.025 - ETA: 2s - loss: 4.7239 - acc: 0.025 - ETA: 2s - loss: 4.7239 - acc: 0.025 - ETA: 2s - loss: 4.7224 - acc: 0.025 - ETA: 2s - loss: 4.7223 - acc: 0.025 - ETA: 2s - loss: 4.7224 - acc: 0.025 - ETA: 2s - loss: 4.7229 - acc: 0.025 - ETA: 1s - loss: 4.7235 - acc: 0.025 - ETA: 1s - loss: 4.7233 - acc: 0.025 - ETA: 1s - loss: 4.7213 - acc: 0.025 - ETA: 1s - loss: 4.7202 - acc: 0.026 - ETA: 1s - loss: 4.7196 - acc: 0.026 - ETA: 1s - loss: 4.7183 - acc: 0.026 - ETA: 1s - loss: 4.7180 - acc: 0.025 - ETA: 1s - loss: 4.7181 - acc: 0.025 - ETA: 1s - loss: 4.7170 - acc: 0.025 - ETA: 1s - loss: 4.7162 - acc: 0.026 - ETA: 1s - loss: 4.7158 - acc: 0.026 - ETA: 1s - loss: 4.7161 - acc: 0.026 - ETA: 1s - loss: 4.7174 - acc: 0.025 - ETA: 1s - loss: 4.7176 - acc: 0.025 - ETA: 0s - loss: 4.7181 - acc: 0.025 - ETA: 0s - loss: 4.7181 - acc: 0.025 - ETA: 0s - loss: 4.7176 - acc: 0.025 - ETA: 0s - loss: 4.7170 - acc: 0.025 - ETA: 0s - loss: 4.7165 - acc: 0.025 - ETA: 0s - loss: 4.7151 - acc: 0.025 - ETA: 0s - loss: 4.7158 - acc: 0.025 - ETA: 0s - loss: 4.7152 - acc: 0.025 - ETA: 0s - loss: 4.7161 - acc: 0.025 - ETA: 0s - loss: 4.7159 - acc: 0.025 - ETA: 0s - loss: 4.7159 - acc: 0.025 - ETA: 0s - loss: 4.7154 - acc: 0.025 - ETA: 0s - loss: 4.7152 - acc: 0.025 - ETA: 0s - loss: 4.7148 - acc: 0.025 - 12s 2ms/step - loss: 4.7147 - acc: 0.0253 - val_loss: 4.5213 - val_acc: 0.0543\n",
      "\n",
      "Epoch 00007: val_loss improved from 4.54636 to 4.52134, saving model to saved_models/weights.best.from_scratch.hdf5\n",
      "Epoch 8/20\n"
     ]
    },
    {
     "name": "stdout",
     "output_type": "stream",
     "text": [
      "6680/6680 [==============================] - ETA: 18s - loss: 4.3577 - acc: 0.05 - ETA: 13s - loss: 4.5392 - acc: 0.05 - ETA: 13s - loss: 4.5732 - acc: 0.03 - ETA: 12s - loss: 4.5957 - acc: 0.03 - ETA: 12s - loss: 4.6486 - acc: 0.03 - ETA: 12s - loss: 4.6625 - acc: 0.02 - ETA: 12s - loss: 4.6529 - acc: 0.02 - ETA: 12s - loss: 4.6502 - acc: 0.03 - ETA: 12s - loss: 4.6493 - acc: 0.02 - ETA: 11s - loss: 4.6554 - acc: 0.02 - ETA: 11s - loss: 4.6558 - acc: 0.02 - ETA: 11s - loss: 4.6566 - acc: 0.02 - ETA: 11s - loss: 4.6630 - acc: 0.02 - ETA: 11s - loss: 4.6673 - acc: 0.02 - ETA: 11s - loss: 4.6731 - acc: 0.02 - ETA: 11s - loss: 4.6748 - acc: 0.02 - ETA: 11s - loss: 4.6728 - acc: 0.02 - ETA: 11s - loss: 4.6737 - acc: 0.02 - ETA: 11s - loss: 4.6813 - acc: 0.02 - ETA: 10s - loss: 4.6855 - acc: 0.02 - ETA: 10s - loss: 4.6781 - acc: 0.02 - ETA: 10s - loss: 4.6860 - acc: 0.02 - ETA: 10s - loss: 4.6842 - acc: 0.02 - ETA: 10s - loss: 4.6809 - acc: 0.02 - ETA: 10s - loss: 4.6848 - acc: 0.02 - ETA: 10s - loss: 4.6861 - acc: 0.02 - ETA: 10s - loss: 4.6874 - acc: 0.02 - ETA: 10s - loss: 4.6940 - acc: 0.02 - ETA: 10s - loss: 4.6987 - acc: 0.02 - ETA: 10s - loss: 4.6898 - acc: 0.02 - ETA: 10s - loss: 4.6914 - acc: 0.02 - ETA: 9s - loss: 4.6898 - acc: 0.0242 - ETA: 9s - loss: 4.6902 - acc: 0.025 - ETA: 9s - loss: 4.6910 - acc: 0.025 - ETA: 9s - loss: 4.6915 - acc: 0.025 - ETA: 9s - loss: 4.6941 - acc: 0.025 - ETA: 9s - loss: 4.6973 - acc: 0.024 - ETA: 9s - loss: 4.6964 - acc: 0.024 - ETA: 9s - loss: 4.6947 - acc: 0.023 - ETA: 9s - loss: 4.6919 - acc: 0.023 - ETA: 9s - loss: 4.6863 - acc: 0.024 - ETA: 9s - loss: 4.6883 - acc: 0.023 - ETA: 9s - loss: 4.6905 - acc: 0.023 - ETA: 9s - loss: 4.6914 - acc: 0.022 - ETA: 9s - loss: 4.6913 - acc: 0.023 - ETA: 9s - loss: 4.6931 - acc: 0.023 - ETA: 8s - loss: 4.6936 - acc: 0.023 - ETA: 8s - loss: 4.6977 - acc: 0.023 - ETA: 8s - loss: 4.6972 - acc: 0.023 - ETA: 8s - loss: 4.6974 - acc: 0.023 - ETA: 8s - loss: 4.6974 - acc: 0.022 - ETA: 8s - loss: 4.6960 - acc: 0.023 - ETA: 8s - loss: 4.6984 - acc: 0.023 - ETA: 8s - loss: 4.7000 - acc: 0.024 - ETA: 8s - loss: 4.6976 - acc: 0.024 - ETA: 8s - loss: 4.6976 - acc: 0.024 - ETA: 8s - loss: 4.6980 - acc: 0.024 - ETA: 8s - loss: 4.6986 - acc: 0.024 - ETA: 8s - loss: 4.6967 - acc: 0.025 - ETA: 7s - loss: 4.6951 - acc: 0.025 - ETA: 7s - loss: 4.6954 - acc: 0.025 - ETA: 7s - loss: 4.6964 - acc: 0.025 - ETA: 7s - loss: 4.6963 - acc: 0.025 - ETA: 7s - loss: 4.6968 - acc: 0.025 - ETA: 7s - loss: 4.6972 - acc: 0.025 - ETA: 7s - loss: 4.6987 - acc: 0.025 - ETA: 7s - loss: 4.7000 - acc: 0.025 - ETA: 7s - loss: 4.6986 - acc: 0.026 - ETA: 7s - loss: 4.6990 - acc: 0.026 - ETA: 7s - loss: 4.7002 - acc: 0.025 - ETA: 7s - loss: 4.7001 - acc: 0.025 - ETA: 7s - loss: 4.7006 - acc: 0.025 - ETA: 7s - loss: 4.6978 - acc: 0.025 - ETA: 6s - loss: 4.6973 - acc: 0.026 - ETA: 6s - loss: 4.6958 - acc: 0.025 - ETA: 6s - loss: 4.6949 - acc: 0.026 - ETA: 6s - loss: 4.6954 - acc: 0.026 - ETA: 6s - loss: 4.6953 - acc: 0.026 - ETA: 6s - loss: 4.6962 - acc: 0.026 - ETA: 6s - loss: 4.6975 - acc: 0.026 - ETA: 6s - loss: 4.6960 - acc: 0.026 - ETA: 6s - loss: 4.6970 - acc: 0.026 - ETA: 6s - loss: 4.6958 - acc: 0.026 - ETA: 6s - loss: 4.6945 - acc: 0.026 - ETA: 6s - loss: 4.6920 - acc: 0.026 - ETA: 6s - loss: 4.6904 - acc: 0.026 - ETA: 5s - loss: 4.6914 - acc: 0.026 - ETA: 5s - loss: 4.6907 - acc: 0.026 - ETA: 5s - loss: 4.6911 - acc: 0.026 - ETA: 5s - loss: 4.6905 - acc: 0.026 - ETA: 5s - loss: 4.6906 - acc: 0.026 - ETA: 5s - loss: 4.6895 - acc: 0.027 - ETA: 5s - loss: 4.6893 - acc: 0.026 - ETA: 5s - loss: 4.6895 - acc: 0.026 - ETA: 5s - loss: 4.6884 - acc: 0.027 - ETA: 5s - loss: 4.6878 - acc: 0.027 - ETA: 5s - loss: 4.6895 - acc: 0.027 - ETA: 5s - loss: 4.6905 - acc: 0.027 - ETA: 5s - loss: 4.6898 - acc: 0.027 - ETA: 5s - loss: 4.6910 - acc: 0.026 - ETA: 5s - loss: 4.6896 - acc: 0.026 - ETA: 4s - loss: 4.6890 - acc: 0.026 - ETA: 4s - loss: 4.6899 - acc: 0.027 - ETA: 4s - loss: 4.6895 - acc: 0.026 - ETA: 4s - loss: 4.6889 - acc: 0.026 - ETA: 4s - loss: 4.6882 - acc: 0.026 - ETA: 4s - loss: 4.6886 - acc: 0.026 - ETA: 4s - loss: 4.6879 - acc: 0.027 - ETA: 4s - loss: 4.6875 - acc: 0.027 - ETA: 4s - loss: 4.6868 - acc: 0.027 - ETA: 4s - loss: 4.6874 - acc: 0.027 - ETA: 4s - loss: 4.6868 - acc: 0.027 - ETA: 4s - loss: 4.6861 - acc: 0.027 - ETA: 4s - loss: 4.6867 - acc: 0.027 - ETA: 4s - loss: 4.6875 - acc: 0.027 - ETA: 3s - loss: 4.6889 - acc: 0.027 - ETA: 3s - loss: 4.6878 - acc: 0.028 - ETA: 3s - loss: 4.6884 - acc: 0.027 - ETA: 3s - loss: 4.6890 - acc: 0.028 - ETA: 3s - loss: 4.6899 - acc: 0.028 - ETA: 3s - loss: 4.6899 - acc: 0.028 - ETA: 3s - loss: 4.6892 - acc: 0.028 - ETA: 3s - loss: 4.6892 - acc: 0.028 - ETA: 3s - loss: 4.6885 - acc: 0.028 - ETA: 3s - loss: 4.6884 - acc: 0.029 - ETA: 3s - loss: 4.6883 - acc: 0.029 - ETA: 3s - loss: 4.6901 - acc: 0.029 - ETA: 3s - loss: 4.6893 - acc: 0.028 - ETA: 3s - loss: 4.6894 - acc: 0.028 - ETA: 2s - loss: 4.6892 - acc: 0.028 - ETA: 2s - loss: 4.6891 - acc: 0.028 - ETA: 2s - loss: 4.6885 - acc: 0.028 - ETA: 2s - loss: 4.6878 - acc: 0.028 - ETA: 2s - loss: 4.6884 - acc: 0.028 - ETA: 2s - loss: 4.6887 - acc: 0.028 - ETA: 2s - loss: 4.6887 - acc: 0.028 - ETA: 2s - loss: 4.6895 - acc: 0.028 - ETA: 2s - loss: 4.6897 - acc: 0.028 - ETA: 2s - loss: 4.6902 - acc: 0.028 - ETA: 2s - loss: 4.6896 - acc: 0.028 - ETA: 2s - loss: 4.6893 - acc: 0.028 - ETA: 2s - loss: 4.6889 - acc: 0.028 - ETA: 2s - loss: 4.6887 - acc: 0.028 - ETA: 1s - loss: 4.6880 - acc: 0.028 - ETA: 1s - loss: 4.6886 - acc: 0.028 - ETA: 1s - loss: 4.6891 - acc: 0.028 - ETA: 1s - loss: 4.6899 - acc: 0.028 - ETA: 1s - loss: 4.6906 - acc: 0.028 - ETA: 1s - loss: 4.6895 - acc: 0.027 - ETA: 1s - loss: 4.6898 - acc: 0.028 - ETA: 1s - loss: 4.6911 - acc: 0.028 - ETA: 1s - loss: 4.6919 - acc: 0.028 - ETA: 1s - loss: 4.6921 - acc: 0.028 - ETA: 1s - loss: 4.6927 - acc: 0.028 - ETA: 1s - loss: 4.6925 - acc: 0.027 - ETA: 1s - loss: 4.6926 - acc: 0.027 - ETA: 1s - loss: 4.6922 - acc: 0.027 - ETA: 0s - loss: 4.6921 - acc: 0.027 - ETA: 0s - loss: 4.6919 - acc: 0.027 - ETA: 0s - loss: 4.6915 - acc: 0.027 - ETA: 0s - loss: 4.6913 - acc: 0.027 - ETA: 0s - loss: 4.6919 - acc: 0.027 - ETA: 0s - loss: 4.6914 - acc: 0.027 - ETA: 0s - loss: 4.6917 - acc: 0.027 - ETA: 0s - loss: 4.6918 - acc: 0.027 - ETA: 0s - loss: 4.6929 - acc: 0.027 - ETA: 0s - loss: 4.6927 - acc: 0.027 - ETA: 0s - loss: 4.6931 - acc: 0.027 - ETA: 0s - loss: 4.6936 - acc: 0.027 - ETA: 0s - loss: 4.6938 - acc: 0.027 - ETA: 0s - loss: 4.6939 - acc: 0.027 - ETA: 0s - loss: 4.6938 - acc: 0.027 - 12s 2ms/step - loss: 4.6936 - acc: 0.0278 - val_loss: 4.5258 - val_acc: 0.0351\n",
      "\n",
      "Epoch 00008: val_loss did not improve\n",
      "Epoch 9/20\n"
     ]
    },
    {
     "name": "stdout",
     "output_type": "stream",
     "text": [
      "6680/6680 [==============================] - ETA: 11s - loss: 4.6467 - acc: 0.10 - ETA: 10s - loss: 4.5246 - acc: 0.10 - ETA: 11s - loss: 4.6089 - acc: 0.07 - ETA: 11s - loss: 4.5961 - acc: 0.06 - ETA: 11s - loss: 4.6145 - acc: 0.05 - ETA: 11s - loss: 4.6184 - acc: 0.05 - ETA: 11s - loss: 4.6139 - acc: 0.05 - ETA: 11s - loss: 4.6101 - acc: 0.05 - ETA: 11s - loss: 4.6257 - acc: 0.04 - ETA: 11s - loss: 4.6340 - acc: 0.04 - ETA: 11s - loss: 4.6486 - acc: 0.04 - ETA: 11s - loss: 4.6428 - acc: 0.03 - ETA: 11s - loss: 4.6468 - acc: 0.03 - ETA: 11s - loss: 4.6385 - acc: 0.03 - ETA: 10s - loss: 4.6407 - acc: 0.03 - ETA: 10s - loss: 4.6417 - acc: 0.03 - ETA: 10s - loss: 4.6424 - acc: 0.03 - ETA: 10s - loss: 4.6423 - acc: 0.03 - ETA: 10s - loss: 4.6415 - acc: 0.03 - ETA: 10s - loss: 4.6408 - acc: 0.03 - ETA: 10s - loss: 4.6345 - acc: 0.03 - ETA: 10s - loss: 4.6328 - acc: 0.03 - ETA: 10s - loss: 4.6381 - acc: 0.03 - ETA: 10s - loss: 4.6409 - acc: 0.03 - ETA: 10s - loss: 4.6319 - acc: 0.03 - ETA: 10s - loss: 4.6310 - acc: 0.03 - ETA: 10s - loss: 4.6337 - acc: 0.03 - ETA: 10s - loss: 4.6380 - acc: 0.03 - ETA: 10s - loss: 4.6321 - acc: 0.03 - ETA: 10s - loss: 4.6367 - acc: 0.03 - ETA: 9s - loss: 4.6443 - acc: 0.0347 - ETA: 9s - loss: 4.6423 - acc: 0.035 - ETA: 9s - loss: 4.6403 - acc: 0.035 - ETA: 9s - loss: 4.6426 - acc: 0.034 - ETA: 9s - loss: 4.6466 - acc: 0.034 - ETA: 9s - loss: 4.6504 - acc: 0.034 - ETA: 9s - loss: 4.6533 - acc: 0.034 - ETA: 9s - loss: 4.6545 - acc: 0.033 - ETA: 9s - loss: 4.6546 - acc: 0.035 - ETA: 9s - loss: 4.6554 - acc: 0.035 - ETA: 9s - loss: 4.6596 - acc: 0.034 - ETA: 9s - loss: 4.6599 - acc: 0.034 - ETA: 9s - loss: 4.6605 - acc: 0.033 - ETA: 9s - loss: 4.6642 - acc: 0.032 - ETA: 8s - loss: 4.6627 - acc: 0.033 - ETA: 8s - loss: 4.6630 - acc: 0.033 - ETA: 8s - loss: 4.6629 - acc: 0.032 - ETA: 8s - loss: 4.6594 - acc: 0.032 - ETA: 8s - loss: 4.6617 - acc: 0.032 - ETA: 8s - loss: 4.6640 - acc: 0.033 - ETA: 8s - loss: 4.6629 - acc: 0.032 - ETA: 8s - loss: 4.6614 - acc: 0.032 - ETA: 8s - loss: 4.6628 - acc: 0.032 - ETA: 8s - loss: 4.6656 - acc: 0.031 - ETA: 8s - loss: 4.6672 - acc: 0.031 - ETA: 8s - loss: 4.6672 - acc: 0.031 - ETA: 8s - loss: 4.6655 - acc: 0.031 - ETA: 8s - loss: 4.6675 - acc: 0.031 - ETA: 7s - loss: 4.6679 - acc: 0.031 - ETA: 7s - loss: 4.6705 - acc: 0.031 - ETA: 7s - loss: 4.6697 - acc: 0.030 - ETA: 7s - loss: 4.6704 - acc: 0.030 - ETA: 7s - loss: 4.6683 - acc: 0.031 - ETA: 7s - loss: 4.6707 - acc: 0.031 - ETA: 7s - loss: 4.6687 - acc: 0.032 - ETA: 7s - loss: 4.6678 - acc: 0.033 - ETA: 7s - loss: 4.6673 - acc: 0.033 - ETA: 7s - loss: 4.6674 - acc: 0.033 - ETA: 7s - loss: 4.6674 - acc: 0.032 - ETA: 7s - loss: 4.6652 - acc: 0.033 - ETA: 7s - loss: 4.6660 - acc: 0.033 - ETA: 6s - loss: 4.6684 - acc: 0.033 - ETA: 6s - loss: 4.6676 - acc: 0.033 - ETA: 6s - loss: 4.6677 - acc: 0.033 - ETA: 6s - loss: 4.6656 - acc: 0.032 - ETA: 6s - loss: 4.6653 - acc: 0.032 - ETA: 6s - loss: 4.6647 - acc: 0.033 - ETA: 6s - loss: 4.6675 - acc: 0.032 - ETA: 6s - loss: 4.6682 - acc: 0.032 - ETA: 6s - loss: 4.6687 - acc: 0.031 - ETA: 6s - loss: 4.6681 - acc: 0.031 - ETA: 6s - loss: 4.6679 - acc: 0.032 - ETA: 6s - loss: 4.6672 - acc: 0.032 - ETA: 6s - loss: 4.6685 - acc: 0.032 - ETA: 6s - loss: 4.6676 - acc: 0.032 - ETA: 5s - loss: 4.6676 - acc: 0.031 - ETA: 5s - loss: 4.6662 - acc: 0.032 - ETA: 5s - loss: 4.6652 - acc: 0.031 - ETA: 5s - loss: 4.6625 - acc: 0.031 - ETA: 5s - loss: 4.6608 - acc: 0.031 - ETA: 5s - loss: 4.6597 - acc: 0.030 - ETA: 5s - loss: 4.6589 - acc: 0.031 - ETA: 5s - loss: 4.6593 - acc: 0.031 - ETA: 5s - loss: 4.6594 - acc: 0.031 - ETA: 5s - loss: 4.6589 - acc: 0.030 - ETA: 5s - loss: 4.6582 - acc: 0.030 - ETA: 5s - loss: 4.6610 - acc: 0.030 - ETA: 5s - loss: 4.6610 - acc: 0.030 - ETA: 5s - loss: 4.6598 - acc: 0.029 - ETA: 5s - loss: 4.6592 - acc: 0.029 - ETA: 4s - loss: 4.6596 - acc: 0.029 - ETA: 4s - loss: 4.6595 - acc: 0.029 - ETA: 4s - loss: 4.6591 - acc: 0.030 - ETA: 4s - loss: 4.6589 - acc: 0.029 - ETA: 4s - loss: 4.6597 - acc: 0.029 - ETA: 4s - loss: 4.6597 - acc: 0.029 - ETA: 4s - loss: 4.6606 - acc: 0.029 - ETA: 4s - loss: 4.6613 - acc: 0.029 - ETA: 4s - loss: 4.6632 - acc: 0.028 - ETA: 4s - loss: 4.6625 - acc: 0.029 - ETA: 4s - loss: 4.6628 - acc: 0.028 - ETA: 4s - loss: 4.6621 - acc: 0.029 - ETA: 4s - loss: 4.6620 - acc: 0.029 - ETA: 4s - loss: 4.6636 - acc: 0.029 - ETA: 3s - loss: 4.6635 - acc: 0.029 - ETA: 3s - loss: 4.6626 - acc: 0.029 - ETA: 3s - loss: 4.6628 - acc: 0.029 - ETA: 3s - loss: 4.6616 - acc: 0.029 - ETA: 3s - loss: 4.6630 - acc: 0.029 - ETA: 3s - loss: 4.6630 - acc: 0.028 - ETA: 3s - loss: 4.6633 - acc: 0.028 - ETA: 3s - loss: 4.6635 - acc: 0.029 - ETA: 3s - loss: 4.6639 - acc: 0.029 - ETA: 3s - loss: 4.6653 - acc: 0.029 - ETA: 3s - loss: 4.6666 - acc: 0.029 - ETA: 3s - loss: 4.6680 - acc: 0.028 - ETA: 3s - loss: 4.6679 - acc: 0.028 - ETA: 3s - loss: 4.6681 - acc: 0.028 - ETA: 2s - loss: 4.6667 - acc: 0.028 - ETA: 2s - loss: 4.6670 - acc: 0.028 - ETA: 2s - loss: 4.6667 - acc: 0.028 - ETA: 2s - loss: 4.6667 - acc: 0.028 - ETA: 2s - loss: 4.6666 - acc: 0.028 - ETA: 2s - loss: 4.6663 - acc: 0.028 - ETA: 2s - loss: 4.6658 - acc: 0.028 - ETA: 2s - loss: 4.6661 - acc: 0.028 - ETA: 2s - loss: 4.6659 - acc: 0.028 - ETA: 2s - loss: 4.6674 - acc: 0.028 - ETA: 2s - loss: 4.6677 - acc: 0.028 - ETA: 2s - loss: 4.6679 - acc: 0.028 - ETA: 2s - loss: 4.6681 - acc: 0.028 - ETA: 2s - loss: 4.6684 - acc: 0.028 - ETA: 1s - loss: 4.6686 - acc: 0.028 - ETA: 1s - loss: 4.6690 - acc: 0.028 - ETA: 1s - loss: 4.6698 - acc: 0.028 - ETA: 1s - loss: 4.6710 - acc: 0.027 - ETA: 1s - loss: 4.6716 - acc: 0.027 - ETA: 1s - loss: 4.6718 - acc: 0.027 - ETA: 1s - loss: 4.6717 - acc: 0.027 - ETA: 1s - loss: 4.6721 - acc: 0.027 - ETA: 1s - loss: 4.6714 - acc: 0.027 - ETA: 1s - loss: 4.6714 - acc: 0.027 - ETA: 1s - loss: 4.6702 - acc: 0.027 - ETA: 1s - loss: 4.6694 - acc: 0.027 - ETA: 1s - loss: 4.6706 - acc: 0.027 - ETA: 1s - loss: 4.6703 - acc: 0.027 - ETA: 1s - loss: 4.6696 - acc: 0.028 - ETA: 0s - loss: 4.6700 - acc: 0.028 - ETA: 0s - loss: 4.6702 - acc: 0.028 - ETA: 0s - loss: 4.6698 - acc: 0.028 - ETA: 0s - loss: 4.6707 - acc: 0.028 - ETA: 0s - loss: 4.6705 - acc: 0.029 - ETA: 0s - loss: 4.6701 - acc: 0.028 - ETA: 0s - loss: 4.6698 - acc: 0.028 - ETA: 0s - loss: 4.6699 - acc: 0.028 - ETA: 0s - loss: 4.6700 - acc: 0.028 - ETA: 0s - loss: 4.6694 - acc: 0.028 - ETA: 0s - loss: 4.6693 - acc: 0.028 - ETA: 0s - loss: 4.6695 - acc: 0.028 - ETA: 0s - loss: 4.6701 - acc: 0.028 - 12s 2ms/step - loss: 4.6698 - acc: 0.0290 - val_loss: 4.4719 - val_acc: 0.0479\n",
      "\n",
      "Epoch 00009: val_loss improved from 4.52134 to 4.47194, saving model to saved_models/weights.best.from_scratch.hdf5\n",
      "Epoch 10/20\n"
     ]
    },
    {
     "name": "stdout",
     "output_type": "stream",
     "text": [
      "6680/6680 [==============================] - ETA: 18s - loss: 4.7134 - acc: 0.0000e+ - ETA: 14s - loss: 4.6493 - acc: 0.0500   - ETA: 13s - loss: 4.6359 - acc: 0.05 - ETA: 12s - loss: 4.7054 - acc: 0.04 - ETA: 12s - loss: 4.6897 - acc: 0.05 - ETA: 12s - loss: 4.6990 - acc: 0.05 - ETA: 11s - loss: 4.7055 - acc: 0.05 - ETA: 11s - loss: 4.7127 - acc: 0.05 - ETA: 12s - loss: 4.7046 - acc: 0.05 - ETA: 11s - loss: 4.6958 - acc: 0.05 - ETA: 11s - loss: 4.6813 - acc: 0.05 - ETA: 11s - loss: 4.6834 - acc: 0.05 - ETA: 11s - loss: 4.6857 - acc: 0.05 - ETA: 11s - loss: 4.6901 - acc: 0.04 - ETA: 11s - loss: 4.6841 - acc: 0.04 - ETA: 11s - loss: 4.6836 - acc: 0.04 - ETA: 11s - loss: 4.6845 - acc: 0.04 - ETA: 11s - loss: 4.6827 - acc: 0.04 - ETA: 11s - loss: 4.6773 - acc: 0.04 - ETA: 11s - loss: 4.6768 - acc: 0.04 - ETA: 10s - loss: 4.6760 - acc: 0.03 - ETA: 10s - loss: 4.6750 - acc: 0.04 - ETA: 10s - loss: 4.6738 - acc: 0.04 - ETA: 10s - loss: 4.6711 - acc: 0.04 - ETA: 10s - loss: 4.6745 - acc: 0.04 - ETA: 10s - loss: 4.6817 - acc: 0.03 - ETA: 10s - loss: 4.6804 - acc: 0.04 - ETA: 10s - loss: 4.6798 - acc: 0.03 - ETA: 10s - loss: 4.6769 - acc: 0.03 - ETA: 10s - loss: 4.6814 - acc: 0.03 - ETA: 10s - loss: 4.6842 - acc: 0.03 - ETA: 10s - loss: 4.6814 - acc: 0.03 - ETA: 10s - loss: 4.6810 - acc: 0.03 - ETA: 10s - loss: 4.6851 - acc: 0.04 - ETA: 9s - loss: 4.6890 - acc: 0.0402 - ETA: 9s - loss: 4.6859 - acc: 0.041 - ETA: 9s - loss: 4.6795 - acc: 0.042 - ETA: 9s - loss: 4.6728 - acc: 0.041 - ETA: 9s - loss: 4.6743 - acc: 0.040 - ETA: 9s - loss: 4.6784 - acc: 0.040 - ETA: 9s - loss: 4.6784 - acc: 0.039 - ETA: 9s - loss: 4.6742 - acc: 0.040 - ETA: 9s - loss: 4.6734 - acc: 0.040 - ETA: 9s - loss: 4.6673 - acc: 0.041 - ETA: 9s - loss: 4.6673 - acc: 0.040 - ETA: 9s - loss: 4.6697 - acc: 0.040 - ETA: 8s - loss: 4.6652 - acc: 0.041 - ETA: 8s - loss: 4.6625 - acc: 0.041 - ETA: 8s - loss: 4.6601 - acc: 0.041 - ETA: 8s - loss: 4.6582 - acc: 0.041 - ETA: 8s - loss: 4.6559 - acc: 0.040 - ETA: 8s - loss: 4.6599 - acc: 0.040 - ETA: 8s - loss: 4.6633 - acc: 0.039 - ETA: 8s - loss: 4.6637 - acc: 0.038 - ETA: 8s - loss: 4.6630 - acc: 0.038 - ETA: 8s - loss: 4.6640 - acc: 0.038 - ETA: 8s - loss: 4.6606 - acc: 0.038 - ETA: 8s - loss: 4.6619 - acc: 0.038 - ETA: 8s - loss: 4.6599 - acc: 0.037 - ETA: 8s - loss: 4.6597 - acc: 0.038 - ETA: 7s - loss: 4.6570 - acc: 0.037 - ETA: 7s - loss: 4.6608 - acc: 0.036 - ETA: 7s - loss: 4.6632 - acc: 0.036 - ETA: 7s - loss: 4.6610 - acc: 0.036 - ETA: 7s - loss: 4.6626 - acc: 0.035 - ETA: 7s - loss: 4.6614 - acc: 0.035 - ETA: 7s - loss: 4.6597 - acc: 0.036 - ETA: 7s - loss: 4.6612 - acc: 0.036 - ETA: 7s - loss: 4.6625 - acc: 0.036 - ETA: 7s - loss: 4.6628 - acc: 0.036 - ETA: 7s - loss: 4.6609 - acc: 0.037 - ETA: 7s - loss: 4.6611 - acc: 0.036 - ETA: 7s - loss: 4.6615 - acc: 0.037 - ETA: 7s - loss: 4.6611 - acc: 0.037 - ETA: 6s - loss: 4.6600 - acc: 0.036 - ETA: 6s - loss: 4.6598 - acc: 0.037 - ETA: 6s - loss: 4.6595 - acc: 0.036 - ETA: 6s - loss: 4.6579 - acc: 0.037 - ETA: 6s - loss: 4.6583 - acc: 0.037 - ETA: 6s - loss: 4.6575 - acc: 0.038 - ETA: 6s - loss: 4.6569 - acc: 0.037 - ETA: 6s - loss: 4.6554 - acc: 0.037 - ETA: 6s - loss: 4.6567 - acc: 0.037 - ETA: 6s - loss: 4.6571 - acc: 0.037 - ETA: 6s - loss: 4.6569 - acc: 0.036 - ETA: 6s - loss: 4.6564 - acc: 0.037 - ETA: 6s - loss: 4.6580 - acc: 0.036 - ETA: 5s - loss: 4.6569 - acc: 0.036 - ETA: 5s - loss: 4.6589 - acc: 0.036 - ETA: 5s - loss: 4.6579 - acc: 0.036 - ETA: 5s - loss: 4.6573 - acc: 0.036 - ETA: 5s - loss: 4.6564 - acc: 0.036 - ETA: 5s - loss: 4.6548 - acc: 0.036 - ETA: 5s - loss: 4.6542 - acc: 0.036 - ETA: 5s - loss: 4.6568 - acc: 0.036 - ETA: 5s - loss: 4.6574 - acc: 0.036 - ETA: 5s - loss: 4.6575 - acc: 0.036 - ETA: 5s - loss: 4.6571 - acc: 0.036 - ETA: 5s - loss: 4.6557 - acc: 0.037 - ETA: 5s - loss: 4.6544 - acc: 0.036 - ETA: 5s - loss: 4.6530 - acc: 0.037 - ETA: 4s - loss: 4.6531 - acc: 0.036 - ETA: 4s - loss: 4.6529 - acc: 0.037 - ETA: 4s - loss: 4.6531 - acc: 0.036 - ETA: 4s - loss: 4.6522 - acc: 0.036 - ETA: 4s - loss: 4.6548 - acc: 0.036 - ETA: 4s - loss: 4.6557 - acc: 0.037 - ETA: 4s - loss: 4.6559 - acc: 0.036 - ETA: 4s - loss: 4.6551 - acc: 0.036 - ETA: 4s - loss: 4.6539 - acc: 0.036 - ETA: 4s - loss: 4.6530 - acc: 0.037 - ETA: 4s - loss: 4.6530 - acc: 0.036 - ETA: 4s - loss: 4.6524 - acc: 0.036 - ETA: 4s - loss: 4.6522 - acc: 0.036 - ETA: 3s - loss: 4.6520 - acc: 0.036 - ETA: 3s - loss: 4.6518 - acc: 0.036 - ETA: 3s - loss: 4.6512 - acc: 0.036 - ETA: 3s - loss: 4.6520 - acc: 0.035 - ETA: 3s - loss: 4.6514 - acc: 0.036 - ETA: 3s - loss: 4.6509 - acc: 0.036 - ETA: 3s - loss: 4.6508 - acc: 0.036 - ETA: 3s - loss: 4.6500 - acc: 0.036 - ETA: 3s - loss: 4.6507 - acc: 0.036 - ETA: 3s - loss: 4.6502 - acc: 0.036 - ETA: 3s - loss: 4.6493 - acc: 0.036 - ETA: 3s - loss: 4.6501 - acc: 0.036 - ETA: 3s - loss: 4.6511 - acc: 0.036 - ETA: 3s - loss: 4.6508 - acc: 0.036 - ETA: 2s - loss: 4.6506 - acc: 0.036 - ETA: 2s - loss: 4.6498 - acc: 0.036 - ETA: 2s - loss: 4.6500 - acc: 0.036 - ETA: 2s - loss: 4.6505 - acc: 0.036 - ETA: 2s - loss: 4.6520 - acc: 0.036 - ETA: 2s - loss: 4.6519 - acc: 0.036 - ETA: 2s - loss: 4.6514 - acc: 0.036 - ETA: 2s - loss: 4.6505 - acc: 0.036 - ETA: 2s - loss: 4.6506 - acc: 0.036 - ETA: 2s - loss: 4.6513 - acc: 0.036 - ETA: 2s - loss: 4.6497 - acc: 0.036 - ETA: 2s - loss: 4.6498 - acc: 0.036 - ETA: 2s - loss: 4.6503 - acc: 0.036 - ETA: 2s - loss: 4.6507 - acc: 0.036 - ETA: 1s - loss: 4.6504 - acc: 0.036 - ETA: 1s - loss: 4.6492 - acc: 0.036 - ETA: 1s - loss: 4.6489 - acc: 0.036 - ETA: 1s - loss: 4.6475 - acc: 0.036 - ETA: 1s - loss: 4.6469 - acc: 0.037 - ETA: 1s - loss: 4.6458 - acc: 0.037 - ETA: 1s - loss: 4.6464 - acc: 0.037 - ETA: 1s - loss: 4.6469 - acc: 0.037 - ETA: 1s - loss: 4.6460 - acc: 0.037 - ETA: 1s - loss: 4.6467 - acc: 0.036 - ETA: 1s - loss: 4.6484 - acc: 0.036 - ETA: 1s - loss: 4.6482 - acc: 0.036 - ETA: 1s - loss: 4.6482 - acc: 0.036 - ETA: 1s - loss: 4.6488 - acc: 0.036 - ETA: 1s - loss: 4.6488 - acc: 0.036 - ETA: 0s - loss: 4.6490 - acc: 0.036 - ETA: 0s - loss: 4.6485 - acc: 0.036 - ETA: 0s - loss: 4.6484 - acc: 0.036 - ETA: 0s - loss: 4.6485 - acc: 0.036 - ETA: 0s - loss: 4.6482 - acc: 0.036 - ETA: 0s - loss: 4.6479 - acc: 0.036 - ETA: 0s - loss: 4.6482 - acc: 0.036 - ETA: 0s - loss: 4.6484 - acc: 0.036 - ETA: 0s - loss: 4.6492 - acc: 0.036 - ETA: 0s - loss: 4.6502 - acc: 0.036 - ETA: 0s - loss: 4.6498 - acc: 0.035 - ETA: 0s - loss: 4.6496 - acc: 0.035 - ETA: 0s - loss: 4.6506 - acc: 0.035 - ETA: 0s - loss: 4.6506 - acc: 0.035 - 12s 2ms/step - loss: 4.6506 - acc: 0.0355 - val_loss: 4.5137 - val_acc: 0.0479\n",
      "\n",
      "Epoch 00010: val_loss did not improve\n",
      "Epoch 11/20\n"
     ]
    },
    {
     "name": "stdout",
     "output_type": "stream",
     "text": [
      "6680/6680 [==============================] - ETA: 11s - loss: 4.5636 - acc: 0.05 - ETA: 11s - loss: 4.5526 - acc: 0.08 - ETA: 11s - loss: 4.5291 - acc: 0.08 - ETA: 11s - loss: 4.5385 - acc: 0.06 - ETA: 11s - loss: 4.5552 - acc: 0.06 - ETA: 11s - loss: 4.5731 - acc: 0.05 - ETA: 11s - loss: 4.5691 - acc: 0.05 - ETA: 11s - loss: 4.5999 - acc: 0.05 - ETA: 11s - loss: 4.5840 - acc: 0.05 - ETA: 11s - loss: 4.5949 - acc: 0.04 - ETA: 11s - loss: 4.5930 - acc: 0.04 - ETA: 11s - loss: 4.5808 - acc: 0.04 - ETA: 11s - loss: 4.5921 - acc: 0.04 - ETA: 10s - loss: 4.6176 - acc: 0.03 - ETA: 10s - loss: 4.6187 - acc: 0.03 - ETA: 10s - loss: 4.6164 - acc: 0.03 - ETA: 10s - loss: 4.6175 - acc: 0.03 - ETA: 10s - loss: 4.6055 - acc: 0.04 - ETA: 10s - loss: 4.6149 - acc: 0.04 - ETA: 10s - loss: 4.6077 - acc: 0.04 - ETA: 10s - loss: 4.6086 - acc: 0.04 - ETA: 10s - loss: 4.6050 - acc: 0.04 - ETA: 10s - loss: 4.6079 - acc: 0.03 - ETA: 10s - loss: 4.6069 - acc: 0.03 - ETA: 10s - loss: 4.6107 - acc: 0.03 - ETA: 10s - loss: 4.6209 - acc: 0.03 - ETA: 10s - loss: 4.6207 - acc: 0.03 - ETA: 10s - loss: 4.6247 - acc: 0.03 - ETA: 9s - loss: 4.6268 - acc: 0.0377 - ETA: 9s - loss: 4.6286 - acc: 0.039 - ETA: 9s - loss: 4.6268 - acc: 0.037 - ETA: 9s - loss: 4.6326 - acc: 0.038 - ETA: 9s - loss: 4.6304 - acc: 0.037 - ETA: 9s - loss: 4.6305 - acc: 0.036 - ETA: 9s - loss: 4.6308 - acc: 0.036 - ETA: 9s - loss: 4.6303 - acc: 0.035 - ETA: 9s - loss: 4.6290 - acc: 0.035 - ETA: 9s - loss: 4.6303 - acc: 0.034 - ETA: 9s - loss: 4.6270 - acc: 0.034 - ETA: 9s - loss: 4.6234 - acc: 0.034 - ETA: 9s - loss: 4.6194 - acc: 0.033 - ETA: 9s - loss: 4.6197 - acc: 0.034 - ETA: 8s - loss: 4.6177 - acc: 0.035 - ETA: 8s - loss: 4.6185 - acc: 0.035 - ETA: 8s - loss: 4.6181 - acc: 0.034 - ETA: 8s - loss: 4.6163 - acc: 0.034 - ETA: 8s - loss: 4.6217 - acc: 0.033 - ETA: 8s - loss: 4.6200 - acc: 0.034 - ETA: 8s - loss: 4.6178 - acc: 0.035 - ETA: 8s - loss: 4.6192 - acc: 0.034 - ETA: 8s - loss: 4.6167 - acc: 0.034 - ETA: 8s - loss: 4.6164 - acc: 0.034 - ETA: 8s - loss: 4.6183 - acc: 0.035 - ETA: 8s - loss: 4.6163 - acc: 0.035 - ETA: 8s - loss: 4.6183 - acc: 0.034 - ETA: 7s - loss: 4.6203 - acc: 0.034 - ETA: 7s - loss: 4.6175 - acc: 0.035 - ETA: 7s - loss: 4.6157 - acc: 0.035 - ETA: 7s - loss: 4.6176 - acc: 0.035 - ETA: 7s - loss: 4.6168 - acc: 0.035 - ETA: 7s - loss: 4.6152 - acc: 0.036 - ETA: 7s - loss: 4.6163 - acc: 0.035 - ETA: 7s - loss: 4.6182 - acc: 0.035 - ETA: 7s - loss: 4.6218 - acc: 0.035 - ETA: 7s - loss: 4.6192 - acc: 0.035 - ETA: 7s - loss: 4.6207 - acc: 0.034 - ETA: 7s - loss: 4.6173 - acc: 0.035 - ETA: 7s - loss: 4.6171 - acc: 0.035 - ETA: 7s - loss: 4.6166 - acc: 0.035 - ETA: 6s - loss: 4.6158 - acc: 0.036 - ETA: 6s - loss: 4.6169 - acc: 0.036 - ETA: 6s - loss: 4.6204 - acc: 0.036 - ETA: 6s - loss: 4.6204 - acc: 0.035 - ETA: 6s - loss: 4.6227 - acc: 0.035 - ETA: 6s - loss: 4.6224 - acc: 0.035 - ETA: 6s - loss: 4.6212 - acc: 0.036 - ETA: 6s - loss: 4.6235 - acc: 0.035 - ETA: 6s - loss: 4.6237 - acc: 0.035 - ETA: 6s - loss: 4.6228 - acc: 0.035 - ETA: 6s - loss: 4.6222 - acc: 0.034 - ETA: 6s - loss: 4.6211 - acc: 0.034 - ETA: 6s - loss: 4.6199 - acc: 0.034 - ETA: 6s - loss: 4.6191 - acc: 0.034 - ETA: 5s - loss: 4.6194 - acc: 0.034 - ETA: 5s - loss: 4.6215 - acc: 0.033 - ETA: 5s - loss: 4.6201 - acc: 0.033 - ETA: 5s - loss: 4.6189 - acc: 0.033 - ETA: 5s - loss: 4.6217 - acc: 0.033 - ETA: 5s - loss: 4.6220 - acc: 0.033 - ETA: 5s - loss: 4.6226 - acc: 0.033 - ETA: 5s - loss: 4.6228 - acc: 0.033 - ETA: 5s - loss: 4.6222 - acc: 0.033 - ETA: 5s - loss: 4.6213 - acc: 0.033 - ETA: 5s - loss: 4.6222 - acc: 0.033 - ETA: 5s - loss: 4.6230 - acc: 0.033 - ETA: 5s - loss: 4.6233 - acc: 0.034 - ETA: 5s - loss: 4.6243 - acc: 0.034 - ETA: 4s - loss: 4.6247 - acc: 0.034 - ETA: 4s - loss: 4.6248 - acc: 0.034 - ETA: 4s - loss: 4.6245 - acc: 0.034 - ETA: 4s - loss: 4.6237 - acc: 0.035 - ETA: 4s - loss: 4.6258 - acc: 0.034 - ETA: 4s - loss: 4.6269 - acc: 0.034 - ETA: 4s - loss: 4.6277 - acc: 0.034 - ETA: 4s - loss: 4.6296 - acc: 0.034 - ETA: 4s - loss: 4.6295 - acc: 0.034 - ETA: 4s - loss: 4.6304 - acc: 0.034 - ETA: 4s - loss: 4.6299 - acc: 0.034 - ETA: 4s - loss: 4.6291 - acc: 0.034 - ETA: 4s - loss: 4.6289 - acc: 0.034 - ETA: 4s - loss: 4.6286 - acc: 0.034 - ETA: 3s - loss: 4.6291 - acc: 0.034 - ETA: 3s - loss: 4.6289 - acc: 0.034 - ETA: 3s - loss: 4.6290 - acc: 0.034 - ETA: 3s - loss: 4.6307 - acc: 0.034 - ETA: 3s - loss: 4.6303 - acc: 0.034 - ETA: 3s - loss: 4.6325 - acc: 0.034 - ETA: 3s - loss: 4.6329 - acc: 0.034 - ETA: 3s - loss: 4.6328 - acc: 0.034 - ETA: 3s - loss: 4.6339 - acc: 0.034 - ETA: 3s - loss: 4.6347 - acc: 0.034 - ETA: 3s - loss: 4.6344 - acc: 0.034 - ETA: 3s - loss: 4.6347 - acc: 0.034 - ETA: 3s - loss: 4.6351 - acc: 0.034 - ETA: 3s - loss: 4.6360 - acc: 0.034 - ETA: 2s - loss: 4.6366 - acc: 0.033 - ETA: 2s - loss: 4.6378 - acc: 0.034 - ETA: 2s - loss: 4.6379 - acc: 0.033 - ETA: 2s - loss: 4.6391 - acc: 0.033 - ETA: 2s - loss: 4.6383 - acc: 0.033 - ETA: 2s - loss: 4.6376 - acc: 0.033 - ETA: 2s - loss: 4.6374 - acc: 0.034 - ETA: 2s - loss: 4.6382 - acc: 0.034 - ETA: 2s - loss: 4.6381 - acc: 0.034 - ETA: 2s - loss: 4.6368 - acc: 0.034 - ETA: 2s - loss: 4.6347 - acc: 0.034 - ETA: 2s - loss: 4.6357 - acc: 0.034 - ETA: 2s - loss: 4.6346 - acc: 0.034 - ETA: 2s - loss: 4.6357 - acc: 0.034 - ETA: 1s - loss: 4.6351 - acc: 0.034 - ETA: 1s - loss: 4.6356 - acc: 0.034 - ETA: 1s - loss: 4.6356 - acc: 0.034 - ETA: 1s - loss: 4.6334 - acc: 0.034 - ETA: 1s - loss: 4.6343 - acc: 0.034 - ETA: 1s - loss: 4.6349 - acc: 0.034 - ETA: 1s - loss: 4.6338 - acc: 0.034 - ETA: 1s - loss: 4.6347 - acc: 0.034 - ETA: 1s - loss: 4.6336 - acc: 0.035 - ETA: 1s - loss: 4.6331 - acc: 0.035 - ETA: 1s - loss: 4.6324 - acc: 0.035 - ETA: 1s - loss: 4.6315 - acc: 0.035 - ETA: 1s - loss: 4.6310 - acc: 0.035 - ETA: 1s - loss: 4.6318 - acc: 0.035 - ETA: 0s - loss: 4.6328 - acc: 0.035 - ETA: 0s - loss: 4.6305 - acc: 0.035 - ETA: 0s - loss: 4.6294 - acc: 0.035 - ETA: 0s - loss: 4.6301 - acc: 0.035 - ETA: 0s - loss: 4.6288 - acc: 0.035 - ETA: 0s - loss: 4.6288 - acc: 0.035 - ETA: 0s - loss: 4.6290 - acc: 0.035 - ETA: 0s - loss: 4.6304 - acc: 0.035 - ETA: 0s - loss: 4.6317 - acc: 0.035 - ETA: 0s - loss: 4.6316 - acc: 0.035 - ETA: 0s - loss: 4.6320 - acc: 0.035 - ETA: 0s - loss: 4.6332 - acc: 0.035 - ETA: 0s - loss: 4.6328 - acc: 0.035 - ETA: 0s - loss: 4.6327 - acc: 0.035 - 12s 2ms/step - loss: 4.6328 - acc: 0.0353 - val_loss: 4.4805 - val_acc: 0.0447\n",
      "\n",
      "Epoch 00011: val_loss did not improve\n",
      "Epoch 12/20\n"
     ]
    },
    {
     "name": "stdout",
     "output_type": "stream",
     "text": [
      "6680/6680 [==============================] - ETA: 11s - loss: 4.7094 - acc: 0.10 - ETA: 11s - loss: 4.6058 - acc: 0.06 - ETA: 11s - loss: 4.6051 - acc: 0.04 - ETA: 11s - loss: 4.6077 - acc: 0.02 - ETA: 11s - loss: 4.6262 - acc: 0.02 - ETA: 11s - loss: 4.6175 - acc: 0.02 - ETA: 11s - loss: 4.6264 - acc: 0.02 - ETA: 11s - loss: 4.6304 - acc: 0.02 - ETA: 11s - loss: 4.6219 - acc: 0.02 - ETA: 11s - loss: 4.6304 - acc: 0.02 - ETA: 11s - loss: 4.6101 - acc: 0.03 - ETA: 11s - loss: 4.5889 - acc: 0.04 - ETA: 11s - loss: 4.5908 - acc: 0.03 - ETA: 11s - loss: 4.5974 - acc: 0.03 - ETA: 11s - loss: 4.5985 - acc: 0.03 - ETA: 10s - loss: 4.5850 - acc: 0.03 - ETA: 10s - loss: 4.5837 - acc: 0.03 - ETA: 10s - loss: 4.5863 - acc: 0.03 - ETA: 10s - loss: 4.5864 - acc: 0.03 - ETA: 10s - loss: 4.5923 - acc: 0.03 - ETA: 10s - loss: 4.5901 - acc: 0.03 - ETA: 10s - loss: 4.5957 - acc: 0.03 - ETA: 10s - loss: 4.5988 - acc: 0.03 - ETA: 10s - loss: 4.5956 - acc: 0.03 - ETA: 10s - loss: 4.6052 - acc: 0.03 - ETA: 10s - loss: 4.6145 - acc: 0.03 - ETA: 10s - loss: 4.6143 - acc: 0.03 - ETA: 10s - loss: 4.6176 - acc: 0.03 - ETA: 9s - loss: 4.6190 - acc: 0.0330 - ETA: 9s - loss: 4.6168 - acc: 0.032 - ETA: 9s - loss: 4.6168 - acc: 0.035 - ETA: 9s - loss: 4.6148 - acc: 0.036 - ETA: 9s - loss: 4.6080 - acc: 0.036 - ETA: 9s - loss: 4.6120 - acc: 0.036 - ETA: 9s - loss: 4.6126 - acc: 0.035 - ETA: 9s - loss: 4.6097 - acc: 0.037 - ETA: 9s - loss: 4.6163 - acc: 0.037 - ETA: 9s - loss: 4.6212 - acc: 0.037 - ETA: 9s - loss: 4.6189 - acc: 0.036 - ETA: 9s - loss: 4.6176 - acc: 0.035 - ETA: 9s - loss: 4.6184 - acc: 0.036 - ETA: 9s - loss: 4.6200 - acc: 0.035 - ETA: 9s - loss: 4.6183 - acc: 0.035 - ETA: 9s - loss: 4.6191 - acc: 0.035 - ETA: 8s - loss: 4.6192 - acc: 0.035 - ETA: 8s - loss: 4.6165 - acc: 0.035 - ETA: 8s - loss: 4.6135 - acc: 0.034 - ETA: 8s - loss: 4.6136 - acc: 0.034 - ETA: 8s - loss: 4.6115 - acc: 0.034 - ETA: 8s - loss: 4.6116 - acc: 0.034 - ETA: 8s - loss: 4.6136 - acc: 0.034 - ETA: 8s - loss: 4.6135 - acc: 0.034 - ETA: 8s - loss: 4.6094 - acc: 0.035 - ETA: 8s - loss: 4.6130 - acc: 0.035 - ETA: 8s - loss: 4.6137 - acc: 0.035 - ETA: 8s - loss: 4.6114 - acc: 0.035 - ETA: 8s - loss: 4.6110 - acc: 0.035 - ETA: 8s - loss: 4.6133 - acc: 0.035 - ETA: 7s - loss: 4.6136 - acc: 0.036 - ETA: 7s - loss: 4.6154 - acc: 0.036 - ETA: 7s - loss: 4.6180 - acc: 0.035 - ETA: 7s - loss: 4.6176 - acc: 0.035 - ETA: 7s - loss: 4.6180 - acc: 0.036 - ETA: 7s - loss: 4.6179 - acc: 0.036 - ETA: 7s - loss: 4.6170 - acc: 0.035 - ETA: 7s - loss: 4.6150 - acc: 0.035 - ETA: 7s - loss: 4.6173 - acc: 0.034 - ETA: 7s - loss: 4.6191 - acc: 0.034 - ETA: 7s - loss: 4.6176 - acc: 0.034 - ETA: 7s - loss: 4.6173 - acc: 0.034 - ETA: 7s - loss: 4.6159 - acc: 0.035 - ETA: 6s - loss: 4.6181 - acc: 0.035 - ETA: 6s - loss: 4.6171 - acc: 0.035 - ETA: 6s - loss: 4.6146 - acc: 0.035 - ETA: 6s - loss: 4.6163 - acc: 0.035 - ETA: 6s - loss: 4.6172 - acc: 0.036 - ETA: 6s - loss: 4.6168 - acc: 0.036 - ETA: 6s - loss: 4.6160 - acc: 0.036 - ETA: 6s - loss: 4.6151 - acc: 0.036 - ETA: 6s - loss: 4.6152 - acc: 0.036 - ETA: 6s - loss: 4.6135 - acc: 0.036 - ETA: 6s - loss: 4.6131 - acc: 0.036 - ETA: 6s - loss: 4.6162 - acc: 0.037 - ETA: 6s - loss: 4.6153 - acc: 0.036 - ETA: 6s - loss: 4.6154 - acc: 0.037 - ETA: 5s - loss: 4.6169 - acc: 0.036 - ETA: 5s - loss: 4.6180 - acc: 0.036 - ETA: 5s - loss: 4.6181 - acc: 0.036 - ETA: 5s - loss: 4.6161 - acc: 0.036 - ETA: 5s - loss: 4.6161 - acc: 0.036 - ETA: 5s - loss: 4.6184 - acc: 0.035 - ETA: 5s - loss: 4.6184 - acc: 0.035 - ETA: 5s - loss: 4.6200 - acc: 0.036 - ETA: 5s - loss: 4.6188 - acc: 0.036 - ETA: 5s - loss: 4.6178 - acc: 0.036 - ETA: 5s - loss: 4.6171 - acc: 0.036 - ETA: 5s - loss: 4.6153 - acc: 0.036 - ETA: 5s - loss: 4.6133 - acc: 0.036 - ETA: 5s - loss: 4.6136 - acc: 0.036 - ETA: 4s - loss: 4.6146 - acc: 0.036 - ETA: 4s - loss: 4.6134 - acc: 0.036 - ETA: 4s - loss: 4.6127 - acc: 0.037 - ETA: 4s - loss: 4.6135 - acc: 0.036 - ETA: 4s - loss: 4.6115 - acc: 0.036 - ETA: 4s - loss: 4.6103 - acc: 0.036 - ETA: 4s - loss: 4.6093 - acc: 0.037 - ETA: 4s - loss: 4.6091 - acc: 0.036 - ETA: 4s - loss: 4.6090 - acc: 0.036 - ETA: 4s - loss: 4.6105 - acc: 0.036 - ETA: 4s - loss: 4.6085 - acc: 0.037 - ETA: 4s - loss: 4.6110 - acc: 0.036 - ETA: 4s - loss: 4.6107 - acc: 0.036 - ETA: 4s - loss: 4.6105 - acc: 0.036 - ETA: 3s - loss: 4.6096 - acc: 0.037 - ETA: 3s - loss: 4.6102 - acc: 0.037 - ETA: 3s - loss: 4.6103 - acc: 0.037 - ETA: 3s - loss: 4.6096 - acc: 0.037 - ETA: 3s - loss: 4.6100 - acc: 0.037 - ETA: 3s - loss: 4.6108 - acc: 0.036 - ETA: 3s - loss: 4.6095 - acc: 0.036 - ETA: 3s - loss: 4.6098 - acc: 0.036 - ETA: 3s - loss: 4.6088 - acc: 0.036 - ETA: 3s - loss: 4.6076 - acc: 0.036 - ETA: 3s - loss: 4.6075 - acc: 0.037 - ETA: 3s - loss: 4.6077 - acc: 0.037 - ETA: 3s - loss: 4.6096 - acc: 0.037 - ETA: 3s - loss: 4.6105 - acc: 0.036 - ETA: 2s - loss: 4.6099 - acc: 0.037 - ETA: 2s - loss: 4.6110 - acc: 0.037 - ETA: 2s - loss: 4.6098 - acc: 0.037 - ETA: 2s - loss: 4.6093 - acc: 0.037 - ETA: 2s - loss: 4.6095 - acc: 0.037 - ETA: 2s - loss: 4.6102 - acc: 0.037 - ETA: 2s - loss: 4.6116 - acc: 0.037 - ETA: 2s - loss: 4.6130 - acc: 0.037 - ETA: 2s - loss: 4.6132 - acc: 0.038 - ETA: 2s - loss: 4.6107 - acc: 0.038 - ETA: 2s - loss: 4.6109 - acc: 0.038 - ETA: 2s - loss: 4.6115 - acc: 0.038 - ETA: 2s - loss: 4.6131 - acc: 0.038 - ETA: 2s - loss: 4.6134 - acc: 0.038 - ETA: 2s - loss: 4.6144 - acc: 0.038 - ETA: 1s - loss: 4.6140 - acc: 0.038 - ETA: 1s - loss: 4.6134 - acc: 0.038 - ETA: 1s - loss: 4.6134 - acc: 0.038 - ETA: 1s - loss: 4.6132 - acc: 0.038 - ETA: 1s - loss: 4.6134 - acc: 0.038 - ETA: 1s - loss: 4.6150 - acc: 0.037 - ETA: 1s - loss: 4.6148 - acc: 0.037 - ETA: 1s - loss: 4.6150 - acc: 0.037 - ETA: 1s - loss: 4.6145 - acc: 0.037 - ETA: 1s - loss: 4.6160 - acc: 0.037 - ETA: 1s - loss: 4.6157 - acc: 0.037 - ETA: 1s - loss: 4.6161 - acc: 0.037 - ETA: 1s - loss: 4.6158 - acc: 0.037 - ETA: 1s - loss: 4.6164 - acc: 0.037 - ETA: 0s - loss: 4.6190 - acc: 0.037 - ETA: 0s - loss: 4.6198 - acc: 0.036 - ETA: 0s - loss: 4.6192 - acc: 0.037 - ETA: 0s - loss: 4.6182 - acc: 0.037 - ETA: 0s - loss: 4.6188 - acc: 0.037 - ETA: 0s - loss: 4.6201 - acc: 0.037 - ETA: 0s - loss: 4.6194 - acc: 0.037 - ETA: 0s - loss: 4.6180 - acc: 0.037 - ETA: 0s - loss: 4.6175 - acc: 0.037 - ETA: 0s - loss: 4.6180 - acc: 0.037 - ETA: 0s - loss: 4.6171 - acc: 0.037 - ETA: 0s - loss: 4.6166 - acc: 0.037 - ETA: 0s - loss: 4.6162 - acc: 0.038 - 12s 2ms/step - loss: 4.6159 - acc: 0.0379 - val_loss: 4.4666 - val_acc: 0.0543\n",
      "\n",
      "Epoch 00012: val_loss improved from 4.47194 to 4.46661, saving model to saved_models/weights.best.from_scratch.hdf5\n",
      "Epoch 13/20\n"
     ]
    },
    {
     "name": "stdout",
     "output_type": "stream",
     "text": [
      "6680/6680 [==============================] - ETA: 18s - loss: 4.7505 - acc: 0.0000e+ - ETA: 14s - loss: 4.5942 - acc: 0.0333   - ETA: 13s - loss: 4.6483 - acc: 0.02 - ETA: 12s - loss: 4.5654 - acc: 0.02 - ETA: 12s - loss: 4.5314 - acc: 0.04 - ETA: 12s - loss: 4.5401 - acc: 0.04 - ETA: 12s - loss: 4.5266 - acc: 0.04 - ETA: 11s - loss: 4.5431 - acc: 0.04 - ETA: 11s - loss: 4.5393 - acc: 0.04 - ETA: 11s - loss: 4.5432 - acc: 0.04 - ETA: 11s - loss: 4.5494 - acc: 0.04 - ETA: 11s - loss: 4.5505 - acc: 0.04 - ETA: 11s - loss: 4.5573 - acc: 0.04 - ETA: 11s - loss: 4.5517 - acc: 0.04 - ETA: 11s - loss: 4.5609 - acc: 0.04 - ETA: 11s - loss: 4.5575 - acc: 0.04 - ETA: 11s - loss: 4.5769 - acc: 0.04 - ETA: 10s - loss: 4.5864 - acc: 0.04 - ETA: 10s - loss: 4.5813 - acc: 0.04 - ETA: 10s - loss: 4.5925 - acc: 0.04 - ETA: 10s - loss: 4.5856 - acc: 0.03 - ETA: 10s - loss: 4.5829 - acc: 0.03 - ETA: 10s - loss: 4.5924 - acc: 0.03 - ETA: 10s - loss: 4.5903 - acc: 0.03 - ETA: 10s - loss: 4.5887 - acc: 0.03 - ETA: 10s - loss: 4.5899 - acc: 0.03 - ETA: 10s - loss: 4.5859 - acc: 0.03 - ETA: 10s - loss: 4.5805 - acc: 0.04 - ETA: 10s - loss: 4.5813 - acc: 0.04 - ETA: 9s - loss: 4.5771 - acc: 0.0441 - ETA: 9s - loss: 4.5736 - acc: 0.043 - ETA: 9s - loss: 4.5714 - acc: 0.043 - ETA: 9s - loss: 4.5683 - acc: 0.043 - ETA: 9s - loss: 4.5746 - acc: 0.041 - ETA: 9s - loss: 4.5733 - acc: 0.042 - ETA: 9s - loss: 4.5746 - acc: 0.041 - ETA: 9s - loss: 4.5752 - acc: 0.040 - ETA: 9s - loss: 4.5791 - acc: 0.040 - ETA: 9s - loss: 4.5784 - acc: 0.040 - ETA: 9s - loss: 4.5816 - acc: 0.041 - ETA: 9s - loss: 4.5785 - acc: 0.042 - ETA: 9s - loss: 4.5748 - acc: 0.042 - ETA: 9s - loss: 4.5761 - acc: 0.041 - ETA: 8s - loss: 4.5773 - acc: 0.041 - ETA: 8s - loss: 4.5737 - acc: 0.043 - ETA: 8s - loss: 4.5751 - acc: 0.043 - ETA: 8s - loss: 4.5774 - acc: 0.044 - ETA: 8s - loss: 4.5797 - acc: 0.043 - ETA: 8s - loss: 4.5812 - acc: 0.043 - ETA: 8s - loss: 4.5826 - acc: 0.044 - ETA: 8s - loss: 4.5858 - acc: 0.043 - ETA: 8s - loss: 4.5822 - acc: 0.043 - ETA: 8s - loss: 4.5819 - acc: 0.042 - ETA: 8s - loss: 4.5849 - acc: 0.042 - ETA: 8s - loss: 4.5846 - acc: 0.041 - ETA: 8s - loss: 4.5808 - acc: 0.041 - ETA: 7s - loss: 4.5820 - acc: 0.041 - ETA: 7s - loss: 4.5812 - acc: 0.041 - ETA: 7s - loss: 4.5835 - acc: 0.041 - ETA: 7s - loss: 4.5850 - acc: 0.042 - ETA: 7s - loss: 4.5824 - acc: 0.042 - ETA: 7s - loss: 4.5788 - acc: 0.043 - ETA: 7s - loss: 4.5795 - acc: 0.043 - ETA: 7s - loss: 4.5808 - acc: 0.042 - ETA: 7s - loss: 4.5816 - acc: 0.043 - ETA: 7s - loss: 4.5815 - acc: 0.042 - ETA: 7s - loss: 4.5816 - acc: 0.042 - ETA: 7s - loss: 4.5854 - acc: 0.042 - ETA: 7s - loss: 4.5837 - acc: 0.042 - ETA: 7s - loss: 4.5859 - acc: 0.043 - ETA: 6s - loss: 4.5851 - acc: 0.043 - ETA: 6s - loss: 4.5841 - acc: 0.044 - ETA: 6s - loss: 4.5845 - acc: 0.043 - ETA: 6s - loss: 4.5854 - acc: 0.043 - ETA: 6s - loss: 4.5838 - acc: 0.043 - ETA: 6s - loss: 4.5850 - acc: 0.042 - ETA: 6s - loss: 4.5825 - acc: 0.042 - ETA: 6s - loss: 4.5820 - acc: 0.042 - ETA: 6s - loss: 4.5832 - acc: 0.041 - ETA: 6s - loss: 4.5841 - acc: 0.041 - ETA: 6s - loss: 4.5825 - acc: 0.042 - ETA: 6s - loss: 4.5845 - acc: 0.042 - ETA: 6s - loss: 4.5831 - acc: 0.042 - ETA: 6s - loss: 4.5838 - acc: 0.042 - ETA: 5s - loss: 4.5813 - acc: 0.042 - ETA: 5s - loss: 4.5812 - acc: 0.042 - ETA: 5s - loss: 4.5803 - acc: 0.042 - ETA: 5s - loss: 4.5828 - acc: 0.042 - ETA: 5s - loss: 4.5822 - acc: 0.042 - ETA: 5s - loss: 4.5823 - acc: 0.042 - ETA: 5s - loss: 4.5824 - acc: 0.041 - ETA: 5s - loss: 4.5834 - acc: 0.041 - ETA: 5s - loss: 4.5844 - acc: 0.041 - ETA: 5s - loss: 4.5861 - acc: 0.041 - ETA: 5s - loss: 4.5861 - acc: 0.041 - ETA: 5s - loss: 4.5868 - acc: 0.041 - ETA: 5s - loss: 4.5872 - acc: 0.041 - ETA: 5s - loss: 4.5874 - acc: 0.041 - ETA: 4s - loss: 4.5863 - acc: 0.041 - ETA: 4s - loss: 4.5869 - acc: 0.041 - ETA: 4s - loss: 4.5872 - acc: 0.041 - ETA: 4s - loss: 4.5872 - acc: 0.041 - ETA: 4s - loss: 4.5886 - acc: 0.041 - ETA: 4s - loss: 4.5877 - acc: 0.041 - ETA: 4s - loss: 4.5889 - acc: 0.041 - ETA: 4s - loss: 4.5888 - acc: 0.041 - ETA: 4s - loss: 4.5895 - acc: 0.041 - ETA: 4s - loss: 4.5914 - acc: 0.041 - ETA: 4s - loss: 4.5929 - acc: 0.040 - ETA: 4s - loss: 4.5933 - acc: 0.040 - ETA: 4s - loss: 4.5923 - acc: 0.040 - ETA: 4s - loss: 4.5908 - acc: 0.040 - ETA: 3s - loss: 4.5929 - acc: 0.040 - ETA: 3s - loss: 4.5939 - acc: 0.040 - ETA: 3s - loss: 4.5932 - acc: 0.040 - ETA: 3s - loss: 4.5929 - acc: 0.039 - ETA: 3s - loss: 4.5925 - acc: 0.039 - ETA: 3s - loss: 4.5917 - acc: 0.039 - ETA: 3s - loss: 4.5908 - acc: 0.039 - ETA: 3s - loss: 4.5880 - acc: 0.039 - ETA: 3s - loss: 4.5879 - acc: 0.040 - ETA: 3s - loss: 4.5885 - acc: 0.039 - ETA: 3s - loss: 4.5889 - acc: 0.039 - ETA: 3s - loss: 4.5893 - acc: 0.039 - ETA: 3s - loss: 4.5878 - acc: 0.039 - ETA: 3s - loss: 4.5899 - acc: 0.039 - ETA: 2s - loss: 4.5902 - acc: 0.039 - ETA: 2s - loss: 4.5907 - acc: 0.039 - ETA: 2s - loss: 4.5898 - acc: 0.039 - ETA: 2s - loss: 4.5895 - acc: 0.039 - ETA: 2s - loss: 4.5888 - acc: 0.039 - ETA: 2s - loss: 4.5886 - acc: 0.039 - ETA: 2s - loss: 4.5882 - acc: 0.039 - ETA: 2s - loss: 4.5895 - acc: 0.039 - ETA: 2s - loss: 4.5899 - acc: 0.039 - ETA: 2s - loss: 4.5890 - acc: 0.040 - ETA: 2s - loss: 4.5906 - acc: 0.040 - ETA: 2s - loss: 4.5904 - acc: 0.039 - ETA: 2s - loss: 4.5903 - acc: 0.039 - ETA: 2s - loss: 4.5902 - acc: 0.039 - ETA: 2s - loss: 4.5889 - acc: 0.040 - ETA: 1s - loss: 4.5892 - acc: 0.040 - ETA: 1s - loss: 4.5893 - acc: 0.040 - ETA: 1s - loss: 4.5883 - acc: 0.040 - ETA: 1s - loss: 4.5883 - acc: 0.040 - ETA: 1s - loss: 4.5880 - acc: 0.040 - ETA: 1s - loss: 4.5882 - acc: 0.040 - ETA: 1s - loss: 4.5887 - acc: 0.040 - ETA: 1s - loss: 4.5891 - acc: 0.040 - ETA: 1s - loss: 4.5891 - acc: 0.040 - ETA: 1s - loss: 4.5902 - acc: 0.040 - ETA: 1s - loss: 4.5896 - acc: 0.040 - ETA: 1s - loss: 4.5909 - acc: 0.040 - ETA: 1s - loss: 4.5917 - acc: 0.040 - ETA: 1s - loss: 4.5919 - acc: 0.040 - ETA: 1s - loss: 4.5924 - acc: 0.040 - ETA: 0s - loss: 4.5927 - acc: 0.039 - ETA: 0s - loss: 4.5931 - acc: 0.039 - ETA: 0s - loss: 4.5939 - acc: 0.039 - ETA: 0s - loss: 4.5956 - acc: 0.039 - ETA: 0s - loss: 4.5954 - acc: 0.039 - ETA: 0s - loss: 4.5955 - acc: 0.039 - ETA: 0s - loss: 4.5968 - acc: 0.039 - ETA: 0s - loss: 4.5978 - acc: 0.039 - ETA: 0s - loss: 4.5982 - acc: 0.039 - ETA: 0s - loss: 4.5987 - acc: 0.039 - ETA: 0s - loss: 4.5988 - acc: 0.039 - ETA: 0s - loss: 4.5978 - acc: 0.039 - ETA: 0s - loss: 4.5972 - acc: 0.039 - 12s 2ms/step - loss: 4.5984 - acc: 0.0395 - val_loss: 4.4627 - val_acc: 0.0671\n",
      "\n",
      "Epoch 00013: val_loss improved from 4.46661 to 4.46272, saving model to saved_models/weights.best.from_scratch.hdf5\n",
      "Epoch 14/20\n"
     ]
    },
    {
     "name": "stdout",
     "output_type": "stream",
     "text": [
      "6680/6680 [==============================] - ETA: 17s - loss: 4.5616 - acc: 0.10 - ETA: 12s - loss: 4.4724 - acc: 0.06 - ETA: 14s - loss: 4.5504 - acc: 0.05 - ETA: 12s - loss: 4.5164 - acc: 0.06 - ETA: 12s - loss: 4.5324 - acc: 0.05 - ETA: 12s - loss: 4.5431 - acc: 0.05 - ETA: 12s - loss: 4.5491 - acc: 0.05 - ETA: 12s - loss: 4.5243 - acc: 0.05 - ETA: 11s - loss: 4.5227 - acc: 0.05 - ETA: 12s - loss: 4.5281 - acc: 0.05 - ETA: 11s - loss: 4.5545 - acc: 0.04 - ETA: 11s - loss: 4.5477 - acc: 0.05 - ETA: 11s - loss: 4.5473 - acc: 0.05 - ETA: 11s - loss: 4.5528 - acc: 0.05 - ETA: 11s - loss: 4.5490 - acc: 0.05 - ETA: 11s - loss: 4.5433 - acc: 0.05 - ETA: 11s - loss: 4.5494 - acc: 0.05 - ETA: 11s - loss: 4.5446 - acc: 0.05 - ETA: 11s - loss: 4.5522 - acc: 0.05 - ETA: 11s - loss: 4.5571 - acc: 0.04 - ETA: 10s - loss: 4.5558 - acc: 0.04 - ETA: 10s - loss: 4.5550 - acc: 0.04 - ETA: 10s - loss: 4.5565 - acc: 0.04 - ETA: 10s - loss: 4.5550 - acc: 0.04 - ETA: 10s - loss: 4.5502 - acc: 0.04 - ETA: 10s - loss: 4.5470 - acc: 0.04 - ETA: 10s - loss: 4.5482 - acc: 0.04 - ETA: 10s - loss: 4.5561 - acc: 0.04 - ETA: 10s - loss: 4.5497 - acc: 0.04 - ETA: 10s - loss: 4.5533 - acc: 0.04 - ETA: 10s - loss: 4.5566 - acc: 0.04 - ETA: 10s - loss: 4.5572 - acc: 0.04 - ETA: 9s - loss: 4.5676 - acc: 0.0414 - ETA: 9s - loss: 4.5714 - acc: 0.040 - ETA: 9s - loss: 4.5744 - acc: 0.040 - ETA: 9s - loss: 4.5762 - acc: 0.039 - ETA: 9s - loss: 4.5783 - acc: 0.039 - ETA: 9s - loss: 4.5767 - acc: 0.039 - ETA: 9s - loss: 4.5766 - acc: 0.038 - ETA: 9s - loss: 4.5764 - acc: 0.038 - ETA: 9s - loss: 4.5795 - acc: 0.038 - ETA: 9s - loss: 4.5780 - acc: 0.038 - ETA: 9s - loss: 4.5768 - acc: 0.039 - ETA: 9s - loss: 4.5795 - acc: 0.040 - ETA: 9s - loss: 4.5793 - acc: 0.040 - ETA: 8s - loss: 4.5835 - acc: 0.040 - ETA: 8s - loss: 4.5865 - acc: 0.040 - ETA: 8s - loss: 4.5857 - acc: 0.042 - ETA: 8s - loss: 4.5890 - acc: 0.043 - ETA: 8s - loss: 4.5870 - acc: 0.043 - ETA: 8s - loss: 4.5901 - acc: 0.042 - ETA: 8s - loss: 4.5929 - acc: 0.042 - ETA: 8s - loss: 4.5921 - acc: 0.042 - ETA: 8s - loss: 4.5922 - acc: 0.042 - ETA: 8s - loss: 4.5913 - acc: 0.043 - ETA: 8s - loss: 4.5939 - acc: 0.042 - ETA: 8s - loss: 4.5941 - acc: 0.042 - ETA: 8s - loss: 4.5943 - acc: 0.041 - ETA: 7s - loss: 4.5953 - acc: 0.041 - ETA: 7s - loss: 4.5957 - acc: 0.041 - ETA: 7s - loss: 4.5946 - acc: 0.042 - ETA: 7s - loss: 4.5973 - acc: 0.041 - ETA: 7s - loss: 4.5967 - acc: 0.041 - ETA: 7s - loss: 4.5958 - acc: 0.041 - ETA: 7s - loss: 4.5983 - acc: 0.041 - ETA: 7s - loss: 4.5967 - acc: 0.041 - ETA: 7s - loss: 4.5957 - acc: 0.041 - ETA: 7s - loss: 4.5951 - acc: 0.041 - ETA: 7s - loss: 4.5958 - acc: 0.042 - ETA: 7s - loss: 4.5971 - acc: 0.041 - ETA: 7s - loss: 4.5967 - acc: 0.041 - ETA: 7s - loss: 4.5996 - acc: 0.041 - ETA: 6s - loss: 4.6005 - acc: 0.041 - ETA: 6s - loss: 4.6015 - acc: 0.041 - ETA: 6s - loss: 4.6013 - acc: 0.041 - ETA: 6s - loss: 4.6007 - acc: 0.041 - ETA: 6s - loss: 4.6003 - acc: 0.041 - ETA: 6s - loss: 4.5998 - acc: 0.041 - ETA: 6s - loss: 4.5985 - acc: 0.041 - ETA: 6s - loss: 4.5971 - acc: 0.042 - ETA: 6s - loss: 4.5967 - acc: 0.041 - ETA: 6s - loss: 4.5953 - acc: 0.041 - ETA: 6s - loss: 4.5958 - acc: 0.041 - ETA: 6s - loss: 4.5955 - acc: 0.040 - ETA: 6s - loss: 4.5960 - acc: 0.041 - ETA: 5s - loss: 4.5958 - acc: 0.041 - ETA: 5s - loss: 4.5933 - acc: 0.041 - ETA: 5s - loss: 4.5923 - acc: 0.041 - ETA: 5s - loss: 4.5914 - acc: 0.041 - ETA: 5s - loss: 4.5895 - acc: 0.041 - ETA: 5s - loss: 4.5888 - acc: 0.041 - ETA: 5s - loss: 4.5886 - acc: 0.041 - ETA: 5s - loss: 4.5869 - acc: 0.041 - ETA: 5s - loss: 4.5866 - acc: 0.040 - ETA: 5s - loss: 4.5847 - acc: 0.041 - ETA: 5s - loss: 4.5852 - acc: 0.041 - ETA: 5s - loss: 4.5857 - acc: 0.041 - ETA: 5s - loss: 4.5864 - acc: 0.041 - ETA: 5s - loss: 4.5879 - acc: 0.041 - ETA: 4s - loss: 4.5895 - acc: 0.041 - ETA: 4s - loss: 4.5898 - acc: 0.041 - ETA: 4s - loss: 4.5899 - acc: 0.041 - ETA: 4s - loss: 4.5914 - acc: 0.041 - ETA: 4s - loss: 4.5918 - acc: 0.041 - ETA: 4s - loss: 4.5907 - acc: 0.040 - ETA: 4s - loss: 4.5903 - acc: 0.040 - ETA: 4s - loss: 4.5905 - acc: 0.040 - ETA: 4s - loss: 4.5918 - acc: 0.040 - ETA: 4s - loss: 4.5921 - acc: 0.041 - ETA: 4s - loss: 4.5934 - acc: 0.040 - ETA: 4s - loss: 4.5928 - acc: 0.040 - ETA: 4s - loss: 4.5920 - acc: 0.040 - ETA: 4s - loss: 4.5926 - acc: 0.040 - ETA: 3s - loss: 4.5942 - acc: 0.040 - ETA: 3s - loss: 4.5941 - acc: 0.040 - ETA: 3s - loss: 4.5937 - acc: 0.040 - ETA: 3s - loss: 4.5927 - acc: 0.040 - ETA: 3s - loss: 4.5919 - acc: 0.040 - ETA: 3s - loss: 4.5926 - acc: 0.040 - ETA: 3s - loss: 4.5924 - acc: 0.040 - ETA: 3s - loss: 4.5905 - acc: 0.039 - ETA: 3s - loss: 4.5885 - acc: 0.039 - ETA: 3s - loss: 4.5880 - acc: 0.039 - ETA: 3s - loss: 4.5890 - acc: 0.039 - ETA: 3s - loss: 4.5868 - acc: 0.039 - ETA: 3s - loss: 4.5874 - acc: 0.039 - ETA: 3s - loss: 4.5878 - acc: 0.039 - ETA: 2s - loss: 4.5871 - acc: 0.040 - ETA: 2s - loss: 4.5872 - acc: 0.040 - ETA: 2s - loss: 4.5871 - acc: 0.040 - ETA: 2s - loss: 4.5876 - acc: 0.039 - ETA: 2s - loss: 4.5878 - acc: 0.039 - ETA: 2s - loss: 4.5879 - acc: 0.040 - ETA: 2s - loss: 4.5876 - acc: 0.040 - ETA: 2s - loss: 4.5874 - acc: 0.040 - ETA: 2s - loss: 4.5863 - acc: 0.040 - ETA: 2s - loss: 4.5859 - acc: 0.040 - ETA: 2s - loss: 4.5869 - acc: 0.040 - ETA: 2s - loss: 4.5862 - acc: 0.040 - ETA: 2s - loss: 4.5867 - acc: 0.040 - ETA: 2s - loss: 4.5855 - acc: 0.040 - ETA: 1s - loss: 4.5851 - acc: 0.040 - ETA: 1s - loss: 4.5859 - acc: 0.040 - ETA: 1s - loss: 4.5856 - acc: 0.040 - ETA: 1s - loss: 4.5861 - acc: 0.040 - ETA: 1s - loss: 4.5863 - acc: 0.040 - ETA: 1s - loss: 4.5857 - acc: 0.040 - ETA: 1s - loss: 4.5853 - acc: 0.040 - ETA: 1s - loss: 4.5855 - acc: 0.041 - ETA: 1s - loss: 4.5842 - acc: 0.041 - ETA: 1s - loss: 4.5825 - acc: 0.041 - ETA: 1s - loss: 4.5819 - acc: 0.041 - ETA: 1s - loss: 4.5792 - acc: 0.041 - ETA: 1s - loss: 4.5783 - acc: 0.041 - ETA: 1s - loss: 4.5783 - acc: 0.042 - ETA: 1s - loss: 4.5787 - acc: 0.042 - ETA: 0s - loss: 4.5781 - acc: 0.041 - ETA: 0s - loss: 4.5780 - acc: 0.041 - ETA: 0s - loss: 4.5782 - acc: 0.041 - ETA: 0s - loss: 4.5779 - acc: 0.041 - ETA: 0s - loss: 4.5785 - acc: 0.041 - ETA: 0s - loss: 4.5779 - acc: 0.041 - ETA: 0s - loss: 4.5784 - acc: 0.041 - ETA: 0s - loss: 4.5798 - acc: 0.041 - ETA: 0s - loss: 4.5814 - acc: 0.040 - ETA: 0s - loss: 4.5815 - acc: 0.040 - ETA: 0s - loss: 4.5813 - acc: 0.040 - ETA: 0s - loss: 4.5819 - acc: 0.040 - ETA: 0s - loss: 4.5831 - acc: 0.040 - 12s 2ms/step - loss: 4.5819 - acc: 0.0410 - val_loss: 4.4046 - val_acc: 0.0543\n",
      "\n",
      "Epoch 00014: val_loss improved from 4.46272 to 4.40462, saving model to saved_models/weights.best.from_scratch.hdf5\n",
      "Epoch 15/20\n"
     ]
    },
    {
     "name": "stdout",
     "output_type": "stream",
     "text": [
      "6680/6680 [==============================] - ETA: 17s - loss: 4.5288 - acc: 0.0000e+ - ETA: 13s - loss: 4.5265 - acc: 0.0167   - ETA: 12s - loss: 4.5749 - acc: 0.01 - ETA: 12s - loss: 4.5674 - acc: 0.01 - ETA: 11s - loss: 4.5350 - acc: 0.02 - ETA: 12s - loss: 4.5548 - acc: 0.02 - ETA: 11s - loss: 4.5444 - acc: 0.02 - ETA: 12s - loss: 4.5318 - acc: 0.02 - ETA: 11s - loss: 4.5372 - acc: 0.02 - ETA: 11s - loss: 4.5312 - acc: 0.02 - ETA: 11s - loss: 4.5147 - acc: 0.02 - ETA: 11s - loss: 4.5250 - acc: 0.02 - ETA: 11s - loss: 4.5308 - acc: 0.02 - ETA: 11s - loss: 4.5348 - acc: 0.02 - ETA: 11s - loss: 4.5307 - acc: 0.02 - ETA: 11s - loss: 4.5234 - acc: 0.02 - ETA: 11s - loss: 4.5324 - acc: 0.02 - ETA: 11s - loss: 4.5372 - acc: 0.02 - ETA: 10s - loss: 4.5292 - acc: 0.03 - ETA: 10s - loss: 4.5362 - acc: 0.03 - ETA: 10s - loss: 4.5298 - acc: 0.03 - ETA: 10s - loss: 4.5365 - acc: 0.03 - ETA: 10s - loss: 4.5395 - acc: 0.04 - ETA: 10s - loss: 4.5401 - acc: 0.03 - ETA: 10s - loss: 4.5395 - acc: 0.03 - ETA: 10s - loss: 4.5436 - acc: 0.03 - ETA: 10s - loss: 4.5452 - acc: 0.04 - ETA: 10s - loss: 4.5470 - acc: 0.03 - ETA: 10s - loss: 4.5511 - acc: 0.03 - ETA: 10s - loss: 4.5484 - acc: 0.04 - ETA: 10s - loss: 4.5474 - acc: 0.04 - ETA: 10s - loss: 4.5467 - acc: 0.04 - ETA: 9s - loss: 4.5419 - acc: 0.0418 - ETA: 9s - loss: 4.5466 - acc: 0.042 - ETA: 9s - loss: 4.5424 - acc: 0.044 - ETA: 9s - loss: 4.5324 - acc: 0.045 - ETA: 9s - loss: 4.5335 - acc: 0.044 - ETA: 9s - loss: 4.5404 - acc: 0.043 - ETA: 9s - loss: 4.5367 - acc: 0.043 - ETA: 9s - loss: 4.5322 - acc: 0.041 - ETA: 9s - loss: 4.5414 - acc: 0.040 - ETA: 9s - loss: 4.5407 - acc: 0.041 - ETA: 9s - loss: 4.5410 - acc: 0.041 - ETA: 9s - loss: 4.5399 - acc: 0.042 - ETA: 9s - loss: 4.5398 - acc: 0.041 - ETA: 9s - loss: 4.5404 - acc: 0.041 - ETA: 8s - loss: 4.5448 - acc: 0.040 - ETA: 8s - loss: 4.5497 - acc: 0.041 - ETA: 8s - loss: 4.5540 - acc: 0.040 - ETA: 8s - loss: 4.5552 - acc: 0.041 - ETA: 8s - loss: 4.5559 - acc: 0.041 - ETA: 8s - loss: 4.5546 - acc: 0.040 - ETA: 8s - loss: 4.5571 - acc: 0.040 - ETA: 8s - loss: 4.5576 - acc: 0.040 - ETA: 8s - loss: 4.5563 - acc: 0.040 - ETA: 8s - loss: 4.5568 - acc: 0.040 - ETA: 8s - loss: 4.5573 - acc: 0.041 - ETA: 8s - loss: 4.5544 - acc: 0.042 - ETA: 8s - loss: 4.5507 - acc: 0.043 - ETA: 7s - loss: 4.5497 - acc: 0.043 - ETA: 7s - loss: 4.5495 - acc: 0.043 - ETA: 7s - loss: 4.5559 - acc: 0.043 - ETA: 7s - loss: 4.5543 - acc: 0.042 - ETA: 7s - loss: 4.5547 - acc: 0.042 - ETA: 7s - loss: 4.5540 - acc: 0.042 - ETA: 7s - loss: 4.5540 - acc: 0.042 - ETA: 7s - loss: 4.5537 - acc: 0.042 - ETA: 7s - loss: 4.5519 - acc: 0.041 - ETA: 7s - loss: 4.5503 - acc: 0.042 - ETA: 7s - loss: 4.5533 - acc: 0.042 - ETA: 7s - loss: 4.5538 - acc: 0.042 - ETA: 7s - loss: 4.5536 - acc: 0.043 - ETA: 6s - loss: 4.5547 - acc: 0.042 - ETA: 6s - loss: 4.5542 - acc: 0.042 - ETA: 6s - loss: 4.5546 - acc: 0.042 - ETA: 6s - loss: 4.5569 - acc: 0.042 - ETA: 6s - loss: 4.5574 - acc: 0.041 - ETA: 6s - loss: 4.5561 - acc: 0.041 - ETA: 6s - loss: 4.5571 - acc: 0.041 - ETA: 6s - loss: 4.5587 - acc: 0.042 - ETA: 6s - loss: 4.5597 - acc: 0.042 - ETA: 6s - loss: 4.5602 - acc: 0.042 - ETA: 6s - loss: 4.5622 - acc: 0.041 - ETA: 6s - loss: 4.5631 - acc: 0.042 - ETA: 6s - loss: 4.5630 - acc: 0.043 - ETA: 6s - loss: 4.5672 - acc: 0.042 - ETA: 5s - loss: 4.5707 - acc: 0.042 - ETA: 5s - loss: 4.5707 - acc: 0.042 - ETA: 5s - loss: 4.5715 - acc: 0.042 - ETA: 5s - loss: 4.5726 - acc: 0.041 - ETA: 5s - loss: 4.5727 - acc: 0.042 - ETA: 5s - loss: 4.5724 - acc: 0.042 - ETA: 5s - loss: 4.5723 - acc: 0.041 - ETA: 5s - loss: 4.5711 - acc: 0.042 - ETA: 5s - loss: 4.5693 - acc: 0.042 - ETA: 5s - loss: 4.5685 - acc: 0.042 - ETA: 5s - loss: 4.5675 - acc: 0.042 - ETA: 5s - loss: 4.5658 - acc: 0.042 - ETA: 5s - loss: 4.5658 - acc: 0.043 - ETA: 5s - loss: 4.5665 - acc: 0.043 - ETA: 4s - loss: 4.5661 - acc: 0.043 - ETA: 4s - loss: 4.5656 - acc: 0.043 - ETA: 4s - loss: 4.5654 - acc: 0.043 - ETA: 4s - loss: 4.5661 - acc: 0.042 - ETA: 4s - loss: 4.5654 - acc: 0.042 - ETA: 4s - loss: 4.5663 - acc: 0.042 - ETA: 4s - loss: 4.5670 - acc: 0.042 - ETA: 4s - loss: 4.5667 - acc: 0.042 - ETA: 4s - loss: 4.5660 - acc: 0.042 - ETA: 4s - loss: 4.5674 - acc: 0.043 - ETA: 4s - loss: 4.5696 - acc: 0.043 - ETA: 4s - loss: 4.5686 - acc: 0.043 - ETA: 4s - loss: 4.5673 - acc: 0.043 - ETA: 4s - loss: 4.5670 - acc: 0.043 - ETA: 3s - loss: 4.5664 - acc: 0.044 - ETA: 3s - loss: 4.5670 - acc: 0.043 - ETA: 3s - loss: 4.5659 - acc: 0.044 - ETA: 3s - loss: 4.5651 - acc: 0.044 - ETA: 3s - loss: 4.5645 - acc: 0.044 - ETA: 3s - loss: 4.5654 - acc: 0.044 - ETA: 3s - loss: 4.5672 - acc: 0.043 - ETA: 3s - loss: 4.5666 - acc: 0.043 - ETA: 3s - loss: 4.5669 - acc: 0.043 - ETA: 3s - loss: 4.5647 - acc: 0.044 - ETA: 3s - loss: 4.5641 - acc: 0.044 - ETA: 3s - loss: 4.5651 - acc: 0.044 - ETA: 3s - loss: 4.5645 - acc: 0.044 - ETA: 3s - loss: 4.5658 - acc: 0.044 - ETA: 2s - loss: 4.5660 - acc: 0.044 - ETA: 2s - loss: 4.5659 - acc: 0.043 - ETA: 2s - loss: 4.5657 - acc: 0.043 - ETA: 2s - loss: 4.5655 - acc: 0.044 - ETA: 2s - loss: 4.5643 - acc: 0.044 - ETA: 2s - loss: 4.5661 - acc: 0.044 - ETA: 2s - loss: 4.5656 - acc: 0.044 - ETA: 2s - loss: 4.5677 - acc: 0.044 - ETA: 2s - loss: 4.5682 - acc: 0.044 - ETA: 2s - loss: 4.5689 - acc: 0.044 - ETA: 2s - loss: 4.5680 - acc: 0.044 - ETA: 2s - loss: 4.5685 - acc: 0.044 - ETA: 2s - loss: 4.5671 - acc: 0.045 - ETA: 2s - loss: 4.5682 - acc: 0.045 - ETA: 2s - loss: 4.5686 - acc: 0.045 - ETA: 1s - loss: 4.5687 - acc: 0.044 - ETA: 1s - loss: 4.5684 - acc: 0.044 - ETA: 1s - loss: 4.5670 - acc: 0.044 - ETA: 1s - loss: 4.5664 - acc: 0.044 - ETA: 1s - loss: 4.5663 - acc: 0.044 - ETA: 1s - loss: 4.5653 - acc: 0.044 - ETA: 1s - loss: 4.5669 - acc: 0.044 - ETA: 1s - loss: 4.5663 - acc: 0.044 - ETA: 1s - loss: 4.5656 - acc: 0.044 - ETA: 1s - loss: 4.5652 - acc: 0.044 - ETA: 1s - loss: 4.5665 - acc: 0.044 - ETA: 1s - loss: 4.5660 - acc: 0.044 - ETA: 1s - loss: 4.5666 - acc: 0.044 - ETA: 1s - loss: 4.5672 - acc: 0.044 - ETA: 0s - loss: 4.5679 - acc: 0.044 - ETA: 0s - loss: 4.5678 - acc: 0.044 - ETA: 0s - loss: 4.5680 - acc: 0.044 - ETA: 0s - loss: 4.5677 - acc: 0.044 - ETA: 0s - loss: 4.5673 - acc: 0.044 - ETA: 0s - loss: 4.5666 - acc: 0.044 - ETA: 0s - loss: 4.5664 - acc: 0.045 - ETA: 0s - loss: 4.5669 - acc: 0.045 - ETA: 0s - loss: 4.5654 - acc: 0.045 - ETA: 0s - loss: 4.5656 - acc: 0.044 - ETA: 0s - loss: 4.5660 - acc: 0.045 - ETA: 0s - loss: 4.5663 - acc: 0.045 - ETA: 0s - loss: 4.5668 - acc: 0.044 - 12s 2ms/step - loss: 4.5660 - acc: 0.0451 - val_loss: 4.3719 - val_acc: 0.0511\n",
      "\n",
      "Epoch 00015: val_loss improved from 4.40462 to 4.37190, saving model to saved_models/weights.best.from_scratch.hdf5\n",
      "Epoch 16/20\n"
     ]
    },
    {
     "name": "stdout",
     "output_type": "stream",
     "text": [
      "6680/6680 [==============================] - ETA: 17s - loss: 4.7855 - acc: 0.05 - ETA: 13s - loss: 4.6263 - acc: 0.03 - ETA: 12s - loss: 4.5686 - acc: 0.05 - ETA: 12s - loss: 4.5900 - acc: 0.05 - ETA: 12s - loss: 4.6194 - acc: 0.05 - ETA: 11s - loss: 4.5664 - acc: 0.04 - ETA: 11s - loss: 4.5642 - acc: 0.05 - ETA: 11s - loss: 4.5611 - acc: 0.04 - ETA: 11s - loss: 4.5282 - acc: 0.04 - ETA: 11s - loss: 4.5448 - acc: 0.04 - ETA: 11s - loss: 4.5555 - acc: 0.04 - ETA: 11s - loss: 4.5689 - acc: 0.03 - ETA: 11s - loss: 4.5614 - acc: 0.03 - ETA: 11s - loss: 4.5638 - acc: 0.04 - ETA: 11s - loss: 4.5611 - acc: 0.04 - ETA: 11s - loss: 4.5730 - acc: 0.04 - ETA: 11s - loss: 4.5722 - acc: 0.04 - ETA: 11s - loss: 4.5710 - acc: 0.04 - ETA: 10s - loss: 4.5646 - acc: 0.04 - ETA: 10s - loss: 4.5647 - acc: 0.04 - ETA: 10s - loss: 4.5719 - acc: 0.03 - ETA: 10s - loss: 4.5760 - acc: 0.03 - ETA: 10s - loss: 4.5644 - acc: 0.03 - ETA: 10s - loss: 4.5615 - acc: 0.04 - ETA: 10s - loss: 4.5584 - acc: 0.04 - ETA: 10s - loss: 4.5717 - acc: 0.03 - ETA: 10s - loss: 4.5686 - acc: 0.03 - ETA: 10s - loss: 4.5691 - acc: 0.03 - ETA: 10s - loss: 4.5720 - acc: 0.03 - ETA: 10s - loss: 4.5734 - acc: 0.03 - ETA: 10s - loss: 4.5691 - acc: 0.03 - ETA: 9s - loss: 4.5734 - acc: 0.0385 - ETA: 9s - loss: 4.5743 - acc: 0.038 - ETA: 9s - loss: 4.5762 - acc: 0.036 - ETA: 9s - loss: 4.5671 - acc: 0.037 - ETA: 9s - loss: 4.5634 - acc: 0.037 - ETA: 9s - loss: 4.5592 - acc: 0.036 - ETA: 9s - loss: 4.5602 - acc: 0.035 - ETA: 9s - loss: 4.5651 - acc: 0.036 - ETA: 9s - loss: 4.5578 - acc: 0.037 - ETA: 9s - loss: 4.5558 - acc: 0.037 - ETA: 9s - loss: 4.5549 - acc: 0.037 - ETA: 9s - loss: 4.5585 - acc: 0.036 - ETA: 9s - loss: 4.5593 - acc: 0.035 - ETA: 8s - loss: 4.5627 - acc: 0.035 - ETA: 8s - loss: 4.5668 - acc: 0.035 - ETA: 8s - loss: 4.5654 - acc: 0.036 - ETA: 8s - loss: 4.5681 - acc: 0.037 - ETA: 8s - loss: 4.5662 - acc: 0.036 - ETA: 8s - loss: 4.5655 - acc: 0.035 - ETA: 8s - loss: 4.5620 - acc: 0.036 - ETA: 8s - loss: 4.5624 - acc: 0.036 - ETA: 8s - loss: 4.5582 - acc: 0.036 - ETA: 8s - loss: 4.5600 - acc: 0.036 - ETA: 8s - loss: 4.5586 - acc: 0.036 - ETA: 8s - loss: 4.5599 - acc: 0.036 - ETA: 8s - loss: 4.5586 - acc: 0.036 - ETA: 7s - loss: 4.5626 - acc: 0.035 - ETA: 7s - loss: 4.5612 - acc: 0.035 - ETA: 7s - loss: 4.5604 - acc: 0.036 - ETA: 7s - loss: 4.5619 - acc: 0.036 - ETA: 7s - loss: 4.5639 - acc: 0.036 - ETA: 7s - loss: 4.5633 - acc: 0.036 - ETA: 7s - loss: 4.5633 - acc: 0.035 - ETA: 7s - loss: 4.5628 - acc: 0.036 - ETA: 7s - loss: 4.5620 - acc: 0.036 - ETA: 7s - loss: 4.5611 - acc: 0.038 - ETA: 7s - loss: 4.5615 - acc: 0.038 - ETA: 7s - loss: 4.5660 - acc: 0.037 - ETA: 7s - loss: 4.5610 - acc: 0.038 - ETA: 7s - loss: 4.5619 - acc: 0.038 - ETA: 6s - loss: 4.5628 - acc: 0.037 - ETA: 6s - loss: 4.5653 - acc: 0.037 - ETA: 6s - loss: 4.5653 - acc: 0.037 - ETA: 6s - loss: 4.5664 - acc: 0.037 - ETA: 6s - loss: 4.5673 - acc: 0.037 - ETA: 6s - loss: 4.5692 - acc: 0.038 - ETA: 6s - loss: 4.5687 - acc: 0.038 - ETA: 6s - loss: 4.5672 - acc: 0.038 - ETA: 6s - loss: 4.5646 - acc: 0.038 - ETA: 6s - loss: 4.5627 - acc: 0.038 - ETA: 6s - loss: 4.5601 - acc: 0.039 - ETA: 6s - loss: 4.5577 - acc: 0.039 - ETA: 6s - loss: 4.5593 - acc: 0.039 - ETA: 6s - loss: 4.5586 - acc: 0.039 - ETA: 6s - loss: 4.5555 - acc: 0.039 - ETA: 5s - loss: 4.5568 - acc: 0.039 - ETA: 5s - loss: 4.5563 - acc: 0.039 - ETA: 5s - loss: 4.5543 - acc: 0.040 - ETA: 5s - loss: 4.5537 - acc: 0.040 - ETA: 5s - loss: 4.5537 - acc: 0.039 - ETA: 5s - loss: 4.5522 - acc: 0.040 - ETA: 5s - loss: 4.5528 - acc: 0.040 - ETA: 5s - loss: 4.5530 - acc: 0.040 - ETA: 5s - loss: 4.5533 - acc: 0.040 - ETA: 5s - loss: 4.5515 - acc: 0.040 - ETA: 5s - loss: 4.5527 - acc: 0.040 - ETA: 5s - loss: 4.5522 - acc: 0.040 - ETA: 5s - loss: 4.5529 - acc: 0.039 - ETA: 5s - loss: 4.5551 - acc: 0.039 - ETA: 4s - loss: 4.5548 - acc: 0.039 - ETA: 4s - loss: 4.5560 - acc: 0.039 - ETA: 4s - loss: 4.5571 - acc: 0.040 - ETA: 4s - loss: 4.5586 - acc: 0.039 - ETA: 4s - loss: 4.5609 - acc: 0.039 - ETA: 4s - loss: 4.5595 - acc: 0.040 - ETA: 4s - loss: 4.5596 - acc: 0.040 - ETA: 4s - loss: 4.5581 - acc: 0.040 - ETA: 4s - loss: 4.5563 - acc: 0.040 - ETA: 4s - loss: 4.5558 - acc: 0.041 - ETA: 4s - loss: 4.5527 - acc: 0.041 - ETA: 4s - loss: 4.5534 - acc: 0.042 - ETA: 4s - loss: 4.5566 - acc: 0.042 - ETA: 4s - loss: 4.5579 - acc: 0.042 - ETA: 3s - loss: 4.5575 - acc: 0.042 - ETA: 3s - loss: 4.5568 - acc: 0.043 - ETA: 3s - loss: 4.5546 - acc: 0.043 - ETA: 3s - loss: 4.5559 - acc: 0.043 - ETA: 3s - loss: 4.5546 - acc: 0.043 - ETA: 3s - loss: 4.5549 - acc: 0.042 - ETA: 3s - loss: 4.5528 - acc: 0.042 - ETA: 3s - loss: 4.5529 - acc: 0.042 - ETA: 3s - loss: 4.5517 - acc: 0.042 - ETA: 3s - loss: 4.5512 - acc: 0.042 - ETA: 3s - loss: 4.5514 - acc: 0.042 - ETA: 3s - loss: 4.5497 - acc: 0.043 - ETA: 3s - loss: 4.5494 - acc: 0.043 - ETA: 3s - loss: 4.5486 - acc: 0.044 - ETA: 2s - loss: 4.5494 - acc: 0.044 - ETA: 2s - loss: 4.5500 - acc: 0.044 - ETA: 2s - loss: 4.5490 - acc: 0.044 - ETA: 2s - loss: 4.5479 - acc: 0.044 - ETA: 2s - loss: 4.5479 - acc: 0.044 - ETA: 2s - loss: 4.5488 - acc: 0.044 - ETA: 2s - loss: 4.5504 - acc: 0.044 - ETA: 2s - loss: 4.5496 - acc: 0.044 - ETA: 2s - loss: 4.5487 - acc: 0.044 - ETA: 2s - loss: 4.5487 - acc: 0.044 - ETA: 2s - loss: 4.5483 - acc: 0.044 - ETA: 2s - loss: 4.5497 - acc: 0.044 - ETA: 2s - loss: 4.5498 - acc: 0.044 - ETA: 2s - loss: 4.5503 - acc: 0.044 - ETA: 1s - loss: 4.5494 - acc: 0.044 - ETA: 1s - loss: 4.5494 - acc: 0.044 - ETA: 1s - loss: 4.5499 - acc: 0.045 - ETA: 1s - loss: 4.5481 - acc: 0.046 - ETA: 1s - loss: 4.5484 - acc: 0.046 - ETA: 1s - loss: 4.5490 - acc: 0.046 - ETA: 1s - loss: 4.5501 - acc: 0.045 - ETA: 1s - loss: 4.5483 - acc: 0.045 - ETA: 1s - loss: 4.5461 - acc: 0.046 - ETA: 1s - loss: 4.5471 - acc: 0.046 - ETA: 1s - loss: 4.5460 - acc: 0.046 - ETA: 1s - loss: 4.5460 - acc: 0.046 - ETA: 1s - loss: 4.5467 - acc: 0.045 - ETA: 1s - loss: 4.5473 - acc: 0.045 - ETA: 0s - loss: 4.5460 - acc: 0.045 - ETA: 0s - loss: 4.5460 - acc: 0.046 - ETA: 0s - loss: 4.5458 - acc: 0.045 - ETA: 0s - loss: 4.5466 - acc: 0.045 - ETA: 0s - loss: 4.5462 - acc: 0.045 - ETA: 0s - loss: 4.5463 - acc: 0.045 - ETA: 0s - loss: 4.5451 - acc: 0.045 - ETA: 0s - loss: 4.5463 - acc: 0.045 - ETA: 0s - loss: 4.5459 - acc: 0.046 - ETA: 0s - loss: 4.5464 - acc: 0.045 - ETA: 0s - loss: 4.5481 - acc: 0.045 - ETA: 0s - loss: 4.5486 - acc: 0.045 - ETA: 0s - loss: 4.5484 - acc: 0.045 - ETA: 0s - loss: 4.5486 - acc: 0.045 - 12s 2ms/step - loss: 4.5485 - acc: 0.0454 - val_loss: 4.3765 - val_acc: 0.0511\n",
      "\n",
      "Epoch 00016: val_loss did not improve\n",
      "Epoch 17/20\n"
     ]
    },
    {
     "name": "stdout",
     "output_type": "stream",
     "text": [
      "6680/6680 [==============================] - ETA: 11s - loss: 4.5395 - acc: 0.0000e+ - ETA: 12s - loss: 4.5646 - acc: 0.0167   - ETA: 12s - loss: 4.6054 - acc: 0.01 - ETA: 12s - loss: 4.5511 - acc: 0.00 - ETA: 11s - loss: 4.6265 - acc: 0.01 - ETA: 11s - loss: 4.6007 - acc: 0.00 - ETA: 11s - loss: 4.5695 - acc: 0.01 - ETA: 11s - loss: 4.5822 - acc: 0.02 - ETA: 11s - loss: 4.5619 - acc: 0.02 - ETA: 11s - loss: 4.5500 - acc: 0.03 - ETA: 11s - loss: 4.5417 - acc: 0.03 - ETA: 11s - loss: 4.5450 - acc: 0.03 - ETA: 11s - loss: 4.5382 - acc: 0.03 - ETA: 11s - loss: 4.5368 - acc: 0.03 - ETA: 11s - loss: 4.5357 - acc: 0.03 - ETA: 11s - loss: 4.5318 - acc: 0.04 - ETA: 10s - loss: 4.5320 - acc: 0.04 - ETA: 10s - loss: 4.5392 - acc: 0.04 - ETA: 10s - loss: 4.5423 - acc: 0.04 - ETA: 10s - loss: 4.5483 - acc: 0.04 - ETA: 10s - loss: 4.5473 - acc: 0.04 - ETA: 10s - loss: 4.5563 - acc: 0.04 - ETA: 10s - loss: 4.5505 - acc: 0.04 - ETA: 10s - loss: 4.5487 - acc: 0.04 - ETA: 10s - loss: 4.5527 - acc: 0.04 - ETA: 10s - loss: 4.5578 - acc: 0.04 - ETA: 10s - loss: 4.5593 - acc: 0.04 - ETA: 10s - loss: 4.5506 - acc: 0.04 - ETA: 10s - loss: 4.5576 - acc: 0.04 - ETA: 10s - loss: 4.5621 - acc: 0.04 - ETA: 10s - loss: 4.5586 - acc: 0.04 - ETA: 9s - loss: 4.5572 - acc: 0.0475 - ETA: 9s - loss: 4.5533 - acc: 0.047 - ETA: 9s - loss: 4.5546 - acc: 0.049 - ETA: 9s - loss: 4.5526 - acc: 0.047 - ETA: 9s - loss: 4.5536 - acc: 0.046 - ETA: 9s - loss: 4.5496 - acc: 0.047 - ETA: 9s - loss: 4.5532 - acc: 0.047 - ETA: 9s - loss: 4.5480 - acc: 0.047 - ETA: 9s - loss: 4.5560 - acc: 0.046 - ETA: 9s - loss: 4.5577 - acc: 0.046 - ETA: 9s - loss: 4.5596 - acc: 0.044 - ETA: 9s - loss: 4.5615 - acc: 0.045 - ETA: 9s - loss: 4.5589 - acc: 0.044 - ETA: 9s - loss: 4.5599 - acc: 0.045 - ETA: 9s - loss: 4.5601 - acc: 0.044 - ETA: 8s - loss: 4.5572 - acc: 0.044 - ETA: 8s - loss: 4.5535 - acc: 0.045 - ETA: 8s - loss: 4.5571 - acc: 0.044 - ETA: 8s - loss: 4.5539 - acc: 0.044 - ETA: 8s - loss: 4.5543 - acc: 0.044 - ETA: 8s - loss: 4.5460 - acc: 0.044 - ETA: 8s - loss: 4.5421 - acc: 0.043 - ETA: 8s - loss: 4.5411 - acc: 0.044 - ETA: 8s - loss: 4.5461 - acc: 0.043 - ETA: 8s - loss: 4.5464 - acc: 0.043 - ETA: 8s - loss: 4.5435 - acc: 0.043 - ETA: 8s - loss: 4.5473 - acc: 0.043 - ETA: 8s - loss: 4.5494 - acc: 0.042 - ETA: 8s - loss: 4.5463 - acc: 0.043 - ETA: 7s - loss: 4.5412 - acc: 0.045 - ETA: 7s - loss: 4.5379 - acc: 0.046 - ETA: 7s - loss: 4.5372 - acc: 0.045 - ETA: 7s - loss: 4.5379 - acc: 0.046 - ETA: 7s - loss: 4.5372 - acc: 0.046 - ETA: 7s - loss: 4.5381 - acc: 0.046 - ETA: 7s - loss: 4.5400 - acc: 0.046 - ETA: 7s - loss: 4.5391 - acc: 0.046 - ETA: 7s - loss: 4.5419 - acc: 0.046 - ETA: 7s - loss: 4.5392 - acc: 0.046 - ETA: 7s - loss: 4.5418 - acc: 0.046 - ETA: 7s - loss: 4.5400 - acc: 0.046 - ETA: 7s - loss: 4.5386 - acc: 0.045 - ETA: 6s - loss: 4.5347 - acc: 0.046 - ETA: 6s - loss: 4.5353 - acc: 0.045 - ETA: 6s - loss: 4.5349 - acc: 0.046 - ETA: 6s - loss: 4.5384 - acc: 0.045 - ETA: 6s - loss: 4.5372 - acc: 0.046 - ETA: 6s - loss: 4.5362 - acc: 0.047 - ETA: 6s - loss: 4.5391 - acc: 0.047 - ETA: 6s - loss: 4.5397 - acc: 0.047 - ETA: 6s - loss: 4.5387 - acc: 0.047 - ETA: 6s - loss: 4.5371 - acc: 0.047 - ETA: 6s - loss: 4.5393 - acc: 0.047 - ETA: 6s - loss: 4.5408 - acc: 0.047 - ETA: 6s - loss: 4.5416 - acc: 0.047 - ETA: 6s - loss: 4.5426 - acc: 0.047 - ETA: 6s - loss: 4.5420 - acc: 0.047 - ETA: 5s - loss: 4.5444 - acc: 0.047 - ETA: 5s - loss: 4.5434 - acc: 0.047 - ETA: 5s - loss: 4.5424 - acc: 0.047 - ETA: 5s - loss: 4.5416 - acc: 0.047 - ETA: 5s - loss: 4.5454 - acc: 0.047 - ETA: 5s - loss: 4.5466 - acc: 0.047 - ETA: 5s - loss: 4.5482 - acc: 0.047 - ETA: 5s - loss: 4.5483 - acc: 0.046 - ETA: 5s - loss: 4.5466 - acc: 0.046 - ETA: 5s - loss: 4.5459 - acc: 0.046 - ETA: 5s - loss: 4.5472 - acc: 0.046 - ETA: 5s - loss: 4.5481 - acc: 0.046 - ETA: 5s - loss: 4.5492 - acc: 0.046 - ETA: 4s - loss: 4.5498 - acc: 0.046 - ETA: 4s - loss: 4.5477 - acc: 0.046 - ETA: 4s - loss: 4.5472 - acc: 0.046 - ETA: 4s - loss: 4.5449 - acc: 0.046 - ETA: 4s - loss: 4.5418 - acc: 0.047 - ETA: 4s - loss: 4.5430 - acc: 0.046 - ETA: 4s - loss: 4.5425 - acc: 0.047 - ETA: 4s - loss: 4.5425 - acc: 0.047 - ETA: 4s - loss: 4.5427 - acc: 0.047 - ETA: 4s - loss: 4.5413 - acc: 0.047 - ETA: 4s - loss: 4.5405 - acc: 0.047 - ETA: 4s - loss: 4.5398 - acc: 0.047 - ETA: 4s - loss: 4.5391 - acc: 0.048 - ETA: 4s - loss: 4.5389 - acc: 0.047 - ETA: 4s - loss: 4.5392 - acc: 0.047 - ETA: 3s - loss: 4.5406 - acc: 0.047 - ETA: 3s - loss: 4.5390 - acc: 0.047 - ETA: 3s - loss: 4.5383 - acc: 0.047 - ETA: 3s - loss: 4.5379 - acc: 0.047 - ETA: 3s - loss: 4.5384 - acc: 0.047 - ETA: 3s - loss: 4.5388 - acc: 0.047 - ETA: 3s - loss: 4.5394 - acc: 0.046 - ETA: 3s - loss: 4.5385 - acc: 0.046 - ETA: 3s - loss: 4.5389 - acc: 0.046 - ETA: 3s - loss: 4.5379 - acc: 0.046 - ETA: 3s - loss: 4.5374 - acc: 0.046 - ETA: 3s - loss: 4.5375 - acc: 0.046 - ETA: 3s - loss: 4.5361 - acc: 0.046 - ETA: 2s - loss: 4.5327 - acc: 0.046 - ETA: 2s - loss: 4.5305 - acc: 0.046 - ETA: 2s - loss: 4.5306 - acc: 0.046 - ETA: 2s - loss: 4.5316 - acc: 0.046 - ETA: 2s - loss: 4.5310 - acc: 0.046 - ETA: 2s - loss: 4.5303 - acc: 0.046 - ETA: 2s - loss: 4.5301 - acc: 0.046 - ETA: 2s - loss: 4.5297 - acc: 0.047 - ETA: 2s - loss: 4.5296 - acc: 0.047 - ETA: 2s - loss: 4.5305 - acc: 0.046 - ETA: 2s - loss: 4.5306 - acc: 0.046 - ETA: 2s - loss: 4.5288 - acc: 0.047 - ETA: 2s - loss: 4.5302 - acc: 0.046 - ETA: 2s - loss: 4.5295 - acc: 0.047 - ETA: 1s - loss: 4.5290 - acc: 0.047 - ETA: 1s - loss: 4.5293 - acc: 0.047 - ETA: 1s - loss: 4.5292 - acc: 0.047 - ETA: 1s - loss: 4.5298 - acc: 0.047 - ETA: 1s - loss: 4.5288 - acc: 0.047 - ETA: 1s - loss: 4.5279 - acc: 0.048 - ETA: 1s - loss: 4.5278 - acc: 0.048 - ETA: 1s - loss: 4.5282 - acc: 0.048 - ETA: 1s - loss: 4.5277 - acc: 0.048 - ETA: 1s - loss: 4.5268 - acc: 0.048 - ETA: 1s - loss: 4.5256 - acc: 0.048 - ETA: 1s - loss: 4.5243 - acc: 0.048 - ETA: 1s - loss: 4.5255 - acc: 0.048 - ETA: 1s - loss: 4.5258 - acc: 0.048 - ETA: 0s - loss: 4.5268 - acc: 0.048 - ETA: 0s - loss: 4.5255 - acc: 0.049 - ETA: 0s - loss: 4.5265 - acc: 0.049 - ETA: 0s - loss: 4.5258 - acc: 0.049 - ETA: 0s - loss: 4.5266 - acc: 0.049 - ETA: 0s - loss: 4.5250 - acc: 0.049 - ETA: 0s - loss: 4.5256 - acc: 0.049 - ETA: 0s - loss: 4.5271 - acc: 0.048 - ETA: 0s - loss: 4.5268 - acc: 0.048 - ETA: 0s - loss: 4.5272 - acc: 0.048 - ETA: 0s - loss: 4.5279 - acc: 0.048 - ETA: 0s - loss: 4.5272 - acc: 0.049 - ETA: 0s - loss: 4.5262 - acc: 0.049 - ETA: 0s - loss: 4.5271 - acc: 0.049 - 12s 2ms/step - loss: 4.5265 - acc: 0.0500 - val_loss: 4.3495 - val_acc: 0.0607\n",
      "\n",
      "Epoch 00017: val_loss improved from 4.37190 to 4.34951, saving model to saved_models/weights.best.from_scratch.hdf5\n",
      "Epoch 18/20\n"
     ]
    },
    {
     "name": "stdout",
     "output_type": "stream",
     "text": [
      "6680/6680 [==============================] - ETA: 17s - loss: 4.5272 - acc: 0.05 - ETA: 13s - loss: 4.4137 - acc: 0.05 - ETA: 12s - loss: 4.4271 - acc: 0.05 - ETA: 13s - loss: 4.5399 - acc: 0.04 - ETA: 12s - loss: 4.4171 - acc: 0.06 - ETA: 12s - loss: 4.4808 - acc: 0.05 - ETA: 12s - loss: 4.4588 - acc: 0.05 - ETA: 11s - loss: 4.4721 - acc: 0.05 - ETA: 11s - loss: 4.4581 - acc: 0.05 - ETA: 11s - loss: 4.4338 - acc: 0.06 - ETA: 11s - loss: 4.4356 - acc: 0.06 - ETA: 11s - loss: 4.4156 - acc: 0.06 - ETA: 11s - loss: 4.4191 - acc: 0.06 - ETA: 11s - loss: 4.4372 - acc: 0.06 - ETA: 11s - loss: 4.4499 - acc: 0.06 - ETA: 11s - loss: 4.4618 - acc: 0.06 - ETA: 11s - loss: 4.4425 - acc: 0.06 - ETA: 11s - loss: 4.4567 - acc: 0.06 - ETA: 11s - loss: 4.4471 - acc: 0.06 - ETA: 11s - loss: 4.4448 - acc: 0.06 - ETA: 10s - loss: 4.4546 - acc: 0.06 - ETA: 10s - loss: 4.4590 - acc: 0.05 - ETA: 10s - loss: 4.4656 - acc: 0.05 - ETA: 10s - loss: 4.4741 - acc: 0.05 - ETA: 10s - loss: 4.4701 - acc: 0.05 - ETA: 10s - loss: 4.4695 - acc: 0.05 - ETA: 10s - loss: 4.4656 - acc: 0.05 - ETA: 10s - loss: 4.4696 - acc: 0.05 - ETA: 10s - loss: 4.4741 - acc: 0.05 - ETA: 10s - loss: 4.4742 - acc: 0.04 - ETA: 10s - loss: 4.4716 - acc: 0.04 - ETA: 10s - loss: 4.4694 - acc: 0.04 - ETA: 9s - loss: 4.4665 - acc: 0.0516 - ETA: 9s - loss: 4.4720 - acc: 0.050 - ETA: 9s - loss: 4.4643 - acc: 0.051 - ETA: 9s - loss: 4.4661 - acc: 0.052 - ETA: 9s - loss: 4.4686 - acc: 0.051 - ETA: 9s - loss: 4.4738 - acc: 0.051 - ETA: 9s - loss: 4.4779 - acc: 0.052 - ETA: 9s - loss: 4.4934 - acc: 0.052 - ETA: 9s - loss: 4.4944 - acc: 0.052 - ETA: 9s - loss: 4.5009 - acc: 0.051 - ETA: 9s - loss: 4.4998 - acc: 0.051 - ETA: 9s - loss: 4.4993 - acc: 0.052 - ETA: 9s - loss: 4.5010 - acc: 0.051 - ETA: 8s - loss: 4.5063 - acc: 0.051 - ETA: 8s - loss: 4.5029 - acc: 0.051 - ETA: 8s - loss: 4.5029 - acc: 0.050 - ETA: 8s - loss: 4.4972 - acc: 0.051 - ETA: 8s - loss: 4.4967 - acc: 0.050 - ETA: 8s - loss: 4.5018 - acc: 0.051 - ETA: 8s - loss: 4.5041 - acc: 0.050 - ETA: 8s - loss: 4.5010 - acc: 0.050 - ETA: 8s - loss: 4.4993 - acc: 0.050 - ETA: 8s - loss: 4.5029 - acc: 0.050 - ETA: 8s - loss: 4.5016 - acc: 0.050 - ETA: 8s - loss: 4.5007 - acc: 0.050 - ETA: 8s - loss: 4.5004 - acc: 0.050 - ETA: 8s - loss: 4.4992 - acc: 0.051 - ETA: 7s - loss: 4.4959 - acc: 0.051 - ETA: 7s - loss: 4.4973 - acc: 0.050 - ETA: 7s - loss: 4.4946 - acc: 0.050 - ETA: 7s - loss: 4.4951 - acc: 0.051 - ETA: 7s - loss: 4.4933 - acc: 0.051 - ETA: 7s - loss: 4.4954 - acc: 0.051 - ETA: 7s - loss: 4.4964 - acc: 0.052 - ETA: 7s - loss: 4.4981 - acc: 0.051 - ETA: 7s - loss: 4.4970 - acc: 0.051 - ETA: 7s - loss: 4.4964 - acc: 0.051 - ETA: 7s - loss: 4.4963 - acc: 0.052 - ETA: 7s - loss: 4.4933 - acc: 0.052 - ETA: 7s - loss: 4.4941 - acc: 0.052 - ETA: 6s - loss: 4.4964 - acc: 0.052 - ETA: 6s - loss: 4.5005 - acc: 0.052 - ETA: 6s - loss: 4.5018 - acc: 0.051 - ETA: 6s - loss: 4.4990 - acc: 0.052 - ETA: 6s - loss: 4.5031 - acc: 0.051 - ETA: 6s - loss: 4.5024 - acc: 0.052 - ETA: 6s - loss: 4.5034 - acc: 0.052 - ETA: 6s - loss: 4.5034 - acc: 0.052 - ETA: 6s - loss: 4.5041 - acc: 0.052 - ETA: 6s - loss: 4.5036 - acc: 0.052 - ETA: 6s - loss: 4.5036 - acc: 0.051 - ETA: 6s - loss: 4.5027 - acc: 0.051 - ETA: 6s - loss: 4.5031 - acc: 0.050 - ETA: 6s - loss: 4.5033 - acc: 0.050 - ETA: 5s - loss: 4.5056 - acc: 0.050 - ETA: 5s - loss: 4.5052 - acc: 0.050 - ETA: 5s - loss: 4.5061 - acc: 0.051 - ETA: 5s - loss: 4.5033 - acc: 0.051 - ETA: 5s - loss: 4.5040 - acc: 0.050 - ETA: 5s - loss: 4.5039 - acc: 0.050 - ETA: 5s - loss: 4.5077 - acc: 0.050 - ETA: 5s - loss: 4.5077 - acc: 0.050 - ETA: 5s - loss: 4.5083 - acc: 0.049 - ETA: 5s - loss: 4.5075 - acc: 0.050 - ETA: 5s - loss: 4.5065 - acc: 0.050 - ETA: 5s - loss: 4.5053 - acc: 0.050 - ETA: 5s - loss: 4.5061 - acc: 0.049 - ETA: 5s - loss: 4.5054 - acc: 0.049 - ETA: 4s - loss: 4.5076 - acc: 0.049 - ETA: 4s - loss: 4.5077 - acc: 0.049 - ETA: 4s - loss: 4.5097 - acc: 0.049 - ETA: 4s - loss: 4.5082 - acc: 0.049 - ETA: 4s - loss: 4.5100 - acc: 0.049 - ETA: 4s - loss: 4.5100 - acc: 0.049 - ETA: 4s - loss: 4.5112 - acc: 0.048 - ETA: 4s - loss: 4.5114 - acc: 0.048 - ETA: 4s - loss: 4.5129 - acc: 0.049 - ETA: 4s - loss: 4.5144 - acc: 0.048 - ETA: 4s - loss: 4.5148 - acc: 0.048 - ETA: 4s - loss: 4.5132 - acc: 0.049 - ETA: 4s - loss: 4.5168 - acc: 0.048 - ETA: 4s - loss: 4.5157 - acc: 0.048 - ETA: 3s - loss: 4.5151 - acc: 0.049 - ETA: 3s - loss: 4.5133 - acc: 0.049 - ETA: 3s - loss: 4.5131 - acc: 0.049 - ETA: 3s - loss: 4.5131 - acc: 0.049 - ETA: 3s - loss: 4.5122 - acc: 0.049 - ETA: 3s - loss: 4.5123 - acc: 0.049 - ETA: 3s - loss: 4.5128 - acc: 0.048 - ETA: 3s - loss: 4.5108 - acc: 0.049 - ETA: 3s - loss: 4.5109 - acc: 0.048 - ETA: 3s - loss: 4.5114 - acc: 0.048 - ETA: 3s - loss: 4.5118 - acc: 0.048 - ETA: 3s - loss: 4.5108 - acc: 0.048 - ETA: 3s - loss: 4.5117 - acc: 0.048 - ETA: 3s - loss: 4.5108 - acc: 0.047 - ETA: 2s - loss: 4.5118 - acc: 0.047 - ETA: 2s - loss: 4.5115 - acc: 0.047 - ETA: 2s - loss: 4.5116 - acc: 0.047 - ETA: 2s - loss: 4.5101 - acc: 0.048 - ETA: 2s - loss: 4.5103 - acc: 0.048 - ETA: 2s - loss: 4.5100 - acc: 0.047 - ETA: 2s - loss: 4.5108 - acc: 0.047 - ETA: 2s - loss: 4.5106 - acc: 0.047 - ETA: 2s - loss: 4.5109 - acc: 0.047 - ETA: 2s - loss: 4.5119 - acc: 0.047 - ETA: 2s - loss: 4.5111 - acc: 0.047 - ETA: 2s - loss: 4.5110 - acc: 0.046 - ETA: 2s - loss: 4.5113 - acc: 0.047 - ETA: 2s - loss: 4.5115 - acc: 0.046 - ETA: 1s - loss: 4.5123 - acc: 0.046 - ETA: 1s - loss: 4.5116 - acc: 0.046 - ETA: 1s - loss: 4.5110 - acc: 0.047 - ETA: 1s - loss: 4.5113 - acc: 0.046 - ETA: 1s - loss: 4.5117 - acc: 0.046 - ETA: 1s - loss: 4.5114 - acc: 0.046 - ETA: 1s - loss: 4.5120 - acc: 0.046 - ETA: 1s - loss: 4.5100 - acc: 0.046 - ETA: 1s - loss: 4.5110 - acc: 0.046 - ETA: 1s - loss: 4.5124 - acc: 0.046 - ETA: 1s - loss: 4.5118 - acc: 0.047 - ETA: 1s - loss: 4.5117 - acc: 0.047 - ETA: 1s - loss: 4.5128 - acc: 0.047 - ETA: 1s - loss: 4.5121 - acc: 0.047 - ETA: 0s - loss: 4.5115 - acc: 0.047 - ETA: 0s - loss: 4.5115 - acc: 0.047 - ETA: 0s - loss: 4.5105 - acc: 0.048 - ETA: 0s - loss: 4.5111 - acc: 0.048 - ETA: 0s - loss: 4.5115 - acc: 0.048 - ETA: 0s - loss: 4.5114 - acc: 0.048 - ETA: 0s - loss: 4.5119 - acc: 0.048 - ETA: 0s - loss: 4.5125 - acc: 0.048 - ETA: 0s - loss: 4.5129 - acc: 0.048 - ETA: 0s - loss: 4.5130 - acc: 0.048 - ETA: 0s - loss: 4.5121 - acc: 0.048 - ETA: 0s - loss: 4.5117 - acc: 0.048 - ETA: 0s - loss: 4.5115 - acc: 0.048 - ETA: 0s - loss: 4.5113 - acc: 0.048 - 12s 2ms/step - loss: 4.5111 - acc: 0.0490 - val_loss: 4.3451 - val_acc: 0.0735\n",
      "\n",
      "Epoch 00018: val_loss improved from 4.34951 to 4.34514, saving model to saved_models/weights.best.from_scratch.hdf5\n",
      "Epoch 19/20\n"
     ]
    },
    {
     "name": "stdout",
     "output_type": "stream",
     "text": [
      "6680/6680 [==============================] - ETA: 18s - loss: 4.6707 - acc: 0.05 - ETA: 13s - loss: 4.5670 - acc: 0.03 - ETA: 13s - loss: 4.4766 - acc: 0.06 - ETA: 12s - loss: 4.4973 - acc: 0.06 - ETA: 12s - loss: 4.4122 - acc: 0.08 - ETA: 12s - loss: 4.4200 - acc: 0.08 - ETA: 12s - loss: 4.4245 - acc: 0.08 - ETA: 11s - loss: 4.4557 - acc: 0.08 - ETA: 11s - loss: 4.4680 - acc: 0.07 - ETA: 11s - loss: 4.4621 - acc: 0.07 - ETA: 11s - loss: 4.4683 - acc: 0.07 - ETA: 11s - loss: 4.4659 - acc: 0.07 - ETA: 11s - loss: 4.4886 - acc: 0.06 - ETA: 11s - loss: 4.5052 - acc: 0.06 - ETA: 11s - loss: 4.4929 - acc: 0.06 - ETA: 11s - loss: 4.5005 - acc: 0.05 - ETA: 10s - loss: 4.5020 - acc: 0.05 - ETA: 10s - loss: 4.5029 - acc: 0.05 - ETA: 10s - loss: 4.5118 - acc: 0.05 - ETA: 10s - loss: 4.5047 - acc: 0.06 - ETA: 10s - loss: 4.5061 - acc: 0.06 - ETA: 10s - loss: 4.5025 - acc: 0.06 - ETA: 10s - loss: 4.4988 - acc: 0.06 - ETA: 10s - loss: 4.4885 - acc: 0.06 - ETA: 10s - loss: 4.4857 - acc: 0.06 - ETA: 10s - loss: 4.4870 - acc: 0.06 - ETA: 10s - loss: 4.4874 - acc: 0.06 - ETA: 10s - loss: 4.4803 - acc: 0.06 - ETA: 10s - loss: 4.4799 - acc: 0.06 - ETA: 10s - loss: 4.4766 - acc: 0.06 - ETA: 9s - loss: 4.4848 - acc: 0.0607 - ETA: 9s - loss: 4.4852 - acc: 0.061 - ETA: 9s - loss: 4.4886 - acc: 0.060 - ETA: 9s - loss: 4.4854 - acc: 0.059 - ETA: 9s - loss: 4.4874 - acc: 0.059 - ETA: 9s - loss: 4.4814 - acc: 0.059 - ETA: 9s - loss: 4.4886 - acc: 0.058 - ETA: 9s - loss: 4.4876 - acc: 0.058 - ETA: 9s - loss: 4.4842 - acc: 0.057 - ETA: 9s - loss: 4.4887 - acc: 0.057 - ETA: 9s - loss: 4.4901 - acc: 0.056 - ETA: 9s - loss: 4.4939 - acc: 0.055 - ETA: 9s - loss: 4.4952 - acc: 0.055 - ETA: 8s - loss: 4.5002 - acc: 0.055 - ETA: 8s - loss: 4.5009 - acc: 0.054 - ETA: 8s - loss: 4.5046 - acc: 0.054 - ETA: 8s - loss: 4.5045 - acc: 0.054 - ETA: 8s - loss: 4.5054 - acc: 0.054 - ETA: 8s - loss: 4.5089 - acc: 0.054 - ETA: 8s - loss: 4.5083 - acc: 0.054 - ETA: 8s - loss: 4.5056 - acc: 0.054 - ETA: 8s - loss: 4.5063 - acc: 0.055 - ETA: 8s - loss: 4.5069 - acc: 0.054 - ETA: 8s - loss: 4.5040 - acc: 0.054 - ETA: 8s - loss: 4.5120 - acc: 0.053 - ETA: 8s - loss: 4.5084 - acc: 0.054 - ETA: 7s - loss: 4.5113 - acc: 0.053 - ETA: 7s - loss: 4.5085 - acc: 0.053 - ETA: 7s - loss: 4.5091 - acc: 0.054 - ETA: 7s - loss: 4.5119 - acc: 0.053 - ETA: 7s - loss: 4.5108 - acc: 0.053 - ETA: 7s - loss: 4.5133 - acc: 0.053 - ETA: 7s - loss: 4.5109 - acc: 0.053 - ETA: 7s - loss: 4.5113 - acc: 0.052 - ETA: 7s - loss: 4.5102 - acc: 0.053 - ETA: 7s - loss: 4.5111 - acc: 0.053 - ETA: 7s - loss: 4.5127 - acc: 0.053 - ETA: 7s - loss: 4.5135 - acc: 0.053 - ETA: 7s - loss: 4.5115 - acc: 0.053 - ETA: 7s - loss: 4.5091 - acc: 0.054 - ETA: 6s - loss: 4.5091 - acc: 0.053 - ETA: 6s - loss: 4.5088 - acc: 0.052 - ETA: 6s - loss: 4.5098 - acc: 0.052 - ETA: 6s - loss: 4.5091 - acc: 0.052 - ETA: 6s - loss: 4.5075 - acc: 0.052 - ETA: 6s - loss: 4.5087 - acc: 0.052 - ETA: 6s - loss: 4.5123 - acc: 0.051 - ETA: 6s - loss: 4.5163 - acc: 0.050 - ETA: 6s - loss: 4.5147 - acc: 0.050 - ETA: 6s - loss: 4.5142 - acc: 0.050 - ETA: 6s - loss: 4.5124 - acc: 0.050 - ETA: 6s - loss: 4.5101 - acc: 0.050 - ETA: 6s - loss: 4.5083 - acc: 0.050 - ETA: 6s - loss: 4.5088 - acc: 0.051 - ETA: 5s - loss: 4.5087 - acc: 0.051 - ETA: 5s - loss: 4.5080 - acc: 0.051 - ETA: 5s - loss: 4.5084 - acc: 0.051 - ETA: 5s - loss: 4.5105 - acc: 0.050 - ETA: 5s - loss: 4.5092 - acc: 0.050 - ETA: 5s - loss: 4.5103 - acc: 0.050 - ETA: 5s - loss: 4.5092 - acc: 0.050 - ETA: 5s - loss: 4.5061 - acc: 0.050 - ETA: 5s - loss: 4.5058 - acc: 0.050 - ETA: 5s - loss: 4.5033 - acc: 0.050 - ETA: 5s - loss: 4.5022 - acc: 0.050 - ETA: 5s - loss: 4.5017 - acc: 0.050 - ETA: 5s - loss: 4.4992 - acc: 0.051 - ETA: 5s - loss: 4.4970 - acc: 0.052 - ETA: 4s - loss: 4.4957 - acc: 0.052 - ETA: 4s - loss: 4.4945 - acc: 0.053 - ETA: 4s - loss: 4.4947 - acc: 0.053 - ETA: 4s - loss: 4.4927 - acc: 0.053 - ETA: 4s - loss: 4.4922 - acc: 0.052 - ETA: 4s - loss: 4.4908 - acc: 0.052 - ETA: 4s - loss: 4.4903 - acc: 0.051 - ETA: 4s - loss: 4.4898 - acc: 0.051 - ETA: 4s - loss: 4.4910 - acc: 0.052 - ETA: 4s - loss: 4.4901 - acc: 0.051 - ETA: 4s - loss: 4.4908 - acc: 0.051 - ETA: 4s - loss: 4.4897 - acc: 0.052 - ETA: 4s - loss: 4.4909 - acc: 0.052 - ETA: 3s - loss: 4.4919 - acc: 0.052 - ETA: 3s - loss: 4.4921 - acc: 0.051 - ETA: 3s - loss: 4.4936 - acc: 0.051 - ETA: 3s - loss: 4.4931 - acc: 0.051 - ETA: 3s - loss: 4.4948 - acc: 0.051 - ETA: 3s - loss: 4.4961 - acc: 0.050 - ETA: 3s - loss: 4.4967 - acc: 0.051 - ETA: 3s - loss: 4.4983 - acc: 0.050 - ETA: 3s - loss: 4.4955 - acc: 0.051 - ETA: 3s - loss: 4.4951 - acc: 0.051 - ETA: 3s - loss: 4.4914 - acc: 0.051 - ETA: 3s - loss: 4.4913 - acc: 0.051 - ETA: 3s - loss: 4.4904 - acc: 0.051 - ETA: 3s - loss: 4.4901 - acc: 0.051 - ETA: 3s - loss: 4.4888 - acc: 0.051 - ETA: 2s - loss: 4.4904 - acc: 0.051 - ETA: 2s - loss: 4.4910 - acc: 0.050 - ETA: 2s - loss: 4.4891 - acc: 0.051 - ETA: 2s - loss: 4.4891 - acc: 0.051 - ETA: 2s - loss: 4.4893 - acc: 0.051 - ETA: 2s - loss: 4.4888 - acc: 0.052 - ETA: 2s - loss: 4.4889 - acc: 0.052 - ETA: 2s - loss: 4.4885 - acc: 0.051 - ETA: 2s - loss: 4.4904 - acc: 0.052 - ETA: 2s - loss: 4.4904 - acc: 0.052 - ETA: 2s - loss: 4.4920 - acc: 0.051 - ETA: 2s - loss: 4.4925 - acc: 0.051 - ETA: 2s - loss: 4.4916 - acc: 0.052 - ETA: 2s - loss: 4.4897 - acc: 0.052 - ETA: 2s - loss: 4.4897 - acc: 0.052 - ETA: 1s - loss: 4.4892 - acc: 0.051 - ETA: 1s - loss: 4.4880 - acc: 0.051 - ETA: 1s - loss: 4.4883 - acc: 0.051 - ETA: 1s - loss: 4.4894 - acc: 0.051 - ETA: 1s - loss: 4.4896 - acc: 0.052 - ETA: 1s - loss: 4.4907 - acc: 0.052 - ETA: 1s - loss: 4.4894 - acc: 0.052 - ETA: 1s - loss: 4.4887 - acc: 0.052 - ETA: 1s - loss: 4.4891 - acc: 0.052 - ETA: 1s - loss: 4.4890 - acc: 0.052 - ETA: 1s - loss: 4.4885 - acc: 0.052 - ETA: 1s - loss: 4.4882 - acc: 0.052 - ETA: 1s - loss: 4.4884 - acc: 0.052 - ETA: 1s - loss: 4.4886 - acc: 0.052 - ETA: 1s - loss: 4.4882 - acc: 0.052 - ETA: 0s - loss: 4.4878 - acc: 0.052 - ETA: 0s - loss: 4.4883 - acc: 0.052 - ETA: 0s - loss: 4.4880 - acc: 0.052 - ETA: 0s - loss: 4.4887 - acc: 0.051 - ETA: 0s - loss: 4.4891 - acc: 0.052 - ETA: 0s - loss: 4.4909 - acc: 0.052 - ETA: 0s - loss: 4.4899 - acc: 0.052 - ETA: 0s - loss: 4.4895 - acc: 0.052 - ETA: 0s - loss: 4.4887 - acc: 0.052 - ETA: 0s - loss: 4.4896 - acc: 0.051 - ETA: 0s - loss: 4.4891 - acc: 0.051 - ETA: 0s - loss: 4.4872 - acc: 0.052 - ETA: 0s - loss: 4.4878 - acc: 0.051 - 12s 2ms/step - loss: 4.4883 - acc: 0.0519 - val_loss: 4.3768 - val_acc: 0.0543\n",
      "\n",
      "Epoch 00019: val_loss did not improve\n",
      "Epoch 20/20\n"
     ]
    },
    {
     "name": "stdout",
     "output_type": "stream",
     "text": [
      "6680/6680 [==============================] - ETA: 13s - loss: 4.6100 - acc: 0.05 - ETA: 12s - loss: 4.3265 - acc: 0.10 - ETA: 11s - loss: 4.4874 - acc: 0.08 - ETA: 12s - loss: 4.4840 - acc: 0.06 - ETA: 12s - loss: 4.4974 - acc: 0.05 - ETA: 12s - loss: 4.4864 - acc: 0.07 - ETA: 11s - loss: 4.4530 - acc: 0.07 - ETA: 11s - loss: 4.4385 - acc: 0.07 - ETA: 11s - loss: 4.4420 - acc: 0.07 - ETA: 11s - loss: 4.4508 - acc: 0.06 - ETA: 11s - loss: 4.4351 - acc: 0.06 - ETA: 11s - loss: 4.4092 - acc: 0.07 - ETA: 11s - loss: 4.4317 - acc: 0.07 - ETA: 11s - loss: 4.4328 - acc: 0.07 - ETA: 11s - loss: 4.4281 - acc: 0.07 - ETA: 11s - loss: 4.4260 - acc: 0.07 - ETA: 10s - loss: 4.4226 - acc: 0.06 - ETA: 11s - loss: 4.4260 - acc: 0.06 - ETA: 10s - loss: 4.4182 - acc: 0.06 - ETA: 10s - loss: 4.4239 - acc: 0.06 - ETA: 10s - loss: 4.4433 - acc: 0.05 - ETA: 10s - loss: 4.4470 - acc: 0.06 - ETA: 10s - loss: 4.4509 - acc: 0.06 - ETA: 10s - loss: 4.4521 - acc: 0.05 - ETA: 10s - loss: 4.4524 - acc: 0.05 - ETA: 10s - loss: 4.4571 - acc: 0.05 - ETA: 10s - loss: 4.4614 - acc: 0.05 - ETA: 10s - loss: 4.4715 - acc: 0.05 - ETA: 10s - loss: 4.4788 - acc: 0.05 - ETA: 10s - loss: 4.4833 - acc: 0.05 - ETA: 10s - loss: 4.4883 - acc: 0.05 - ETA: 9s - loss: 4.4930 - acc: 0.0532 - ETA: 9s - loss: 4.4958 - acc: 0.052 - ETA: 9s - loss: 4.4945 - acc: 0.051 - ETA: 9s - loss: 4.4968 - acc: 0.050 - ETA: 9s - loss: 4.4961 - acc: 0.049 - ETA: 9s - loss: 4.4994 - acc: 0.048 - ETA: 9s - loss: 4.4950 - acc: 0.050 - ETA: 9s - loss: 4.4858 - acc: 0.050 - ETA: 9s - loss: 4.4862 - acc: 0.050 - ETA: 9s - loss: 4.4906 - acc: 0.050 - ETA: 9s - loss: 4.4819 - acc: 0.051 - ETA: 9s - loss: 4.4821 - acc: 0.050 - ETA: 9s - loss: 4.4828 - acc: 0.050 - ETA: 8s - loss: 4.4862 - acc: 0.050 - ETA: 8s - loss: 4.4861 - acc: 0.050 - ETA: 8s - loss: 4.4868 - acc: 0.050 - ETA: 8s - loss: 4.4815 - acc: 0.050 - ETA: 8s - loss: 4.4860 - acc: 0.051 - ETA: 8s - loss: 4.4874 - acc: 0.050 - ETA: 8s - loss: 4.4863 - acc: 0.051 - ETA: 8s - loss: 4.4837 - acc: 0.051 - ETA: 8s - loss: 4.4820 - acc: 0.051 - ETA: 8s - loss: 4.4839 - acc: 0.051 - ETA: 8s - loss: 4.4863 - acc: 0.051 - ETA: 8s - loss: 4.4850 - acc: 0.050 - ETA: 8s - loss: 4.4833 - acc: 0.050 - ETA: 8s - loss: 4.4808 - acc: 0.051 - ETA: 7s - loss: 4.4799 - acc: 0.050 - ETA: 7s - loss: 4.4775 - acc: 0.050 - ETA: 7s - loss: 4.4775 - acc: 0.050 - ETA: 7s - loss: 4.4755 - acc: 0.050 - ETA: 7s - loss: 4.4793 - acc: 0.049 - ETA: 7s - loss: 4.4797 - acc: 0.049 - ETA: 7s - loss: 4.4806 - acc: 0.049 - ETA: 7s - loss: 4.4826 - acc: 0.049 - ETA: 7s - loss: 4.4836 - acc: 0.050 - ETA: 7s - loss: 4.4894 - acc: 0.050 - ETA: 7s - loss: 4.4868 - acc: 0.051 - ETA: 7s - loss: 4.4848 - acc: 0.050 - ETA: 7s - loss: 4.4834 - acc: 0.051 - ETA: 6s - loss: 4.4841 - acc: 0.051 - ETA: 6s - loss: 4.4799 - acc: 0.052 - ETA: 6s - loss: 4.4784 - acc: 0.052 - ETA: 6s - loss: 4.4793 - acc: 0.052 - ETA: 6s - loss: 4.4833 - acc: 0.052 - ETA: 6s - loss: 4.4794 - acc: 0.052 - ETA: 6s - loss: 4.4817 - acc: 0.052 - ETA: 6s - loss: 4.4825 - acc: 0.052 - ETA: 6s - loss: 4.4809 - acc: 0.052 - ETA: 6s - loss: 4.4790 - acc: 0.053 - ETA: 6s - loss: 4.4778 - acc: 0.052 - ETA: 6s - loss: 4.4781 - acc: 0.052 - ETA: 6s - loss: 4.4814 - acc: 0.051 - ETA: 6s - loss: 4.4829 - acc: 0.051 - ETA: 5s - loss: 4.4836 - acc: 0.051 - ETA: 5s - loss: 4.4842 - acc: 0.051 - ETA: 5s - loss: 4.4843 - acc: 0.052 - ETA: 5s - loss: 4.4852 - acc: 0.051 - ETA: 5s - loss: 4.4846 - acc: 0.051 - ETA: 5s - loss: 4.4847 - acc: 0.050 - ETA: 5s - loss: 4.4844 - acc: 0.051 - ETA: 5s - loss: 4.4832 - acc: 0.051 - ETA: 5s - loss: 4.4845 - acc: 0.051 - ETA: 5s - loss: 4.4840 - acc: 0.051 - ETA: 5s - loss: 4.4820 - acc: 0.051 - ETA: 5s - loss: 4.4832 - acc: 0.051 - ETA: 5s - loss: 4.4821 - acc: 0.051 - ETA: 5s - loss: 4.4791 - acc: 0.051 - ETA: 4s - loss: 4.4808 - acc: 0.051 - ETA: 4s - loss: 4.4772 - acc: 0.051 - ETA: 4s - loss: 4.4782 - acc: 0.050 - ETA: 4s - loss: 4.4787 - acc: 0.050 - ETA: 4s - loss: 4.4786 - acc: 0.050 - ETA: 4s - loss: 4.4767 - acc: 0.050 - ETA: 4s - loss: 4.4761 - acc: 0.051 - ETA: 4s - loss: 4.4761 - acc: 0.051 - ETA: 4s - loss: 4.4757 - acc: 0.051 - ETA: 4s - loss: 4.4745 - acc: 0.051 - ETA: 4s - loss: 4.4747 - acc: 0.051 - ETA: 4s - loss: 4.4767 - acc: 0.052 - ETA: 4s - loss: 4.4745 - acc: 0.052 - ETA: 4s - loss: 4.4742 - acc: 0.052 - ETA: 3s - loss: 4.4746 - acc: 0.052 - ETA: 3s - loss: 4.4747 - acc: 0.052 - ETA: 3s - loss: 4.4732 - acc: 0.052 - ETA: 3s - loss: 4.4758 - acc: 0.053 - ETA: 3s - loss: 4.4760 - acc: 0.053 - ETA: 3s - loss: 4.4763 - acc: 0.053 - ETA: 3s - loss: 4.4760 - acc: 0.053 - ETA: 3s - loss: 4.4754 - acc: 0.053 - ETA: 3s - loss: 4.4761 - acc: 0.053 - ETA: 3s - loss: 4.4780 - acc: 0.053 - ETA: 3s - loss: 4.4774 - acc: 0.053 - ETA: 3s - loss: 4.4764 - acc: 0.053 - ETA: 3s - loss: 4.4767 - acc: 0.053 - ETA: 3s - loss: 4.4764 - acc: 0.053 - ETA: 3s - loss: 4.4753 - acc: 0.053 - ETA: 2s - loss: 4.4745 - acc: 0.053 - ETA: 2s - loss: 4.4749 - acc: 0.053 - ETA: 2s - loss: 4.4733 - acc: 0.053 - ETA: 2s - loss: 4.4747 - acc: 0.053 - ETA: 2s - loss: 4.4738 - acc: 0.053 - ETA: 2s - loss: 4.4740 - acc: 0.053 - ETA: 2s - loss: 4.4746 - acc: 0.053 - ETA: 2s - loss: 4.4743 - acc: 0.053 - ETA: 2s - loss: 4.4731 - acc: 0.053 - ETA: 2s - loss: 4.4737 - acc: 0.053 - ETA: 2s - loss: 4.4723 - acc: 0.053 - ETA: 2s - loss: 4.4719 - acc: 0.053 - ETA: 2s - loss: 4.4730 - acc: 0.053 - ETA: 2s - loss: 4.4734 - acc: 0.053 - ETA: 1s - loss: 4.4725 - acc: 0.053 - ETA: 1s - loss: 4.4730 - acc: 0.053 - ETA: 1s - loss: 4.4745 - acc: 0.052 - ETA: 1s - loss: 4.4739 - acc: 0.053 - ETA: 1s - loss: 4.4736 - acc: 0.052 - ETA: 1s - loss: 4.4743 - acc: 0.052 - ETA: 1s - loss: 4.4749 - acc: 0.052 - ETA: 1s - loss: 4.4733 - acc: 0.052 - ETA: 1s - loss: 4.4724 - acc: 0.052 - ETA: 1s - loss: 4.4727 - acc: 0.052 - ETA: 1s - loss: 4.4723 - acc: 0.052 - ETA: 1s - loss: 4.4729 - acc: 0.052 - ETA: 1s - loss: 4.4706 - acc: 0.052 - ETA: 1s - loss: 4.4699 - acc: 0.052 - ETA: 0s - loss: 4.4693 - acc: 0.052 - ETA: 0s - loss: 4.4694 - acc: 0.052 - ETA: 0s - loss: 4.4689 - acc: 0.052 - ETA: 0s - loss: 4.4693 - acc: 0.052 - ETA: 0s - loss: 4.4691 - acc: 0.052 - ETA: 0s - loss: 4.4675 - acc: 0.053 - ETA: 0s - loss: 4.4671 - acc: 0.052 - ETA: 0s - loss: 4.4665 - acc: 0.053 - ETA: 0s - loss: 4.4654 - acc: 0.052 - ETA: 0s - loss: 4.4653 - acc: 0.053 - ETA: 0s - loss: 4.4658 - acc: 0.052 - ETA: 0s - loss: 4.4675 - acc: 0.052 - ETA: 0s - loss: 4.4672 - acc: 0.052 - ETA: 0s - loss: 4.4670 - acc: 0.052 - 12s 2ms/step - loss: 4.4697 - acc: 0.0525 - val_loss: 4.3189 - val_acc: 0.0703\n",
      "\n",
      "Epoch 00020: val_loss improved from 4.34514 to 4.31892, saving model to saved_models/weights.best.from_scratch.hdf5\n"
     ]
    },
    {
     "data": {
      "text/plain": [
       "<keras.callbacks.History at 0x1edd43be208>"
      ]
     },
     "execution_count": 57,
     "metadata": {},
     "output_type": "execute_result"
    }
   ],
   "source": [
    "from keras.callbacks import ModelCheckpoint  \n",
    "\n",
    "### TODO: specify the number of epochs that you would like to use to train the model.\n",
    "\n",
    "epochs = 20\n",
    "\n",
    "### Do NOT modify the code below this line.\n",
    "\n",
    "checkpointer = ModelCheckpoint(filepath='saved_models/weights.best.from_scratch.hdf5', \n",
    "                               verbose=1, save_best_only=True)\n",
    "\n",
    "model.fit(train_tensors, train_targets, \n",
    "          validation_data=(valid_tensors, valid_targets),\n",
    "          epochs=epochs, batch_size=20, callbacks=[checkpointer], verbose=1)"
   ]
  },
  {
   "cell_type": "markdown",
   "metadata": {},
   "source": [
    "### Load the Model with the Best Validation Loss"
   ]
  },
  {
   "cell_type": "code",
   "execution_count": 58,
   "metadata": {
    "collapsed": true
   },
   "outputs": [],
   "source": [
    "model.load_weights('saved_models/weights.best.from_scratch.hdf5')"
   ]
  },
  {
   "cell_type": "markdown",
   "metadata": {},
   "source": [
    "### Test the Model\n",
    "\n",
    "Try out your model on the test dataset of dog images.  Ensure that your test accuracy is greater than 1%."
   ]
  },
  {
   "cell_type": "code",
   "execution_count": 59,
   "metadata": {},
   "outputs": [
    {
     "name": "stdout",
     "output_type": "stream",
     "text": [
      "Test accuracy: 4.9043%\n"
     ]
    }
   ],
   "source": [
    "# get index of predicted dog breed for each image in test set\n",
    "dog_breed_predictions = [np.argmax(model.predict(np.expand_dims(tensor, axis=0))) for tensor in test_tensors]\n",
    "\n",
    "# report test accuracy\n",
    "test_accuracy = 100*np.sum(np.array(dog_breed_predictions)==np.argmax(test_targets, axis=1))/len(dog_breed_predictions)\n",
    "print('Test accuracy: %.4f%%' % test_accuracy)"
   ]
  },
  {
   "cell_type": "markdown",
   "metadata": {},
   "source": [
    "---\n",
    "<a id='step4'></a>\n",
    "## Step 4: Use a CNN to Classify Dog Breeds\n",
    "\n",
    "To reduce training time without sacrificing accuracy, we show you how to train a CNN using transfer learning.  In the following step, you will get a chance to use transfer learning to train your own CNN.\n",
    "\n",
    "### Obtain Bottleneck Features"
   ]
  },
  {
   "cell_type": "code",
   "execution_count": 60,
   "metadata": {
    "collapsed": true
   },
   "outputs": [],
   "source": [
    "bottleneck_features = np.load('bottleneck_features/DogVGG16Data.npz')\n",
    "train_VGG16 = bottleneck_features['train']\n",
    "valid_VGG16 = bottleneck_features['valid']\n",
    "test_VGG16 = bottleneck_features['test']"
   ]
  },
  {
   "cell_type": "markdown",
   "metadata": {},
   "source": [
    "### Model Architecture\n",
    "\n",
    "The model uses the the pre-trained VGG-16 model as a fixed feature extractor, where the last convolutional output of VGG-16 is fed as input to our model.  We only add a global average pooling layer and a fully connected layer, where the latter contains one node for each dog category and is equipped with a softmax."
   ]
  },
  {
   "cell_type": "code",
   "execution_count": 61,
   "metadata": {
    "scrolled": true
   },
   "outputs": [
    {
     "name": "stdout",
     "output_type": "stream",
     "text": [
      "_________________________________________________________________\n",
      "Layer (type)                 Output Shape              Param #   \n",
      "=================================================================\n",
      "global_average_pooling2d_7 ( (None, 512)               0         \n",
      "_________________________________________________________________\n",
      "dense_7 (Dense)              (None, 133)               68229     \n",
      "=================================================================\n",
      "Total params: 68,229\n",
      "Trainable params: 68,229\n",
      "Non-trainable params: 0\n",
      "_________________________________________________________________\n"
     ]
    }
   ],
   "source": [
    "VGG16_model = Sequential()\n",
    "VGG16_model.add(GlobalAveragePooling2D(input_shape=train_VGG16.shape[1:]))\n",
    "VGG16_model.add(Dense(133, activation='softmax'))\n",
    "\n",
    "VGG16_model.summary()"
   ]
  },
  {
   "cell_type": "markdown",
   "metadata": {},
   "source": [
    "### Compile the Model"
   ]
  },
  {
   "cell_type": "code",
   "execution_count": 62,
   "metadata": {
    "collapsed": true
   },
   "outputs": [],
   "source": [
    "VGG16_model.compile(loss='categorical_crossentropy', optimizer='rmsprop', metrics=['accuracy'])"
   ]
  },
  {
   "cell_type": "markdown",
   "metadata": {},
   "source": [
    "### Train the Model"
   ]
  },
  {
   "cell_type": "code",
   "execution_count": 79,
   "metadata": {},
   "outputs": [
    {
     "data": {
      "text/plain": [
       "(6680, 7, 7, 512)"
      ]
     },
     "execution_count": 79,
     "metadata": {},
     "output_type": "execute_result"
    }
   ],
   "source": [
    "train_VGG16.shape"
   ]
  },
  {
   "cell_type": "code",
   "execution_count": 63,
   "metadata": {},
   "outputs": [
    {
     "ename": "ValueError",
     "evalue": "Input arrays should have the same number of samples as target arrays. Found 835 input samples and 313 target samples.",
     "output_type": "error",
     "traceback": [
      "\u001b[1;31m---------------------------------------------------------------------------\u001b[0m",
      "\u001b[1;31mValueError\u001b[0m                                Traceback (most recent call last)",
      "\u001b[1;32m<ipython-input-63-dc77b24fa6cb>\u001b[0m in \u001b[0;36m<module>\u001b[1;34m()\u001b[0m\n\u001b[0;32m      4\u001b[0m VGG16_model.fit(train_VGG16, train_targets, \n\u001b[0;32m      5\u001b[0m           \u001b[0mvalidation_data\u001b[0m\u001b[1;33m=\u001b[0m\u001b[1;33m(\u001b[0m\u001b[0mvalid_VGG16\u001b[0m\u001b[1;33m,\u001b[0m \u001b[0mvalid_targets\u001b[0m\u001b[1;33m)\u001b[0m\u001b[1;33m,\u001b[0m\u001b[1;33m\u001b[0m\u001b[0m\n\u001b[1;32m----> 6\u001b[1;33m           epochs=20, batch_size=20, callbacks=[checkpointer], verbose=1)\n\u001b[0m",
      "\u001b[1;32m~\\Anaconda3\\envs\\dlnd\\lib\\site-packages\\keras\\models.py\u001b[0m in \u001b[0;36mfit\u001b[1;34m(self, x, y, batch_size, epochs, verbose, callbacks, validation_split, validation_data, shuffle, class_weight, sample_weight, initial_epoch, steps_per_epoch, validation_steps, **kwargs)\u001b[0m\n\u001b[0;32m    961\u001b[0m                               \u001b[0minitial_epoch\u001b[0m\u001b[1;33m=\u001b[0m\u001b[0minitial_epoch\u001b[0m\u001b[1;33m,\u001b[0m\u001b[1;33m\u001b[0m\u001b[0m\n\u001b[0;32m    962\u001b[0m                               \u001b[0msteps_per_epoch\u001b[0m\u001b[1;33m=\u001b[0m\u001b[0msteps_per_epoch\u001b[0m\u001b[1;33m,\u001b[0m\u001b[1;33m\u001b[0m\u001b[0m\n\u001b[1;32m--> 963\u001b[1;33m                               validation_steps=validation_steps)\n\u001b[0m\u001b[0;32m    964\u001b[0m \u001b[1;33m\u001b[0m\u001b[0m\n\u001b[0;32m    965\u001b[0m     def evaluate(self, x=None, y=None,\n",
      "\u001b[1;32m~\\Anaconda3\\envs\\dlnd\\lib\\site-packages\\keras\\engine\\training.py\u001b[0m in \u001b[0;36mfit\u001b[1;34m(self, x, y, batch_size, epochs, verbose, callbacks, validation_split, validation_data, shuffle, class_weight, sample_weight, initial_epoch, steps_per_epoch, validation_steps, **kwargs)\u001b[0m\n\u001b[0;32m   1655\u001b[0m                 \u001b[0mval_x\u001b[0m\u001b[1;33m,\u001b[0m \u001b[0mval_y\u001b[0m\u001b[1;33m,\u001b[0m\u001b[1;33m\u001b[0m\u001b[0m\n\u001b[0;32m   1656\u001b[0m                 \u001b[0msample_weight\u001b[0m\u001b[1;33m=\u001b[0m\u001b[0mval_sample_weight\u001b[0m\u001b[1;33m,\u001b[0m\u001b[1;33m\u001b[0m\u001b[0m\n\u001b[1;32m-> 1657\u001b[1;33m                 batch_size=batch_size)\n\u001b[0m\u001b[0;32m   1658\u001b[0m             \u001b[1;32mif\u001b[0m \u001b[0mself\u001b[0m\u001b[1;33m.\u001b[0m\u001b[0muses_learning_phase\u001b[0m \u001b[1;32mand\u001b[0m \u001b[1;32mnot\u001b[0m \u001b[0misinstance\u001b[0m\u001b[1;33m(\u001b[0m\u001b[0mK\u001b[0m\u001b[1;33m.\u001b[0m\u001b[0mlearning_phase\u001b[0m\u001b[1;33m(\u001b[0m\u001b[1;33m)\u001b[0m\u001b[1;33m,\u001b[0m \u001b[0mint\u001b[0m\u001b[1;33m)\u001b[0m\u001b[1;33m:\u001b[0m\u001b[1;33m\u001b[0m\u001b[0m\n\u001b[0;32m   1659\u001b[0m                 \u001b[0mval_ins\u001b[0m \u001b[1;33m=\u001b[0m \u001b[0mval_x\u001b[0m \u001b[1;33m+\u001b[0m \u001b[0mval_y\u001b[0m \u001b[1;33m+\u001b[0m \u001b[0mval_sample_weights\u001b[0m \u001b[1;33m+\u001b[0m \u001b[1;33m[\u001b[0m\u001b[1;36m0.\u001b[0m\u001b[1;33m]\u001b[0m\u001b[1;33m\u001b[0m\u001b[0m\n",
      "\u001b[1;32m~\\Anaconda3\\envs\\dlnd\\lib\\site-packages\\keras\\engine\\training.py\u001b[0m in \u001b[0;36m_standardize_user_data\u001b[1;34m(self, x, y, sample_weight, class_weight, check_array_lengths, batch_size)\u001b[0m\n\u001b[0;32m   1495\u001b[0m \u001b[1;33m\u001b[0m\u001b[0m\n\u001b[0;32m   1496\u001b[0m         \u001b[1;32mif\u001b[0m \u001b[0mcheck_array_lengths\u001b[0m\u001b[1;33m:\u001b[0m\u001b[1;33m\u001b[0m\u001b[0m\n\u001b[1;32m-> 1497\u001b[1;33m             \u001b[0m_check_array_lengths\u001b[0m\u001b[1;33m(\u001b[0m\u001b[0mx\u001b[0m\u001b[1;33m,\u001b[0m \u001b[0my\u001b[0m\u001b[1;33m,\u001b[0m \u001b[0msample_weights\u001b[0m\u001b[1;33m)\u001b[0m\u001b[1;33m\u001b[0m\u001b[0m\n\u001b[0m\u001b[0;32m   1498\u001b[0m         _check_loss_and_target_compatibility(y,\n\u001b[0;32m   1499\u001b[0m                                              \u001b[0mself\u001b[0m\u001b[1;33m.\u001b[0m\u001b[0m_feed_loss_fns\u001b[0m\u001b[1;33m,\u001b[0m\u001b[1;33m\u001b[0m\u001b[0m\n",
      "\u001b[1;32m~\\Anaconda3\\envs\\dlnd\\lib\\site-packages\\keras\\engine\\training.py\u001b[0m in \u001b[0;36m_check_array_lengths\u001b[1;34m(inputs, targets, weights)\u001b[0m\n\u001b[0;32m    218\u001b[0m                          \u001b[1;34m'the same number of samples as target arrays. '\u001b[0m\u001b[1;33m\u001b[0m\u001b[0m\n\u001b[0;32m    219\u001b[0m                          \u001b[1;34m'Found '\u001b[0m \u001b[1;33m+\u001b[0m \u001b[0mstr\u001b[0m\u001b[1;33m(\u001b[0m\u001b[0mlist\u001b[0m\u001b[1;33m(\u001b[0m\u001b[0mset_x\u001b[0m\u001b[1;33m)\u001b[0m\u001b[1;33m[\u001b[0m\u001b[1;36m0\u001b[0m\u001b[1;33m]\u001b[0m\u001b[1;33m)\u001b[0m \u001b[1;33m+\u001b[0m \u001b[1;34m' input samples '\u001b[0m\u001b[1;33m\u001b[0m\u001b[0m\n\u001b[1;32m--> 220\u001b[1;33m                          'and ' + str(list(set_y)[0]) + ' target samples.')\n\u001b[0m\u001b[0;32m    221\u001b[0m     \u001b[1;32mif\u001b[0m \u001b[0mlen\u001b[0m\u001b[1;33m(\u001b[0m\u001b[0mset_w\u001b[0m\u001b[1;33m)\u001b[0m \u001b[1;33m>\u001b[0m \u001b[1;36m1\u001b[0m\u001b[1;33m:\u001b[0m\u001b[1;33m\u001b[0m\u001b[0m\n\u001b[0;32m    222\u001b[0m         raise ValueError('All sample_weight arrays should have '\n",
      "\u001b[1;31mValueError\u001b[0m: Input arrays should have the same number of samples as target arrays. Found 835 input samples and 313 target samples."
     ]
    }
   ],
   "source": [
    "checkpointer = ModelCheckpoint(filepath='saved_models/weights.best.VGG16.hdf5', \n",
    "                               verbose=1, save_best_only=True)\n",
    "\n",
    "VGG16_model.fit(train_VGG16, train_targets, \n",
    "          validation_data=(valid_VGG16, valid_targets),\n",
    "          epochs=20, batch_size=20, callbacks=[checkpointer], verbose=1)"
   ]
  },
  {
   "cell_type": "code",
   "execution_count": 67,
   "metadata": {},
   "outputs": [
    {
     "data": {
      "text/plain": [
       "(835, 7, 7, 512)"
      ]
     },
     "execution_count": 67,
     "metadata": {},
     "output_type": "execute_result"
    }
   ],
   "source": [
    "valid_VGG16.shape"
   ]
  },
  {
   "cell_type": "code",
   "execution_count": 66,
   "metadata": {},
   "outputs": [
    {
     "data": {
      "text/plain": [
       "(313, 133)"
      ]
     },
     "execution_count": 66,
     "metadata": {},
     "output_type": "execute_result"
    }
   ],
   "source": [
    "valid_targets.shape"
   ]
  },
  {
   "cell_type": "markdown",
   "metadata": {},
   "source": [
    "### Load the Model with the Best Validation Loss"
   ]
  },
  {
   "cell_type": "code",
   "execution_count": null,
   "metadata": {
    "collapsed": true
   },
   "outputs": [],
   "source": [
    "VGG16_model.load_weights('saved_models/weights.best.VGG16.hdf5')"
   ]
  },
  {
   "cell_type": "markdown",
   "metadata": {},
   "source": [
    "### Test the Model\n",
    "\n",
    "Now, we can use the CNN to test how well it identifies breed within our test dataset of dog images.  We print the test accuracy below."
   ]
  },
  {
   "cell_type": "code",
   "execution_count": null,
   "metadata": {},
   "outputs": [],
   "source": [
    "# get index of predicted dog breed for each image in test set\n",
    "VGG16_predictions = [np.argmax(VGG16_model.predict(np.expand_dims(feature, axis=0))) for feature in test_VGG16]\n",
    "\n",
    "# report test accuracy\n",
    "test_accuracy = 100*np.sum(np.array(VGG16_predictions)==np.argmax(test_targets, axis=1))/len(VGG16_predictions)\n",
    "print('Test accuracy: %.4f%%' % test_accuracy)"
   ]
  },
  {
   "cell_type": "markdown",
   "metadata": {},
   "source": [
    "### Predict Dog Breed with the Model"
   ]
  },
  {
   "cell_type": "code",
   "execution_count": null,
   "metadata": {
    "collapsed": true
   },
   "outputs": [],
   "source": [
    "from extract_bottleneck_features import *\n",
    "\n",
    "def VGG16_predict_breed(img_path):\n",
    "    # extract bottleneck features\n",
    "    bottleneck_feature = extract_VGG16(path_to_tensor(img_path))\n",
    "    # obtain predicted vector\n",
    "    predicted_vector = VGG16_model.predict(bottleneck_feature)\n",
    "    # return dog breed that is predicted by the model\n",
    "    return dog_names[np.argmax(predicted_vector)]"
   ]
  },
  {
   "cell_type": "markdown",
   "metadata": {},
   "source": [
    "---\n",
    "<a id='step5'></a>\n",
    "## Step 5: Create a CNN to Classify Dog Breeds (using Transfer Learning)\n",
    "\n",
    "You will now use transfer learning to create a CNN that can identify dog breed from images.  Your CNN must attain at least 60% accuracy on the test set.\n",
    "\n",
    "In Step 4, we used transfer learning to create a CNN using VGG-16 bottleneck features.  In this section, you must use the bottleneck features from a different pre-trained model.  To make things easier for you, we have pre-computed the features for all of the networks that are currently available in Keras:\n",
    "- [VGG-19](https://s3-us-west-1.amazonaws.com/udacity-aind/dog-project/DogVGG19Data.npz) bottleneck features\n",
    "- [ResNet-50](https://s3-us-west-1.amazonaws.com/udacity-aind/dog-project/DogResnet50Data.npz) bottleneck features\n",
    "- [Inception](https://s3-us-west-1.amazonaws.com/udacity-aind/dog-project/DogInceptionV3Data.npz) bottleneck features\n",
    "- [Xception](https://s3-us-west-1.amazonaws.com/udacity-aind/dog-project/DogXceptionData.npz) bottleneck features\n",
    "\n",
    "The files are encoded as such:\n",
    "\n",
    "    Dog{network}Data.npz\n",
    "    \n",
    "where `{network}`, in the above filename, can be one of `VGG19`, `Resnet50`, `InceptionV3`, or `Xception`.  Pick one of the above architectures, download the corresponding bottleneck features, and store the downloaded file in the `bottleneck_features/` folder in the repository.\n",
    "\n",
    "### (IMPLEMENTATION) Obtain Bottleneck Features\n",
    "\n",
    "In the code block below, extract the bottleneck features corresponding to the train, test, and validation sets by running the following:\n",
    "\n",
    "    bottleneck_features = np.load('bottleneck_features/Dog{network}Data.npz')\n",
    "    train_{network} = bottleneck_features['train']\n",
    "    valid_{network} = bottleneck_features['valid']\n",
    "    test_{network} = bottleneck_features['test']"
   ]
  },
  {
   "cell_type": "code",
   "execution_count": 68,
   "metadata": {
    "collapsed": true
   },
   "outputs": [],
   "source": [
    "### TODO: Obtain bottleneck features from another pre-trained CNN.\n",
    "\n",
    "bottleneck_features = np.load('bottleneck_features/DogResnet50Data.npz')\n",
    "train_network = bottleneck_features['train']\n",
    "valid_network = bottleneck_features['valid']\n",
    "test_network = bottleneck_features['test']"
   ]
  },
  {
   "cell_type": "code",
   "execution_count": 75,
   "metadata": {},
   "outputs": [
    {
     "data": {
      "text/plain": [
       "(835, 1, 1, 2048)"
      ]
     },
     "execution_count": 75,
     "metadata": {},
     "output_type": "execute_result"
    }
   ],
   "source": [
    "#train_network.shape\n",
    "valid_network.shape\n",
    "#test_network.shape"
   ]
  },
  {
   "cell_type": "markdown",
   "metadata": {},
   "source": [
    "### (IMPLEMENTATION) Model Architecture\n",
    "\n",
    "Create a CNN to classify dog breed.  At the end of your code cell block, summarize the layers of your model by executing the line:\n",
    "    \n",
    "        <your model's name>.summary()\n",
    "   \n",
    "__Question 5:__ Outline the steps you took to get to your final CNN architecture and your reasoning at each step.  Describe why you think the architecture is suitable for the current problem.\n",
    "\n",
    "__Answer:__ \n",
    "\n"
   ]
  },
  {
   "cell_type": "code",
   "execution_count": 69,
   "metadata": {},
   "outputs": [
    {
     "name": "stdout",
     "output_type": "stream",
     "text": [
      "_________________________________________________________________\n",
      "Layer (type)                 Output Shape              Param #   \n",
      "=================================================================\n",
      "global_average_pooling2d_8 ( (None, 2048)              0         \n",
      "_________________________________________________________________\n",
      "dense_8 (Dense)              (None, 133)               272517    \n",
      "=================================================================\n",
      "Total params: 272,517\n",
      "Trainable params: 272,517\n",
      "Non-trainable params: 0\n",
      "_________________________________________________________________\n"
     ]
    }
   ],
   "source": [
    "### TODO: Define your architecture.\n",
    "\n",
    "network_model = Sequential()\n",
    "network_model.add(GlobalAveragePooling2D(input_shape=train_network.shape[1:]))\n",
    "network_model.add(Dense(133, activation='softmax'))\n",
    "\n",
    "network_model.summary()"
   ]
  },
  {
   "cell_type": "markdown",
   "metadata": {},
   "source": [
    "### (IMPLEMENTATION) Compile the Model"
   ]
  },
  {
   "cell_type": "code",
   "execution_count": 70,
   "metadata": {
    "collapsed": true
   },
   "outputs": [],
   "source": [
    "### TODO: Compile the model.\n",
    "\n",
    "network_model.compile(loss='categorical_crossentropy', optimizer='rmsprop', metrics=['accuracy'])"
   ]
  },
  {
   "cell_type": "markdown",
   "metadata": {},
   "source": [
    "### (IMPLEMENTATION) Train the Model\n",
    "\n",
    "Train your model in the code cell below.  Use model checkpointing to save the model that attains the best validation loss.  \n",
    "\n",
    "You are welcome to [augment the training data](https://blog.keras.io/building-powerful-image-classification-models-using-very-little-data.html), but this is not a requirement. "
   ]
  },
  {
   "cell_type": "code",
   "execution_count": 71,
   "metadata": {},
   "outputs": [
    {
     "ename": "ValueError",
     "evalue": "Input arrays should have the same number of samples as target arrays. Found 835 input samples and 313 target samples.",
     "output_type": "error",
     "traceback": [
      "\u001b[1;31m---------------------------------------------------------------------------\u001b[0m",
      "\u001b[1;31mValueError\u001b[0m                                Traceback (most recent call last)",
      "\u001b[1;32m<ipython-input-71-04e339bd7144>\u001b[0m in \u001b[0;36m<module>\u001b[1;34m()\u001b[0m\n\u001b[0;32m      6\u001b[0m network_model.fit(train_network, train_targets, \n\u001b[0;32m      7\u001b[0m           \u001b[0mvalidation_data\u001b[0m\u001b[1;33m=\u001b[0m\u001b[1;33m(\u001b[0m\u001b[0mvalid_network\u001b[0m\u001b[1;33m,\u001b[0m \u001b[0mvalid_targets\u001b[0m\u001b[1;33m)\u001b[0m\u001b[1;33m,\u001b[0m\u001b[1;33m\u001b[0m\u001b[0m\n\u001b[1;32m----> 8\u001b[1;33m           epochs=20, batch_size=20, callbacks=[checkpointer], verbose=1)\n\u001b[0m",
      "\u001b[1;32m~\\Anaconda3\\envs\\dlnd\\lib\\site-packages\\keras\\models.py\u001b[0m in \u001b[0;36mfit\u001b[1;34m(self, x, y, batch_size, epochs, verbose, callbacks, validation_split, validation_data, shuffle, class_weight, sample_weight, initial_epoch, steps_per_epoch, validation_steps, **kwargs)\u001b[0m\n\u001b[0;32m    961\u001b[0m                               \u001b[0minitial_epoch\u001b[0m\u001b[1;33m=\u001b[0m\u001b[0minitial_epoch\u001b[0m\u001b[1;33m,\u001b[0m\u001b[1;33m\u001b[0m\u001b[0m\n\u001b[0;32m    962\u001b[0m                               \u001b[0msteps_per_epoch\u001b[0m\u001b[1;33m=\u001b[0m\u001b[0msteps_per_epoch\u001b[0m\u001b[1;33m,\u001b[0m\u001b[1;33m\u001b[0m\u001b[0m\n\u001b[1;32m--> 963\u001b[1;33m                               validation_steps=validation_steps)\n\u001b[0m\u001b[0;32m    964\u001b[0m \u001b[1;33m\u001b[0m\u001b[0m\n\u001b[0;32m    965\u001b[0m     def evaluate(self, x=None, y=None,\n",
      "\u001b[1;32m~\\Anaconda3\\envs\\dlnd\\lib\\site-packages\\keras\\engine\\training.py\u001b[0m in \u001b[0;36mfit\u001b[1;34m(self, x, y, batch_size, epochs, verbose, callbacks, validation_split, validation_data, shuffle, class_weight, sample_weight, initial_epoch, steps_per_epoch, validation_steps, **kwargs)\u001b[0m\n\u001b[0;32m   1655\u001b[0m                 \u001b[0mval_x\u001b[0m\u001b[1;33m,\u001b[0m \u001b[0mval_y\u001b[0m\u001b[1;33m,\u001b[0m\u001b[1;33m\u001b[0m\u001b[0m\n\u001b[0;32m   1656\u001b[0m                 \u001b[0msample_weight\u001b[0m\u001b[1;33m=\u001b[0m\u001b[0mval_sample_weight\u001b[0m\u001b[1;33m,\u001b[0m\u001b[1;33m\u001b[0m\u001b[0m\n\u001b[1;32m-> 1657\u001b[1;33m                 batch_size=batch_size)\n\u001b[0m\u001b[0;32m   1658\u001b[0m             \u001b[1;32mif\u001b[0m \u001b[0mself\u001b[0m\u001b[1;33m.\u001b[0m\u001b[0muses_learning_phase\u001b[0m \u001b[1;32mand\u001b[0m \u001b[1;32mnot\u001b[0m \u001b[0misinstance\u001b[0m\u001b[1;33m(\u001b[0m\u001b[0mK\u001b[0m\u001b[1;33m.\u001b[0m\u001b[0mlearning_phase\u001b[0m\u001b[1;33m(\u001b[0m\u001b[1;33m)\u001b[0m\u001b[1;33m,\u001b[0m \u001b[0mint\u001b[0m\u001b[1;33m)\u001b[0m\u001b[1;33m:\u001b[0m\u001b[1;33m\u001b[0m\u001b[0m\n\u001b[0;32m   1659\u001b[0m                 \u001b[0mval_ins\u001b[0m \u001b[1;33m=\u001b[0m \u001b[0mval_x\u001b[0m \u001b[1;33m+\u001b[0m \u001b[0mval_y\u001b[0m \u001b[1;33m+\u001b[0m \u001b[0mval_sample_weights\u001b[0m \u001b[1;33m+\u001b[0m \u001b[1;33m[\u001b[0m\u001b[1;36m0.\u001b[0m\u001b[1;33m]\u001b[0m\u001b[1;33m\u001b[0m\u001b[0m\n",
      "\u001b[1;32m~\\Anaconda3\\envs\\dlnd\\lib\\site-packages\\keras\\engine\\training.py\u001b[0m in \u001b[0;36m_standardize_user_data\u001b[1;34m(self, x, y, sample_weight, class_weight, check_array_lengths, batch_size)\u001b[0m\n\u001b[0;32m   1495\u001b[0m \u001b[1;33m\u001b[0m\u001b[0m\n\u001b[0;32m   1496\u001b[0m         \u001b[1;32mif\u001b[0m \u001b[0mcheck_array_lengths\u001b[0m\u001b[1;33m:\u001b[0m\u001b[1;33m\u001b[0m\u001b[0m\n\u001b[1;32m-> 1497\u001b[1;33m             \u001b[0m_check_array_lengths\u001b[0m\u001b[1;33m(\u001b[0m\u001b[0mx\u001b[0m\u001b[1;33m,\u001b[0m \u001b[0my\u001b[0m\u001b[1;33m,\u001b[0m \u001b[0msample_weights\u001b[0m\u001b[1;33m)\u001b[0m\u001b[1;33m\u001b[0m\u001b[0m\n\u001b[0m\u001b[0;32m   1498\u001b[0m         _check_loss_and_target_compatibility(y,\n\u001b[0;32m   1499\u001b[0m                                              \u001b[0mself\u001b[0m\u001b[1;33m.\u001b[0m\u001b[0m_feed_loss_fns\u001b[0m\u001b[1;33m,\u001b[0m\u001b[1;33m\u001b[0m\u001b[0m\n",
      "\u001b[1;32m~\\Anaconda3\\envs\\dlnd\\lib\\site-packages\\keras\\engine\\training.py\u001b[0m in \u001b[0;36m_check_array_lengths\u001b[1;34m(inputs, targets, weights)\u001b[0m\n\u001b[0;32m    218\u001b[0m                          \u001b[1;34m'the same number of samples as target arrays. '\u001b[0m\u001b[1;33m\u001b[0m\u001b[0m\n\u001b[0;32m    219\u001b[0m                          \u001b[1;34m'Found '\u001b[0m \u001b[1;33m+\u001b[0m \u001b[0mstr\u001b[0m\u001b[1;33m(\u001b[0m\u001b[0mlist\u001b[0m\u001b[1;33m(\u001b[0m\u001b[0mset_x\u001b[0m\u001b[1;33m)\u001b[0m\u001b[1;33m[\u001b[0m\u001b[1;36m0\u001b[0m\u001b[1;33m]\u001b[0m\u001b[1;33m)\u001b[0m \u001b[1;33m+\u001b[0m \u001b[1;34m' input samples '\u001b[0m\u001b[1;33m\u001b[0m\u001b[0m\n\u001b[1;32m--> 220\u001b[1;33m                          'and ' + str(list(set_y)[0]) + ' target samples.')\n\u001b[0m\u001b[0;32m    221\u001b[0m     \u001b[1;32mif\u001b[0m \u001b[0mlen\u001b[0m\u001b[1;33m(\u001b[0m\u001b[0mset_w\u001b[0m\u001b[1;33m)\u001b[0m \u001b[1;33m>\u001b[0m \u001b[1;36m1\u001b[0m\u001b[1;33m:\u001b[0m\u001b[1;33m\u001b[0m\u001b[0m\n\u001b[0;32m    222\u001b[0m         raise ValueError('All sample_weight arrays should have '\n",
      "\u001b[1;31mValueError\u001b[0m: Input arrays should have the same number of samples as target arrays. Found 835 input samples and 313 target samples."
     ]
    }
   ],
   "source": [
    "### TODO: Train the model.\n",
    "\n",
    "checkpointer = ModelCheckpoint(filepath='saved_models/weights.best.network.hdf5', \n",
    "                               verbose=1, save_best_only=True)\n",
    "\n",
    "network_model.fit(train_network, train_targets, \n",
    "          validation_data=(valid_network, valid_targets),\n",
    "          epochs=20, batch_size=20, callbacks=[checkpointer], verbose=1)"
   ]
  },
  {
   "cell_type": "markdown",
   "metadata": {},
   "source": [
    "### (IMPLEMENTATION) Load the Model with the Best Validation Loss"
   ]
  },
  {
   "cell_type": "code",
   "execution_count": null,
   "metadata": {
    "collapsed": true
   },
   "outputs": [],
   "source": [
    "### TODO: Load the model weights with the best validation loss.\n",
    "\n",
    "network_model.load_weights('saved_models/weights.best.network.hdf5')"
   ]
  },
  {
   "cell_type": "markdown",
   "metadata": {},
   "source": [
    "### (IMPLEMENTATION) Test the Model\n",
    "\n",
    "Try out your model on the test dataset of dog images. Ensure that your test accuracy is greater than 60%."
   ]
  },
  {
   "cell_type": "code",
   "execution_count": null,
   "metadata": {},
   "outputs": [],
   "source": [
    "### TODO: Calculate classification accuracy on the test dataset.\n",
    "\n",
    "# get index of predicted dog breed for each image in test set\n",
    "network_predictions = [np.argmax(network_model.predict(np.expand_dims(feature, axis=0))) for feature in test_network]\n",
    "\n",
    "# report test accuracy\n",
    "test_accuracy = 100*np.sum(np.array(network_predictions)==np.argmax(test_targets, axis=1))/len(network_predictions)\n",
    "print('Test accuracy: %.4f%%' % test_accuracy)"
   ]
  },
  {
   "cell_type": "markdown",
   "metadata": {},
   "source": [
    "### (IMPLEMENTATION) Predict Dog Breed with the Model\n",
    "\n",
    "Write a function that takes an image path as input and returns the dog breed (`Affenpinscher`, `Afghan_hound`, etc) that is predicted by your model.  \n",
    "\n",
    "Similar to the analogous function in Step 5, your function should have three steps:\n",
    "1. Extract the bottleneck features corresponding to the chosen CNN model.\n",
    "2. Supply the bottleneck features as input to the model to return the predicted vector.  Note that the argmax of this prediction vector gives the index of the predicted dog breed.\n",
    "3. Use the `dog_names` array defined in Step 0 of this notebook to return the corresponding breed.\n",
    "\n",
    "The functions to extract the bottleneck features can be found in `extract_bottleneck_features.py`, and they have been imported in an earlier code cell.  To obtain the bottleneck features corresponding to your chosen CNN architecture, you need to use the function\n",
    "\n",
    "    extract_{network}\n",
    "    \n",
    "where `{network}`, in the above filename, should be one of `VGG19`, `Resnet50`, `InceptionV3`, or `Xception`."
   ]
  },
  {
   "cell_type": "code",
   "execution_count": null,
   "metadata": {
    "collapsed": true
   },
   "outputs": [],
   "source": [
    "### TODO: Write a function that takes a path to an image as input\n",
    "### and returns the dog breed that is predicted by the model.\n",
    "\n",
    "from extract_bottleneck_features import *\n",
    "\n",
    "#We only make one extra model for saving memory and computation time for this homework\n",
    "VGG19_model = network_model\n",
    "Resnet50_model = network_model\n",
    "InceptionV3_model = network_model\n",
    "Xception_model = network_model\n",
    "\n",
    "network2func = {\"VGG19\":extract_VGG19, \"Resnet50\":extract_Resnet50,\n",
    "               \"InceptionV3\":extract_InceptionV3, \"Xception\": extract_Xception}\n",
    "models = {\"VGG19\":VGG19_model, \"Resnet50\":Resnet50_model,\n",
    "               \"InceptionV3\":InceptionV3_model, \"Xception\": Xception_model}\n",
    "\n",
    "def predict_dog_breed(img_path, network = \"Resnet50\"):\n",
    "    # extract bottleneck features\n",
    "    bottleneck_feature = network2func[network](path_to_tensor(img_path))\n",
    "    # obtain predicted vector\n",
    "    predicted_vector = models[network].predict(bottleneck_feature)\n",
    "    # return dog breed that is predicted by the model\n",
    "    return dog_names[np.argmax(predicted_vector)]"
   ]
  },
  {
   "cell_type": "markdown",
   "metadata": {},
   "source": [
    "---\n",
    "<a id='step6'></a>\n",
    "## Step 6: Write your Algorithm\n",
    "\n",
    "Write an algorithm that accepts a file path to an image and first determines whether the image contains a human, dog, or neither.  Then,\n",
    "- if a __dog__ is detected in the image, return the predicted breed.\n",
    "- if a __human__ is detected in the image, return the resembling dog breed.\n",
    "- if __neither__ is detected in the image, provide output that indicates an error.\n",
    "\n",
    "You are welcome to write your own functions for detecting humans and dogs in images, but feel free to use the `face_detector` and `dog_detector` functions developed above.  You are __required__ to use your CNN from Step 5 to predict dog breed.  \n",
    "\n",
    "Some sample output for our algorithm is provided below, but feel free to design your own user experience!\n",
    "\n",
    "![Sample Human Output](images/sample_human_output.png)\n",
    "\n",
    "\n",
    "### (IMPLEMENTATION) Write your Algorithm"
   ]
  },
  {
   "cell_type": "code",
   "execution_count": 81,
   "metadata": {
    "collapsed": true
   },
   "outputs": [],
   "source": [
    "### TODO: Write your algorithm.\n",
    "### Feel free to use as many code cells as needed.\n",
    "\n",
    "def human_dog_detector(img_path):\n",
    "    breed = FALSE\n",
    "    \n",
    "    if (face_detector(img_path)):\n",
    "        breed = predict_dog_breed(img_path)\n",
    "    elif (dog_detector(img_path)):\n",
    "        breed = predict_dog_breed(img_path)\n",
    "    else:\n",
    "        breed = FALSE\n",
    "        \n",
    "    return breed"
   ]
  },
  {
   "cell_type": "markdown",
   "metadata": {},
   "source": [
    "---\n",
    "<a id='step7'></a>\n",
    "## Step 7: Test Your Algorithm\n",
    "\n",
    "In this section, you will take your new algorithm for a spin!  What kind of dog does the algorithm think that __you__ look like?  If you have a dog, does it predict your dog's breed accurately?  If you have a cat, does it mistakenly think that your cat is a dog?\n",
    "\n",
    "### (IMPLEMENTATION) Test Your Algorithm on Sample Images!\n",
    "\n",
    "Test your algorithm at least six images on your computer.  Feel free to use any images you like.  Use at least two human and two dog images.  \n",
    "\n",
    "__Question 6:__ Is the output better than you expected :) ?  Or worse :( ?  Provide at least three possible points of improvement for your algorithm.\n",
    "\n",
    "__Answer:__ "
   ]
  },
  {
   "cell_type": "code",
   "execution_count": null,
   "metadata": {
    "collapsed": true
   },
   "outputs": [],
   "source": [
    "## TODO: Execute your algorithm from Step 6 on\n",
    "## at least 6 images on your computer.\n",
    "## Feel free to use as many code cells as needed.\n",
    "\n",
    "test_images = [\"\", \"\", \"\", \"\", \"\", \"\"]\n",
    "\n",
    "for test_image in test_images:\n",
    "    breed = human_dog_detector(test_image)\n",
    "    if (breed):\n",
    "        print(\"Hi %s\"% breed)"
   ]
  }
 ],
 "metadata": {
  "anaconda-cloud": {},
  "kernelspec": {
   "display_name": "Python 3",
   "language": "python",
   "name": "python3"
  },
  "language_info": {
   "codemirror_mode": {
    "name": "ipython",
    "version": 3
   },
   "file_extension": ".py",
   "mimetype": "text/x-python",
   "name": "python",
   "nbconvert_exporter": "python",
   "pygments_lexer": "ipython3",
   "version": "3.6.2"
  }
 },
 "nbformat": 4,
 "nbformat_minor": 1
}
